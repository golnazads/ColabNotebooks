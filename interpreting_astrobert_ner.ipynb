{
  "cells": [
    {
      "cell_type": "markdown",
      "metadata": {
        "id": "view-in-github",
        "colab_type": "text"
      },
      "source": [
        "<a href=\"https://colab.research.google.com/github/golnazads/ColabNotebooks/blob/main/interpreting_astrobert_ner.ipynb\" target=\"_parent\"><img src=\"https://colab.research.google.com/assets/colab-badge.svg\" alt=\"Open In Colab\"/></a>"
      ]
    },
    {
      "cell_type": "markdown",
      "metadata": {
        "id": "57CoOcAUKwXB"
      },
      "source": [
        "# Interpreting AstroBERT NER with LIME\n"
      ]
    },
    {
      "cell_type": "markdown",
      "metadata": {
        "id": "GC_8MMDfKwXG"
      },
      "source": [
        "## Installation\n",
        "\n",
        "ELI5 (Explain Like I am 5-year-old) is a Python package which provides visualization capabilities for machine learning interpretation tools, including LIME.\n"
      ]
    },
    {
      "cell_type": "code",
      "source": [
        "!pip install transformers\n",
        "!pip install eli5"
      ],
      "metadata": {
        "id": "QMsqCNslK1cn",
        "colab": {
          "base_uri": "https://localhost:8080/"
        },
        "outputId": "056b7713-d38d-4602-a246-90f8dc8381b7"
      },
      "execution_count": null,
      "outputs": [
        {
          "output_type": "stream",
          "name": "stdout",
          "text": [
            "Requirement already satisfied: transformers in /usr/local/lib/python3.10/dist-packages (4.32.1)\n",
            "Requirement already satisfied: filelock in /usr/local/lib/python3.10/dist-packages (from transformers) (3.12.2)\n",
            "Requirement already satisfied: huggingface-hub<1.0,>=0.15.1 in /usr/local/lib/python3.10/dist-packages (from transformers) (0.16.4)\n",
            "Requirement already satisfied: numpy>=1.17 in /usr/local/lib/python3.10/dist-packages (from transformers) (1.23.5)\n",
            "Requirement already satisfied: packaging>=20.0 in /usr/local/lib/python3.10/dist-packages (from transformers) (23.1)\n",
            "Requirement already satisfied: pyyaml>=5.1 in /usr/local/lib/python3.10/dist-packages (from transformers) (6.0.1)\n",
            "Requirement already satisfied: regex!=2019.12.17 in /usr/local/lib/python3.10/dist-packages (from transformers) (2023.6.3)\n",
            "Requirement already satisfied: requests in /usr/local/lib/python3.10/dist-packages (from transformers) (2.31.0)\n",
            "Requirement already satisfied: tokenizers!=0.11.3,<0.14,>=0.11.1 in /usr/local/lib/python3.10/dist-packages (from transformers) (0.13.3)\n",
            "Requirement already satisfied: safetensors>=0.3.1 in /usr/local/lib/python3.10/dist-packages (from transformers) (0.3.3)\n",
            "Requirement already satisfied: tqdm>=4.27 in /usr/local/lib/python3.10/dist-packages (from transformers) (4.66.1)\n",
            "Requirement already satisfied: fsspec in /usr/local/lib/python3.10/dist-packages (from huggingface-hub<1.0,>=0.15.1->transformers) (2023.6.0)\n",
            "Requirement already satisfied: typing-extensions>=3.7.4.3 in /usr/local/lib/python3.10/dist-packages (from huggingface-hub<1.0,>=0.15.1->transformers) (4.7.1)\n",
            "Requirement already satisfied: charset-normalizer<4,>=2 in /usr/local/lib/python3.10/dist-packages (from requests->transformers) (3.2.0)\n",
            "Requirement already satisfied: idna<4,>=2.5 in /usr/local/lib/python3.10/dist-packages (from requests->transformers) (3.4)\n",
            "Requirement already satisfied: urllib3<3,>=1.21.1 in /usr/local/lib/python3.10/dist-packages (from requests->transformers) (2.0.4)\n",
            "Requirement already satisfied: certifi>=2017.4.17 in /usr/local/lib/python3.10/dist-packages (from requests->transformers) (2023.7.22)\n",
            "Requirement already satisfied: eli5 in /usr/local/lib/python3.10/dist-packages (0.13.0)\n",
            "Requirement already satisfied: attrs>17.1.0 in /usr/local/lib/python3.10/dist-packages (from eli5) (23.1.0)\n",
            "Requirement already satisfied: jinja2>=3.0.0 in /usr/local/lib/python3.10/dist-packages (from eli5) (3.1.2)\n",
            "Requirement already satisfied: numpy>=1.9.0 in /usr/local/lib/python3.10/dist-packages (from eli5) (1.23.5)\n",
            "Requirement already satisfied: scipy in /usr/local/lib/python3.10/dist-packages (from eli5) (1.10.1)\n",
            "Requirement already satisfied: six in /usr/local/lib/python3.10/dist-packages (from eli5) (1.16.0)\n",
            "Requirement already satisfied: scikit-learn>=0.20 in /usr/local/lib/python3.10/dist-packages (from eli5) (1.2.2)\n",
            "Requirement already satisfied: graphviz in /usr/local/lib/python3.10/dist-packages (from eli5) (0.20.1)\n",
            "Requirement already satisfied: tabulate>=0.7.7 in /usr/local/lib/python3.10/dist-packages (from eli5) (0.9.0)\n",
            "Requirement already satisfied: MarkupSafe>=2.0 in /usr/local/lib/python3.10/dist-packages (from jinja2>=3.0.0->eli5) (2.1.3)\n",
            "Requirement already satisfied: joblib>=1.1.1 in /usr/local/lib/python3.10/dist-packages (from scikit-learn>=0.20->eli5) (1.3.2)\n",
            "Requirement already satisfied: threadpoolctl>=2.0.0 in /usr/local/lib/python3.10/dist-packages (from scikit-learn>=0.20->eli5) (3.2.0)\n"
          ]
        }
      ]
    },
    {
      "cell_type": "markdown",
      "source": [
        "## deprecated 'itemfreq' function, called from eli5 library, monkey patch\n",
        "\n",
        "source: https://stackoverflow.com/questions/73556675/issue-with-importing-textexplainer-from-eli5-lime-package-relating-to-deprecated"
      ],
      "metadata": {
        "id": "_mYzwZIvgvcq"
      }
    },
    {
      "cell_type": "code",
      "source": [
        "import scipy\n",
        "import numpy as np\n",
        "def monkeypath_itemfreq(sampler_indices):\n",
        "   return zip(*np.unique(sampler_indices, return_counts=True))\n",
        "\n",
        "scipy.stats.itemfreq=monkeypath_itemfreq"
      ],
      "metadata": {
        "id": "lqZAFRoOgv4U"
      },
      "execution_count": null,
      "outputs": []
    },
    {
      "cell_type": "markdown",
      "metadata": {
        "id": "zVEkSqcmKwXM"
      },
      "source": [
        "## Import AstroBERT NER model"
      ]
    },
    {
      "cell_type": "code",
      "execution_count": null,
      "metadata": {
        "id": "Zwwb2Cd7KwXN"
      },
      "outputs": [],
      "source": [
        "from transformers import AutoModelForTokenClassification, AutoTokenizer\n",
        "\n",
        "# load astroBERT for NER-DEAL\n",
        "remote_model_path = 'adsabs/astroBERT'\n",
        "revision = 'NER-DEAL'\n",
        "\n",
        "model = AutoModelForTokenClassification.from_pretrained(pretrained_model_name_or_path=remote_model_path, revision=revision)\n",
        "tokenizer = AutoTokenizer.from_pretrained(pretrained_model_name_or_path=remote_model_path, add_special_tokens=True, do_lower_case=False)"
      ]
    },
    {
      "cell_type": "markdown",
      "metadata": {
        "id": "0DpEuCkiKwXP"
      },
      "source": [
        "Display all possible entity tags that this model classifies each token into:"
      ]
    },
    {
      "cell_type": "code",
      "execution_count": null,
      "metadata": {
        "colab": {
          "base_uri": "https://localhost:8080/"
        },
        "id": "WqpT9MAoKwXX",
        "outputId": "fc54fa9c-8a1a-4def-9757-3a999310eb52"
      },
      "outputs": [
        {
          "output_type": "execute_result",
          "data": {
            "text/plain": [
              "{0: 'B-Archive',\n",
              " 1: 'B-CelestialObject',\n",
              " 2: 'B-CelestialObjectRegion',\n",
              " 3: 'B-CelestialRegion',\n",
              " 4: 'B-Citation',\n",
              " 5: 'B-Collaboration',\n",
              " 6: 'B-ComputingFacility',\n",
              " 7: 'B-Database',\n",
              " 8: 'B-Dataset',\n",
              " 9: 'B-EntityOfFutureInterest',\n",
              " 10: 'B-Event',\n",
              " 11: 'B-Fellowship',\n",
              " 12: 'B-Formula',\n",
              " 13: 'B-Grant',\n",
              " 14: 'B-Identifier',\n",
              " 15: 'B-Instrument',\n",
              " 16: 'B-Location',\n",
              " 17: 'B-Mission',\n",
              " 18: 'B-Model',\n",
              " 19: 'B-ObservationalTechniques',\n",
              " 20: 'B-Observatory',\n",
              " 21: 'B-Organization',\n",
              " 22: 'B-Person',\n",
              " 23: 'B-Proposal',\n",
              " 24: 'B-Software',\n",
              " 25: 'B-Survey',\n",
              " 26: 'B-Tag',\n",
              " 27: 'B-Telescope',\n",
              " 28: 'B-TextGarbage',\n",
              " 29: 'B-URL',\n",
              " 30: 'B-Wavelength',\n",
              " 31: 'I-Archive',\n",
              " 32: 'I-CelestialObject',\n",
              " 33: 'I-CelestialObjectRegion',\n",
              " 34: 'I-CelestialRegion',\n",
              " 35: 'I-Citation',\n",
              " 36: 'I-Collaboration',\n",
              " 37: 'I-ComputingFacility',\n",
              " 38: 'I-Database',\n",
              " 39: 'I-Dataset',\n",
              " 40: 'I-EntityOfFutureInterest',\n",
              " 41: 'I-Event',\n",
              " 42: 'I-Fellowship',\n",
              " 43: 'I-Formula',\n",
              " 44: 'I-Grant',\n",
              " 45: 'I-Identifier',\n",
              " 46: 'I-Instrument',\n",
              " 47: 'I-Location',\n",
              " 48: 'I-Mission',\n",
              " 49: 'I-Model',\n",
              " 50: 'I-ObservationalTechniques',\n",
              " 51: 'I-Observatory',\n",
              " 52: 'I-Organization',\n",
              " 53: 'I-Person',\n",
              " 54: 'I-Proposal',\n",
              " 55: 'I-Software',\n",
              " 56: 'I-Survey',\n",
              " 57: 'I-Tag',\n",
              " 58: 'I-Telescope',\n",
              " 59: 'I-TextGarbage',\n",
              " 60: 'I-URL',\n",
              " 61: 'I-Wavelength',\n",
              " 62: 'O'}"
            ]
          },
          "metadata": {},
          "execution_count": 4
        }
      ],
      "source": [
        "id2lable = model.config.id2label\n",
        "id2lable"
      ]
    },
    {
      "cell_type": "markdown",
      "source": [
        "## Create a pipeline and see a tagged example"
      ],
      "metadata": {
        "id": "QT2iUUfyXljn"
      }
    },
    {
      "cell_type": "code",
      "source": [
        "from transformers import TokenClassificationPipeline\n",
        "\n",
        "pipeline = TokenClassificationPipeline(model=model, tokenizer=tokenizer, task='astroBERT NER_DEAL', aggregation_strategy='average', ignore_labels=['O'])"
      ],
      "metadata": {
        "id": "Cx9MhN76XkJV"
      },
      "execution_count": null,
      "outputs": []
    },
    {
      "cell_type": "code",
      "source": [
        "example = \"The VLT telescope in Chile captured an image of the Tarantula Nebula in the Large Magellanic Cloud galaxy.\"\n",
        "results = pipeline(example)\n",
        "for result in results:\n",
        "  print(result)"
      ],
      "metadata": {
        "colab": {
          "base_uri": "https://localhost:8080/"
        },
        "id": "4gqxT6tZfxHz",
        "outputId": "519f3666-8a57-4687-c8fa-876571f47ed9"
      },
      "execution_count": null,
      "outputs": [
        {
          "output_type": "stream",
          "name": "stderr",
          "text": [
            "Asking to truncate to max_length but no maximum length is provided and the model has no predefined maximum length. Default to no truncation.\n"
          ]
        },
        {
          "output_type": "stream",
          "name": "stdout",
          "text": [
            "{'entity_group': 'Telescope', 'score': 0.556757, 'word': 'The', 'start': 0, 'end': 3}\n",
            "{'entity_group': 'Telescope', 'score': 0.84752667, 'word': 'VLT telescope', 'start': 4, 'end': 17}\n",
            "{'entity_group': 'Location', 'score': 0.5440941, 'word': 'Chile', 'start': 21, 'end': 26}\n",
            "{'entity_group': 'CelestialObject', 'score': 0.69072115, 'word': 'Tarantula Nebula', 'start': 52, 'end': 68}\n",
            "{'entity_group': 'CelestialObject', 'score': 0.73234534, 'word': 'Large Magellanic Cloud', 'start': 76, 'end': 98}\n"
          ]
        }
      ]
    },
    {
      "cell_type": "markdown",
      "source": [
        "## Defining the Interface with LIME\n",
        "\n",
        "To be able to use LIME, need to frame the NER task as a multiclass classification problem for a specific word. get_predict_function allows selecting a word ahead of time to focus on. It configures prediction to output probabilities for only that word's tags. This transforms NER into a simplified per-word classification that LIME can explain."
      ],
      "metadata": {
        "id": "O_vy-4ynf3_D"
      }
    },
    {
      "cell_type": "code",
      "source": [
        "import torch\n",
        "\n",
        "class NERExplainer:\n",
        "  def __init__(self, tokenizer, model):\n",
        "    self.tokenizer = tokenizer\n",
        "    self.model = model\n",
        "\n",
        "  def preprocess(self, texts):\n",
        "    encoded = self.tokenizer(texts, padding=True, truncation=True, return_tensors=\"pt\")\n",
        "    return encoded\n",
        "\n",
        "  def get_predict_function(self, word_idx):\n",
        "    def predict(texts):\n",
        "      encodings = self.preprocess(texts)\n",
        "      logits = model(**encodings)[0]\n",
        "      probabilities = torch.nn.functional.softmax(logits[:, word_idx], dim=-1)\n",
        "      return probabilities.detach().numpy()\n",
        "    return predict"
      ],
      "metadata": {
        "id": "ZjKH1zZJgD9S"
      },
      "execution_count": null,
      "outputs": []
    },
    {
      "cell_type": "markdown",
      "metadata": {
        "id": "jYS4J8u8KwXY"
      },
      "source": [
        "## Create and configure the explainers"
      ]
    },
    {
      "cell_type": "code",
      "execution_count": null,
      "metadata": {
        "id": "wxYSuL34KwXa"
      },
      "outputs": [],
      "source": [
        "from eli5.lime import TextExplainer\n",
        "from eli5.lime.samplers import MaskingTextSampler\n",
        "\n",
        "ner_explainer= NERExplainer(tokenizer, model)\n",
        "\n",
        "# generates modified versions of the input text where specified words or phrases are substituted with a placeholder symbol (ie, UNK).\n",
        "# These perturb inputs are then provided to the model to assess how the prediction varys from the initial unaltered text.\n",
        "# Through examining how masking particular portions of the input affects the prediction, LIME can determine which words and phrases\n",
        "# hold the most sway over the model's decisions.\n",
        "# LIME tries various combination to pinpoint the most significant text segments for explaining the model's choices.\n",
        "# max_replace controls the maximum number of words/tokens that can be masked out at once\n",
        "sampler = MaskingTextSampler(replacement=\"UNK\", max_replace=0.7, token_pattern=None, bow=False)\n",
        "# this controls how it selects which words/phrases to mask when creating masked versions of the input text (ie, example)\n",
        "# n_samples controls the contextual words sampled around each important word\n",
        "samples, similarity = sampler.sample_near(example, n_samples=2)\n",
        "# LIME explainer\n",
        "text_explainer = TextExplainer(n_samples=400, sampler=sampler, position_dependent=True, random_state=42)\n",
        "\n",
        "# get explaination for the fifth token, Chile\n",
        "word_idx=5\n",
        "predict_function = ner_explainer.get_predict_function(word_idx)"
      ]
    },
    {
      "cell_type": "markdown",
      "source": [
        "## Run the example with the explainer"
      ],
      "metadata": {
        "id": "hb2aNMJNgeDS"
      }
    },
    {
      "cell_type": "code",
      "source": [
        "text_explainer.fit(example, predict_function)\n",
        "text_explainer.explain_prediction(target_names=list(model.config.id2label.values()),top_targets=word_idx)"
      ],
      "metadata": {
        "colab": {
          "base_uri": "https://localhost:8080/",
          "height": 840
        },
        "id": "pV8QIoRFgjC_",
        "outputId": "054bad45-782b-4be3-a549-411c86995a54"
      },
      "execution_count": null,
      "outputs": [
        {
          "output_type": "stream",
          "name": "stderr",
          "text": [
            "/usr/local/lib/python3.10/dist-packages/sklearn/linear_model/_stochastic_gradient.py:163: FutureWarning: The loss 'log' was deprecated in v1.1 and will be removed in version 1.3. Use `loss='log_loss'` which is equivalent.\n",
            "  warnings.warn(\n"
          ]
        },
        {
          "output_type": "execute_result",
          "data": {
            "text/plain": [
              "Explanation(estimator=\"SGDClassifier(alpha=0.001, loss='log', penalty='elasticnet',\\n              random_state=RandomState(MT19937) at 0x7C9B7AAFE040)\", description=None, error=None, method='linear model', is_regression=False, targets=[TargetExplanation(target='B-Location', feature_weights=FeatureWeights(pos=[FeatureWeight(feature='[0] The', weight=3.4351578977733843, std=None, value=1.0), FeatureWeight(feature='[3] in', weight=3.298119176684251, std=None, value=1.0), FeatureWeight(feature='[1] VLT', weight=3.2725869019301914, std=None, value=1.0), FeatureWeight(feature='[2] telescope', weight=2.8000595627418012, std=None, value=1.0), FeatureWeight(feature='[4] Chile', weight=2.028624036546803, std=None, value=1.0), FeatureWeight(feature='[9] the', weight=0.917087763592014, std=None, value=1.0), FeatureWeight(feature='[14] Large', weight=0.6047956176591142, std=None, value=1.0), FeatureWeight(feature='[16] Cloud', weight=0.47865955835407425, std=None, value=1.0), FeatureWeight(feature='[13] the', weight=0.4585717830884205, std=None, value=1.0), FeatureWeight(feature='[10] Tarantula', weight=0.3862554667875852, std=None, value=1.0), FeatureWeight(feature='[17] galaxy', weight=0.31773218065026315, std=None, value=1.0), FeatureWeight(feature='[8] of', weight=0.26528045537476946, std=None, value=1.0), FeatureWeight(feature='[5] captured', weight=0.25854017999839285, std=None, value=1.0), FeatureWeight(feature='[6] an', weight=0.09308721840002544, std=None, value=1.0)], neg=[FeatureWeight(feature='<BIAS>', weight=-18.155254750636296, std=None, value=1.0), FeatureWeight(feature='[7] image', weight=-0.15369599253397195, std=None, value=1.0)], pos_remaining=0, neg_remaining=0), proba=0.41949596317433685, score=0.30560705641082464, weighted_spans=WeightedSpans(docs_weighted_spans=[DocWeightedSpans(document='The VLT telescope in Chile captured an image of the Tarantula Nebula in the Large Magellanic Cloud galaxy.', spans=[('The', [(0, 3)], 3.4351578977733843), ('VLT', [(4, 7)], 3.2725869019301914), ('telescope', [(8, 17)], 2.8000595627418012), ('in', [(18, 20)], 3.298119176684251), ('Chile', [(21, 26)], 2.028624036546803), ('captured', [(27, 35)], 0.25854017999839285), ('an', [(36, 38)], 0.09308721840002544), ('image', [(39, 44)], -0.15369599253397195), ('of', [(45, 47)], 0.26528045537476946), ('the', [(48, 51)], 0.917087763592014), ('Tarantula', [(52, 61)], 0.3862554667875852), ('the', [(72, 75)], 0.4585717830884205), ('Large', [(76, 81)], 0.6047956176591142), ('Cloud', [(93, 98)], 0.47865955835407425), ('galaxy', [(99, 105)], 0.31773218065026315)], preserve_density=False, vec_name=None)], other=FeatureWeights(pos=[FeatureWeight(feature=<FormattedFeatureName 'Highlighted in text (sum)'>, weight=18.46086180704712, std=None, value=None)], neg=[FeatureWeight(feature='<BIAS>', weight=-18.155254750636296, std=None, value=1.0)], pos_remaining=0, neg_remaining=0)), heatmap=None), TargetExplanation(target='O', feature_weights=FeatureWeights(pos=[FeatureWeight(feature='<BIAS>', weight=1.663246244340726, std=None, value=1.0), FeatureWeight(feature='[2] telescope', weight=0.3711904685977632, std=None, value=1.0), FeatureWeight(feature='[17] galaxy', weight=0.32468909021209863, std=None, value=1.0), FeatureWeight(feature='[6] an', weight=0.219365463955904, std=None, value=1.0), FeatureWeight(feature='[16] Cloud', weight=0.19421297500026935, std=None, value=1.0), FeatureWeight(feature='[14] Large', weight=0.03429290428346383, std=None, value=1.0)], neg=[FeatureWeight(feature='[1] VLT', weight=-1.0146240100557338, std=None, value=1.0), FeatureWeight(feature='[4] Chile', weight=-0.9864199879941898, std=None, value=1.0), FeatureWeight(feature='[0] The', weight=-0.7089345393723284, std=None, value=1.0), FeatureWeight(feature='[13] the', weight=-0.39328771589109873, std=None, value=1.0), FeatureWeight(feature='[8] of', weight=-0.22881893320557736, std=None, value=1.0), FeatureWeight(feature='[12] in', weight=-0.15022625398869902, std=None, value=1.0), FeatureWeight(feature='[11] Nebula', weight=-0.14142325782942242, std=None, value=1.0), FeatureWeight(feature='[7] image', weight=-0.1409354293870433, std=None, value=1.0), FeatureWeight(feature='[10] Tarantula', weight=-0.12092777914019243, std=None, value=1.0), FeatureWeight(feature='[15] Magellanic', weight=-0.07807481169321176, std=None, value=1.0), FeatureWeight(feature='[5] captured', weight=-0.06176318873963673, std=None, value=1.0), FeatureWeight(feature='[9] the', weight=-0.028682804283689807, std=None, value=1.0)], pos_remaining=0, neg_remaining=0), proba=0.16260671149985573, score=-1.2471215651905985, weighted_spans=WeightedSpans(docs_weighted_spans=[DocWeightedSpans(document='The VLT telescope in Chile captured an image of the Tarantula Nebula in the Large Magellanic Cloud galaxy.', spans=[('The', [(0, 3)], -0.7089345393723284), ('VLT', [(4, 7)], -1.0146240100557338), ('telescope', [(8, 17)], 0.3711904685977632), ('Chile', [(21, 26)], -0.9864199879941898), ('captured', [(27, 35)], -0.06176318873963673), ('an', [(36, 38)], 0.219365463955904), ('image', [(39, 44)], -0.1409354293870433), ('of', [(45, 47)], -0.22881893320557736), ('the', [(48, 51)], -0.028682804283689807), ('Tarantula', [(52, 61)], -0.12092777914019243), ('Nebula', [(62, 68)], -0.14142325782942242), ('in', [(69, 71)], -0.15022625398869902), ('the', [(72, 75)], -0.39328771589109873), ('Large', [(76, 81)], 0.03429290428346383), ('Magellanic', [(82, 92)], -0.07807481169321176), ('Cloud', [(93, 98)], 0.19421297500026935), ('galaxy', [(99, 105)], 0.32468909021209863)], preserve_density=False, vec_name=None)], other=FeatureWeights(pos=[FeatureWeight(feature='<BIAS>', weight=1.663246244340726, std=None, value=1.0)], neg=[FeatureWeight(feature=<FormattedFeatureName 'Highlighted in text (sum)'>, weight=-2.9103678095313246, std=None, value=None)], pos_remaining=0, neg_remaining=0)), heatmap=None), TargetExplanation(target='I-Location', feature_weights=FeatureWeights(pos=[FeatureWeight(feature='[3] in', weight=1.3667473776027181, std=None, value=1.0), FeatureWeight(feature='[4] Chile', weight=1.0878162587733224, std=None, value=1.0), FeatureWeight(feature='[1] VLT', weight=0.804555127892548, std=None, value=1.0), FeatureWeight(feature='[0] The', weight=0.5549967014164583, std=None, value=1.0), FeatureWeight(feature='[2] telescope', weight=0.48402359067955303, std=None, value=1.0), FeatureWeight(feature='[9] the', weight=0.4117230193235899, std=None, value=1.0), FeatureWeight(feature='[16] Cloud', weight=0.27873526853357244, std=None, value=1.0), FeatureWeight(feature='[15] Magellanic', weight=0.25021515836766817, std=None, value=1.0), FeatureWeight(feature='[6] an', weight=0.24222251519725138, std=None, value=1.0), FeatureWeight(feature='[17] galaxy', weight=0.23356347112168765, std=None, value=1.0), FeatureWeight(feature='[14] Large', weight=0.09649312237232284, std=None, value=1.0)], neg=[FeatureWeight(feature='<BIAS>', weight=-6.919658583473159, std=None, value=1.0), FeatureWeight(feature='[8] of', weight=-0.3285326189586253, std=None, value=1.0), FeatureWeight(feature='[10] Tarantula', weight=-0.18553966229164304, std=None, value=1.0), FeatureWeight(feature='[5] captured', weight=-0.03366386387551855, std=None, value=1.0)], pos_remaining=0, neg_remaining=0), proba=0.11675317805463342, score=-1.6563031173182532, weighted_spans=WeightedSpans(docs_weighted_spans=[DocWeightedSpans(document='The VLT telescope in Chile captured an image of the Tarantula Nebula in the Large Magellanic Cloud galaxy.', spans=[('The', [(0, 3)], 0.5549967014164583), ('VLT', [(4, 7)], 0.804555127892548), ('telescope', [(8, 17)], 0.48402359067955303), ('in', [(18, 20)], 1.3667473776027181), ('Chile', [(21, 26)], 1.0878162587733224), ('captured', [(27, 35)], -0.03366386387551855), ('an', [(36, 38)], 0.24222251519725138), ('of', [(45, 47)], -0.3285326189586253), ('the', [(48, 51)], 0.4117230193235899), ('Tarantula', [(52, 61)], -0.18553966229164304), ('Large', [(76, 81)], 0.09649312237232284), ('Magellanic', [(82, 92)], 0.25021515836766817), ('Cloud', [(93, 98)], 0.27873526853357244), ('galaxy', [(99, 105)], 0.23356347112168765)], preserve_density=False, vec_name=None)], other=FeatureWeights(pos=[FeatureWeight(feature=<FormattedFeatureName 'Highlighted in text (sum)'>, weight=5.263355466154906, std=None, value=None)], neg=[FeatureWeight(feature='<BIAS>', weight=-6.919658583473159, std=None, value=1.0)], pos_remaining=0, neg_remaining=0)), heatmap=None), TargetExplanation(target='I-Telescope', feature_weights=FeatureWeights(pos=[FeatureWeight(feature='[7] image', weight=1.066024990942919, std=None, value=1.0), FeatureWeight(feature='[8] of', weight=0.6026903559934019, std=None, value=1.0), FeatureWeight(feature='[5] captured', weight=0.5589759889598134, std=None, value=1.0), FeatureWeight(feature='[4] Chile', weight=0.5113108980537661, std=None, value=1.0), FeatureWeight(feature='[11] Nebula', weight=0.32363923848955983, std=None, value=1.0), FeatureWeight(feature='[10] Tarantula', weight=0.3212807301054744, std=None, value=1.0), FeatureWeight(feature='[2] telescope', weight=0.2869123158912237, std=None, value=1.0), FeatureWeight(feature='[3] in', weight=0.11908433056109986, std=None, value=1.0), FeatureWeight(feature='[15] Magellanic', weight=0.10195121201523798, std=None, value=1.0), FeatureWeight(feature='[14] Large', weight=0.08832346767904378, std=None, value=1.0), FeatureWeight(feature='[13] the', weight=0.08827710147009385, std=None, value=1.0), FeatureWeight(feature='[12] in', weight=0.05220516731439365, std=None, value=1.0)], neg=[FeatureWeight(feature='<BIAS>', weight=-4.313090353993031, std=None, value=1.0), FeatureWeight(feature='[0] The', weight=-0.843690398634399, std=None, value=1.0), FeatureWeight(feature='[17] galaxy', weight=-0.44384261716037454, std=None, value=1.0), FeatureWeight(feature='[1] VLT', weight=-0.264109635316326, std=None, value=1.0), FeatureWeight(feature='[6] an', weight=-0.04282213203112322, std=None, value=1.0), FeatureWeight(feature='[16] Cloud', weight=-0.04024651542244412, std=None, value=1.0), FeatureWeight(feature='[9] the', weight=-0.03959138363493313, std=None, value=1.0)], pos_remaining=0, neg_remaining=0), proba=0.09756602168760738, score=-1.8667172387166038, weighted_spans=WeightedSpans(docs_weighted_spans=[DocWeightedSpans(document='The VLT telescope in Chile captured an image of the Tarantula Nebula in the Large Magellanic Cloud galaxy.', spans=[('The', [(0, 3)], -0.843690398634399), ('VLT', [(4, 7)], -0.264109635316326), ('telescope', [(8, 17)], 0.2869123158912237), ('in', [(18, 20)], 0.11908433056109986), ('Chile', [(21, 26)], 0.5113108980537661), ('captured', [(27, 35)], 0.5589759889598134), ('an', [(36, 38)], -0.04282213203112322), ('image', [(39, 44)], 1.066024990942919), ('of', [(45, 47)], 0.6026903559934019), ('the', [(48, 51)], -0.03959138363493313), ('Tarantula', [(52, 61)], 0.3212807301054744), ('Nebula', [(62, 68)], 0.32363923848955983), ('in', [(69, 71)], 0.05220516731439365), ('the', [(72, 75)], 0.08827710147009385), ('Large', [(76, 81)], 0.08832346767904378), ('Magellanic', [(82, 92)], 0.10195121201523798), ('Cloud', [(93, 98)], -0.04024651542244412), ('galaxy', [(99, 105)], -0.44384261716037454)], preserve_density=False, vec_name=None)], other=FeatureWeights(pos=[FeatureWeight(feature=<FormattedFeatureName 'Highlighted in text (sum)'>, weight=2.4463731152764274, std=None, value=None)], neg=[FeatureWeight(feature='<BIAS>', weight=-4.313090353993031, std=None, value=1.0)], pos_remaining=0, neg_remaining=0)), heatmap=None), TargetExplanation(target='I-Observatory', feature_weights=FeatureWeights(pos=[FeatureWeight(feature='[4] Chile', weight=1.6484305122847993, std=None, value=1.0), FeatureWeight(feature='[1] VLT', weight=1.490666370168749, std=None, value=1.0), FeatureWeight(feature='[0] The', weight=0.8792898598325586, std=None, value=1.0), FeatureWeight(feature='[2] telescope', weight=0.7184497630855438, std=None, value=1.0), FeatureWeight(feature='[7] image', weight=0.30285165857129, std=None, value=1.0), FeatureWeight(feature='[5] captured', weight=0.23225129811972264, std=None, value=1.0), FeatureWeight(feature='[12] in', weight=0.16667499576823577, std=None, value=1.0), FeatureWeight(feature='[11] Nebula', weight=0.06114109713492836, std=None, value=1.0), FeatureWeight(feature='[8] of', weight=0.050803396244094336, std=None, value=1.0), FeatureWeight(feature='[10] Tarantula', weight=0.032036641878363505, std=None, value=1.0), FeatureWeight(feature='[6] an', weight=0.001708504318722861, std=None, value=1.0)], neg=[FeatureWeight(feature='<BIAS>', weight=-5.647457365194324, std=None, value=1.0), FeatureWeight(feature='[3] in', weight=-0.8027145943464531, std=None, value=1.0), FeatureWeight(feature='[9] the', weight=-0.3550642472215522, std=None, value=1.0), FeatureWeight(feature='[14] Large', weight=-0.35266218609764244, std=None, value=1.0), FeatureWeight(feature='[16] Cloud', weight=-0.2974333590474265, std=None, value=1.0), FeatureWeight(feature='[13] the', weight=-0.1126029227340568, std=None, value=1.0)], pos_remaining=0, neg_remaining=0), proba=0.0881026725112604, score=-1.9836305772344467, weighted_spans=WeightedSpans(docs_weighted_spans=[DocWeightedSpans(document='The VLT telescope in Chile captured an image of the Tarantula Nebula in the Large Magellanic Cloud galaxy.', spans=[('The', [(0, 3)], 0.8792898598325586), ('VLT', [(4, 7)], 1.490666370168749), ('telescope', [(8, 17)], 0.7184497630855438), ('in', [(18, 20)], -0.8027145943464531), ('Chile', [(21, 26)], 1.6484305122847993), ('captured', [(27, 35)], 0.23225129811972264), ('an', [(36, 38)], 0.001708504318722861), ('image', [(39, 44)], 0.30285165857129), ('of', [(45, 47)], 0.050803396244094336), ('the', [(48, 51)], -0.3550642472215522), ('Tarantula', [(52, 61)], 0.032036641878363505), ('Nebula', [(62, 68)], 0.06114109713492836), ('in', [(69, 71)], 0.16667499576823577), ('the', [(72, 75)], -0.1126029227340568), ('Large', [(76, 81)], -0.35266218609764244), ('Cloud', [(93, 98)], -0.2974333590474265)], preserve_density=False, vec_name=None)], other=FeatureWeights(pos=[FeatureWeight(feature=<FormattedFeatureName 'Highlighted in text (sum)'>, weight=3.663826787959877, std=None, value=None)], neg=[FeatureWeight(feature='<BIAS>', weight=-5.647457365194324, std=None, value=1.0)], pos_remaining=0, neg_remaining=0)), heatmap=None)], feature_importances=None, decision_tree=None, highlight_spaces=None, transition_features=None, image=None)"
            ],
            "text/html": [
              "\n",
              "    <style>\n",
              "    table.eli5-weights tr:hover {\n",
              "        filter: brightness(85%);\n",
              "    }\n",
              "</style>\n",
              "\n",
              "\n",
              "\n",
              "    \n",
              "\n",
              "    \n",
              "\n",
              "    \n",
              "\n",
              "    \n",
              "\n",
              "    \n",
              "\n",
              "    \n",
              "\n",
              "\n",
              "    \n",
              "\n",
              "    \n",
              "\n",
              "    \n",
              "\n",
              "    \n",
              "        \n",
              "\n",
              "    \n",
              "\n",
              "    \n",
              "        \n",
              "    \n",
              "        \n",
              "        \n",
              "    \n",
              "        <p style=\"margin-bottom: 0.5em; margin-top: 0em\">\n",
              "            <b>\n",
              "    \n",
              "        y=B-Location\n",
              "    \n",
              "</b>\n",
              "\n",
              "    \n",
              "    (probability <b>0.419</b>, score <b>0.306</b>)\n",
              "\n",
              "top features\n",
              "        </p>\n",
              "    \n",
              "    <table class=\"eli5-weights\"\n",
              "           style=\"border-collapse: collapse; border: none; margin-top: 0em; table-layout: auto; margin-bottom: 2em;\">\n",
              "        <thead>\n",
              "        <tr style=\"border: none;\">\n",
              "            \n",
              "                <th style=\"padding: 0 1em 0 0.5em; text-align: right; border: none;\" title=\"Feature contribution already accounts for the feature value (for linear models, contribution = weight * feature value), and the sum of feature contributions is equal to the score or, for some classifiers, to the probability. Feature values are shown if &quot;show_feature_values&quot; is True.\">\n",
              "                    Contribution<sup>?</sup>\n",
              "                </th>\n",
              "            \n",
              "            <th style=\"padding: 0 0.5em 0 0.5em; text-align: left; border: none;\">Feature</th>\n",
              "            \n",
              "        </tr>\n",
              "        </thead>\n",
              "        <tbody>\n",
              "        \n",
              "            <tr style=\"background-color: hsl(120, 100.00%, 80.00%); border: none;\">\n",
              "    <td style=\"padding: 0 1em 0 0.5em; text-align: right; border: none;\">\n",
              "        +18.461\n",
              "    </td>\n",
              "    <td style=\"padding: 0 0.5em 0 0.5em; text-align: left; border: none;\">\n",
              "        Highlighted in text (sum)\n",
              "    </td>\n",
              "    \n",
              "</tr>\n",
              "        \n",
              "        \n",
              "\n",
              "        \n",
              "        \n",
              "            <tr style=\"background-color: hsl(0, 100.00%, 80.23%); border: none;\">\n",
              "    <td style=\"padding: 0 1em 0 0.5em; text-align: right; border: none;\">\n",
              "        -18.155\n",
              "    </td>\n",
              "    <td style=\"padding: 0 0.5em 0 0.5em; text-align: left; border: none;\">\n",
              "        &lt;BIAS&gt;\n",
              "    </td>\n",
              "    \n",
              "</tr>\n",
              "        \n",
              "\n",
              "        </tbody>\n",
              "    </table>\n",
              "\n",
              "    \n",
              "\n",
              "\n",
              "\n",
              "    <p style=\"margin-bottom: 2.5em; margin-top:-0.5em;\">\n",
              "        <span style=\"background-color: hsl(120, 100.00%, 60.00%); opacity: 1.00\" title=\"3.435\">The</span><span style=\"opacity: 0.80\"> </span><span style=\"background-color: hsl(120, 100.00%, 61.33%); opacity: 0.99\" title=\"3.273\">VLT</span><span style=\"opacity: 0.80\"> </span><span style=\"background-color: hsl(120, 100.00%, 65.33%); opacity: 0.96\" title=\"2.800\">telescope</span><span style=\"opacity: 0.80\"> </span><span style=\"background-color: hsl(120, 100.00%, 61.12%); opacity: 0.99\" title=\"3.298\">in</span><span style=\"opacity: 0.80\"> </span><span style=\"background-color: hsl(120, 100.00%, 72.33%); opacity: 0.92\" title=\"2.029\">Chile</span><span style=\"opacity: 0.80\"> </span><span style=\"background-color: hsl(120, 100.00%, 93.46%); opacity: 0.82\" title=\"0.259\">captured</span><span style=\"opacity: 0.80\"> </span><span style=\"background-color: hsl(120, 100.00%, 96.80%); opacity: 0.81\" title=\"0.093\">an</span><span style=\"opacity: 0.80\"> </span><span style=\"background-color: hsl(0, 100.00%, 95.45%); opacity: 0.81\" title=\"-0.154\">image</span><span style=\"opacity: 0.80\"> </span><span style=\"background-color: hsl(120, 100.00%, 93.34%); opacity: 0.82\" title=\"0.265\">of</span><span style=\"opacity: 0.80\"> </span><span style=\"background-color: hsl(120, 100.00%, 90.23%); opacity: 0.83\" title=\"0.459\">the</span><span style=\"opacity: 0.80\"> </span><span style=\"background-color: hsl(120, 100.00%, 91.34%); opacity: 0.82\" title=\"0.386\">Tarantula</span><span style=\"opacity: 0.80\"> Nebula in </span><span style=\"background-color: hsl(120, 100.00%, 93.99%); opacity: 0.81\" title=\"0.229\">the</span><span style=\"opacity: 0.80\"> </span><span style=\"background-color: hsl(120, 100.00%, 88.14%); opacity: 0.84\" title=\"0.605\">Large</span><span style=\"opacity: 0.80\"> Magellanic </span><span style=\"background-color: hsl(120, 100.00%, 89.93%); opacity: 0.83\" title=\"0.479\">Cloud</span><span style=\"opacity: 0.80\"> </span><span style=\"background-color: hsl(120, 100.00%, 92.44%); opacity: 0.82\" title=\"0.318\">galaxy</span><span style=\"opacity: 0.80\">.</span>\n",
              "    </p>\n",
              "\n",
              "    \n",
              "        \n",
              "    \n",
              "        \n",
              "        \n",
              "    \n",
              "        <p style=\"margin-bottom: 0.5em; margin-top: 0em\">\n",
              "            <b>\n",
              "    \n",
              "        y=O\n",
              "    \n",
              "</b>\n",
              "\n",
              "    \n",
              "    (probability <b>0.163</b>, score <b>-1.247</b>)\n",
              "\n",
              "top features\n",
              "        </p>\n",
              "    \n",
              "    <table class=\"eli5-weights\"\n",
              "           style=\"border-collapse: collapse; border: none; margin-top: 0em; table-layout: auto; margin-bottom: 2em;\">\n",
              "        <thead>\n",
              "        <tr style=\"border: none;\">\n",
              "            \n",
              "                <th style=\"padding: 0 1em 0 0.5em; text-align: right; border: none;\" title=\"Feature contribution already accounts for the feature value (for linear models, contribution = weight * feature value), and the sum of feature contributions is equal to the score or, for some classifiers, to the probability. Feature values are shown if &quot;show_feature_values&quot; is True.\">\n",
              "                    Contribution<sup>?</sup>\n",
              "                </th>\n",
              "            \n",
              "            <th style=\"padding: 0 0.5em 0 0.5em; text-align: left; border: none;\">Feature</th>\n",
              "            \n",
              "        </tr>\n",
              "        </thead>\n",
              "        <tbody>\n",
              "        \n",
              "            <tr style=\"background-color: hsl(120, 100.00%, 96.29%); border: none;\">\n",
              "    <td style=\"padding: 0 1em 0 0.5em; text-align: right; border: none;\">\n",
              "        +1.663\n",
              "    </td>\n",
              "    <td style=\"padding: 0 0.5em 0 0.5em; text-align: left; border: none;\">\n",
              "        &lt;BIAS&gt;\n",
              "    </td>\n",
              "    \n",
              "</tr>\n",
              "        \n",
              "        \n",
              "\n",
              "        \n",
              "        \n",
              "            <tr style=\"background-color: hsl(0, 100.00%, 94.51%); border: none;\">\n",
              "    <td style=\"padding: 0 1em 0 0.5em; text-align: right; border: none;\">\n",
              "        -2.910\n",
              "    </td>\n",
              "    <td style=\"padding: 0 0.5em 0 0.5em; text-align: left; border: none;\">\n",
              "        Highlighted in text (sum)\n",
              "    </td>\n",
              "    \n",
              "</tr>\n",
              "        \n",
              "\n",
              "        </tbody>\n",
              "    </table>\n",
              "\n",
              "    \n",
              "\n",
              "\n",
              "\n",
              "    <p style=\"margin-bottom: 2.5em; margin-top:-0.5em;\">\n",
              "        <span style=\"background-color: hsl(0, 100.00%, 86.75%); opacity: 0.84\" title=\"-0.709\">The</span><span style=\"opacity: 0.80\"> </span><span style=\"background-color: hsl(0, 100.00%, 82.97%); opacity: 0.86\" title=\"-1.015\">VLT</span><span style=\"opacity: 0.80\"> </span><span style=\"background-color: hsl(120, 100.00%, 91.57%); opacity: 0.82\" title=\"0.371\">telescope</span><span style=\"opacity: 0.80\"> in </span><span style=\"background-color: hsl(0, 100.00%, 83.30%); opacity: 0.86\" title=\"-0.986\">Chile</span><span style=\"opacity: 0.80\"> </span><span style=\"background-color: hsl(0, 100.00%, 97.60%); opacity: 0.80\" title=\"-0.062\">captured</span><span style=\"opacity: 0.80\"> </span><span style=\"background-color: hsl(120, 100.00%, 94.17%); opacity: 0.81\" title=\"0.219\">an</span><span style=\"opacity: 0.80\"> </span><span style=\"background-color: hsl(0, 100.00%, 95.72%); opacity: 0.81\" title=\"-0.141\">image</span><span style=\"opacity: 0.80\"> </span><span style=\"background-color: hsl(0, 100.00%, 93.99%); opacity: 0.81\" title=\"-0.229\">of</span><span style=\"opacity: 0.80\"> </span><span style=\"background-color: hsl(0, 100.00%, 99.14%); opacity: 0.80\" title=\"-0.014\">the</span><span style=\"opacity: 0.80\"> </span><span style=\"background-color: hsl(0, 100.00%, 96.16%); opacity: 0.81\" title=\"-0.121\">Tarantula</span><span style=\"opacity: 0.80\"> </span><span style=\"background-color: hsl(0, 100.00%, 95.71%); opacity: 0.81\" title=\"-0.141\">Nebula</span><span style=\"opacity: 0.80\"> </span><span style=\"background-color: hsl(0, 100.00%, 95.53%); opacity: 0.81\" title=\"-0.150\">in</span><span style=\"opacity: 0.80\"> </span><span style=\"background-color: hsl(0, 100.00%, 94.60%); opacity: 0.81\" title=\"-0.197\">the</span><span style=\"opacity: 0.80\"> </span><span style=\"background-color: hsl(120, 100.00%, 98.41%); opacity: 0.80\" title=\"0.034\">Large</span><span style=\"opacity: 0.80\"> </span><span style=\"background-color: hsl(0, 100.00%, 97.17%); opacity: 0.80\" title=\"-0.078\">Magellanic</span><span style=\"opacity: 0.80\"> </span><span style=\"background-color: hsl(120, 100.00%, 94.65%); opacity: 0.81\" title=\"0.194\">Cloud</span><span style=\"opacity: 0.80\"> </span><span style=\"background-color: hsl(120, 100.00%, 92.33%); opacity: 0.82\" title=\"0.325\">galaxy</span><span style=\"opacity: 0.80\">.</span>\n",
              "    </p>\n",
              "\n",
              "    \n",
              "        \n",
              "    \n",
              "        \n",
              "        \n",
              "    \n",
              "        <p style=\"margin-bottom: 0.5em; margin-top: 0em\">\n",
              "            <b>\n",
              "    \n",
              "        y=I-Location\n",
              "    \n",
              "</b>\n",
              "\n",
              "    \n",
              "    (probability <b>0.117</b>, score <b>-1.656</b>)\n",
              "\n",
              "top features\n",
              "        </p>\n",
              "    \n",
              "    <table class=\"eli5-weights\"\n",
              "           style=\"border-collapse: collapse; border: none; margin-top: 0em; table-layout: auto; margin-bottom: 2em;\">\n",
              "        <thead>\n",
              "        <tr style=\"border: none;\">\n",
              "            \n",
              "                <th style=\"padding: 0 1em 0 0.5em; text-align: right; border: none;\" title=\"Feature contribution already accounts for the feature value (for linear models, contribution = weight * feature value), and the sum of feature contributions is equal to the score or, for some classifiers, to the probability. Feature values are shown if &quot;show_feature_values&quot; is True.\">\n",
              "                    Contribution<sup>?</sup>\n",
              "                </th>\n",
              "            \n",
              "            <th style=\"padding: 0 0.5em 0 0.5em; text-align: left; border: none;\">Feature</th>\n",
              "            \n",
              "        </tr>\n",
              "        </thead>\n",
              "        <tbody>\n",
              "        \n",
              "            <tr style=\"background-color: hsl(120, 100.00%, 91.69%); border: none;\">\n",
              "    <td style=\"padding: 0 1em 0 0.5em; text-align: right; border: none;\">\n",
              "        +5.263\n",
              "    </td>\n",
              "    <td style=\"padding: 0 0.5em 0 0.5em; text-align: left; border: none;\">\n",
              "        Highlighted in text (sum)\n",
              "    </td>\n",
              "    \n",
              "</tr>\n",
              "        \n",
              "        \n",
              "\n",
              "        \n",
              "        \n",
              "            <tr style=\"background-color: hsl(0, 100.00%, 89.94%); border: none;\">\n",
              "    <td style=\"padding: 0 1em 0 0.5em; text-align: right; border: none;\">\n",
              "        -6.920\n",
              "    </td>\n",
              "    <td style=\"padding: 0 0.5em 0 0.5em; text-align: left; border: none;\">\n",
              "        &lt;BIAS&gt;\n",
              "    </td>\n",
              "    \n",
              "</tr>\n",
              "        \n",
              "\n",
              "        </tbody>\n",
              "    </table>\n",
              "\n",
              "    \n",
              "\n",
              "\n",
              "\n",
              "    <p style=\"margin-bottom: 2.5em; margin-top:-0.5em;\">\n",
              "        <span style=\"background-color: hsl(120, 100.00%, 88.83%); opacity: 0.83\" title=\"0.555\">The</span><span style=\"opacity: 0.80\"> </span><span style=\"background-color: hsl(120, 100.00%, 85.52%); opacity: 0.85\" title=\"0.805\">VLT</span><span style=\"opacity: 0.80\"> </span><span style=\"background-color: hsl(120, 100.00%, 89.85%); opacity: 0.83\" title=\"0.484\">telescope</span><span style=\"opacity: 0.80\"> </span><span style=\"background-color: hsl(120, 100.00%, 79.02%); opacity: 0.88\" title=\"1.367\">in</span><span style=\"opacity: 0.80\"> </span><span style=\"background-color: hsl(120, 100.00%, 82.12%); opacity: 0.86\" title=\"1.088\">Chile</span><span style=\"opacity: 0.80\"> </span><span style=\"background-color: hsl(0, 100.00%, 98.43%); opacity: 0.80\" title=\"-0.034\">captured</span><span style=\"opacity: 0.80\"> </span><span style=\"background-color: hsl(120, 100.00%, 93.75%); opacity: 0.81\" title=\"0.242\">an</span><span style=\"opacity: 0.80\"> image </span><span style=\"background-color: hsl(0, 100.00%, 92.26%); opacity: 0.82\" title=\"-0.329\">of</span><span style=\"opacity: 0.80\"> </span><span style=\"background-color: hsl(120, 100.00%, 90.94%); opacity: 0.82\" title=\"0.412\">the</span><span style=\"opacity: 0.80\"> </span><span style=\"background-color: hsl(0, 100.00%, 94.81%); opacity: 0.81\" title=\"-0.186\">Tarantula</span><span style=\"opacity: 0.80\"> Nebula in the </span><span style=\"background-color: hsl(120, 100.00%, 96.72%); opacity: 0.81\" title=\"0.096\">Large</span><span style=\"opacity: 0.80\"> </span><span style=\"background-color: hsl(120, 100.00%, 93.61%); opacity: 0.81\" title=\"0.250\">Magellanic</span><span style=\"opacity: 0.80\"> </span><span style=\"background-color: hsl(120, 100.00%, 93.11%); opacity: 0.82\" title=\"0.279\">Cloud</span><span style=\"opacity: 0.80\"> </span><span style=\"background-color: hsl(120, 100.00%, 93.91%); opacity: 0.81\" title=\"0.234\">galaxy</span><span style=\"opacity: 0.80\">.</span>\n",
              "    </p>\n",
              "\n",
              "    \n",
              "        \n",
              "    \n",
              "        \n",
              "        \n",
              "    \n",
              "        <p style=\"margin-bottom: 0.5em; margin-top: 0em\">\n",
              "            <b>\n",
              "    \n",
              "        y=I-Telescope\n",
              "    \n",
              "</b>\n",
              "\n",
              "    \n",
              "    (probability <b>0.098</b>, score <b>-1.867</b>)\n",
              "\n",
              "top features\n",
              "        </p>\n",
              "    \n",
              "    <table class=\"eli5-weights\"\n",
              "           style=\"border-collapse: collapse; border: none; margin-top: 0em; table-layout: auto; margin-bottom: 2em;\">\n",
              "        <thead>\n",
              "        <tr style=\"border: none;\">\n",
              "            \n",
              "                <th style=\"padding: 0 1em 0 0.5em; text-align: right; border: none;\" title=\"Feature contribution already accounts for the feature value (for linear models, contribution = weight * feature value), and the sum of feature contributions is equal to the score or, for some classifiers, to the probability. Feature values are shown if &quot;show_feature_values&quot; is True.\">\n",
              "                    Contribution<sup>?</sup>\n",
              "                </th>\n",
              "            \n",
              "            <th style=\"padding: 0 0.5em 0 0.5em; text-align: left; border: none;\">Feature</th>\n",
              "            \n",
              "        </tr>\n",
              "        </thead>\n",
              "        <tbody>\n",
              "        \n",
              "            <tr style=\"background-color: hsl(120, 100.00%, 95.14%); border: none;\">\n",
              "    <td style=\"padding: 0 1em 0 0.5em; text-align: right; border: none;\">\n",
              "        +2.446\n",
              "    </td>\n",
              "    <td style=\"padding: 0 0.5em 0 0.5em; text-align: left; border: none;\">\n",
              "        Highlighted in text (sum)\n",
              "    </td>\n",
              "    \n",
              "</tr>\n",
              "        \n",
              "        \n",
              "\n",
              "        \n",
              "        \n",
              "            <tr style=\"background-color: hsl(0, 100.00%, 92.77%); border: none;\">\n",
              "    <td style=\"padding: 0 1em 0 0.5em; text-align: right; border: none;\">\n",
              "        -4.313\n",
              "    </td>\n",
              "    <td style=\"padding: 0 0.5em 0 0.5em; text-align: left; border: none;\">\n",
              "        &lt;BIAS&gt;\n",
              "    </td>\n",
              "    \n",
              "</tr>\n",
              "        \n",
              "\n",
              "        </tbody>\n",
              "    </table>\n",
              "\n",
              "    \n",
              "\n",
              "\n",
              "\n",
              "    <p style=\"margin-bottom: 2.5em; margin-top:-0.5em;\">\n",
              "        <span style=\"background-color: hsl(0, 100.00%, 85.03%); opacity: 0.85\" title=\"-0.844\">The</span><span style=\"opacity: 0.80\"> </span><span style=\"background-color: hsl(0, 100.00%, 93.36%); opacity: 0.82\" title=\"-0.264\">VLT</span><span style=\"opacity: 0.80\"> </span><span style=\"background-color: hsl(120, 100.00%, 92.96%); opacity: 0.82\" title=\"0.287\">telescope</span><span style=\"opacity: 0.80\"> </span><span style=\"background-color: hsl(120, 100.00%, 97.66%); opacity: 0.80\" title=\"0.060\">in</span><span style=\"opacity: 0.80\"> </span><span style=\"background-color: hsl(120, 100.00%, 89.46%); opacity: 0.83\" title=\"0.511\">Chile</span><span style=\"opacity: 0.80\"> </span><span style=\"background-color: hsl(120, 100.00%, 88.78%); opacity: 0.83\" title=\"0.559\">captured</span><span style=\"opacity: 0.80\"> </span><span style=\"background-color: hsl(0, 100.00%, 98.14%); opacity: 0.80\" title=\"-0.043\">an</span><span style=\"opacity: 0.80\"> </span><span style=\"background-color: hsl(120, 100.00%, 82.37%); opacity: 0.86\" title=\"1.066\">image</span><span style=\"opacity: 0.80\"> </span><span style=\"background-color: hsl(120, 100.00%, 88.17%); opacity: 0.84\" title=\"0.603\">of</span><span style=\"opacity: 0.80\"> </span><span style=\"background-color: hsl(0, 100.00%, 98.92%); opacity: 0.80\" title=\"-0.020\">the</span><span style=\"opacity: 0.80\"> </span><span style=\"background-color: hsl(120, 100.00%, 92.38%); opacity: 0.82\" title=\"0.321\">Tarantula</span><span style=\"opacity: 0.80\"> </span><span style=\"background-color: hsl(120, 100.00%, 92.35%); opacity: 0.82\" title=\"0.324\">Nebula</span><span style=\"opacity: 0.80\"> </span><span style=\"background-color: hsl(120, 100.00%, 98.69%); opacity: 0.80\" title=\"0.026\">in</span><span style=\"opacity: 0.80\"> </span><span style=\"background-color: hsl(120, 100.00%, 98.10%); opacity: 0.80\" title=\"0.044\">the</span><span style=\"opacity: 0.80\"> </span><span style=\"background-color: hsl(120, 100.00%, 96.92%); opacity: 0.81\" title=\"0.088\">Large</span><span style=\"opacity: 0.80\"> </span><span style=\"background-color: hsl(120, 100.00%, 96.59%); opacity: 0.81\" title=\"0.102\">Magellanic</span><span style=\"opacity: 0.80\"> </span><span style=\"background-color: hsl(0, 100.00%, 98.22%); opacity: 0.80\" title=\"-0.040\">Cloud</span><span style=\"opacity: 0.80\"> </span><span style=\"background-color: hsl(0, 100.00%, 90.45%); opacity: 0.83\" title=\"-0.444\">galaxy</span><span style=\"opacity: 0.80\">.</span>\n",
              "    </p>\n",
              "\n",
              "    \n",
              "        \n",
              "    \n",
              "        \n",
              "        \n",
              "    \n",
              "        <p style=\"margin-bottom: 0.5em; margin-top: 0em\">\n",
              "            <b>\n",
              "    \n",
              "        y=I-Observatory\n",
              "    \n",
              "</b>\n",
              "\n",
              "    \n",
              "    (probability <b>0.088</b>, score <b>-1.984</b>)\n",
              "\n",
              "top features\n",
              "        </p>\n",
              "    \n",
              "    <table class=\"eli5-weights\"\n",
              "           style=\"border-collapse: collapse; border: none; margin-top: 0em; table-layout: auto; margin-bottom: 2em;\">\n",
              "        <thead>\n",
              "        <tr style=\"border: none;\">\n",
              "            \n",
              "                <th style=\"padding: 0 1em 0 0.5em; text-align: right; border: none;\" title=\"Feature contribution already accounts for the feature value (for linear models, contribution = weight * feature value), and the sum of feature contributions is equal to the score or, for some classifiers, to the probability. Feature values are shown if &quot;show_feature_values&quot; is True.\">\n",
              "                    Contribution<sup>?</sup>\n",
              "                </th>\n",
              "            \n",
              "            <th style=\"padding: 0 0.5em 0 0.5em; text-align: left; border: none;\">Feature</th>\n",
              "            \n",
              "        </tr>\n",
              "        </thead>\n",
              "        <tbody>\n",
              "        \n",
              "            <tr style=\"background-color: hsl(120, 100.00%, 93.55%); border: none;\">\n",
              "    <td style=\"padding: 0 1em 0 0.5em; text-align: right; border: none;\">\n",
              "        +3.664\n",
              "    </td>\n",
              "    <td style=\"padding: 0 0.5em 0 0.5em; text-align: left; border: none;\">\n",
              "        Highlighted in text (sum)\n",
              "    </td>\n",
              "    \n",
              "</tr>\n",
              "        \n",
              "        \n",
              "\n",
              "        \n",
              "        \n",
              "            <tr style=\"background-color: hsl(0, 100.00%, 91.27%); border: none;\">\n",
              "    <td style=\"padding: 0 1em 0 0.5em; text-align: right; border: none;\">\n",
              "        -5.647\n",
              "    </td>\n",
              "    <td style=\"padding: 0 0.5em 0 0.5em; text-align: left; border: none;\">\n",
              "        &lt;BIAS&gt;\n",
              "    </td>\n",
              "    \n",
              "</tr>\n",
              "        \n",
              "\n",
              "        </tbody>\n",
              "    </table>\n",
              "\n",
              "    \n",
              "\n",
              "\n",
              "\n",
              "    <p style=\"margin-bottom: 2.5em; margin-top:-0.5em;\">\n",
              "        <span style=\"background-color: hsl(120, 100.00%, 84.59%); opacity: 0.85\" title=\"0.879\">The</span><span style=\"opacity: 0.80\"> </span><span style=\"background-color: hsl(120, 100.00%, 77.70%); opacity: 0.89\" title=\"1.491\">VLT</span><span style=\"opacity: 0.80\"> </span><span style=\"background-color: hsl(120, 100.00%, 86.62%); opacity: 0.84\" title=\"0.718\">telescope</span><span style=\"opacity: 0.80\"> </span><span style=\"background-color: hsl(0, 100.00%, 91.10%); opacity: 0.82\" title=\"-0.401\">in</span><span style=\"opacity: 0.80\"> </span><span style=\"background-color: hsl(120, 100.00%, 76.08%); opacity: 0.90\" title=\"1.648\">Chile</span><span style=\"opacity: 0.80\"> </span><span style=\"background-color: hsl(120, 100.00%, 93.93%); opacity: 0.81\" title=\"0.232\">captured</span><span style=\"opacity: 0.80\"> </span><span style=\"background-color: hsl(120, 100.00%, 99.81%); opacity: 0.80\" title=\"0.002\">an</span><span style=\"opacity: 0.80\"> </span><span style=\"background-color: hsl(120, 100.00%, 92.69%); opacity: 0.82\" title=\"0.303\">image</span><span style=\"opacity: 0.80\"> </span><span style=\"background-color: hsl(120, 100.00%, 97.91%); opacity: 0.80\" title=\"0.051\">of</span><span style=\"opacity: 0.80\"> </span><span style=\"background-color: hsl(0, 100.00%, 94.97%); opacity: 0.81\" title=\"-0.178\">the</span><span style=\"opacity: 0.80\"> </span><span style=\"background-color: hsl(120, 100.00%, 98.48%); opacity: 0.80\" title=\"0.032\">Tarantula</span><span style=\"opacity: 0.80\"> </span><span style=\"background-color: hsl(120, 100.00%, 97.62%); opacity: 0.80\" title=\"0.061\">Nebula</span><span style=\"opacity: 0.80\"> </span><span style=\"background-color: hsl(120, 100.00%, 97.04%); opacity: 0.80\" title=\"0.083\">in</span><span style=\"opacity: 0.80\"> </span><span style=\"background-color: hsl(0, 100.00%, 97.75%); opacity: 0.80\" title=\"-0.056\">the</span><span style=\"opacity: 0.80\"> </span><span style=\"background-color: hsl(0, 100.00%, 91.87%); opacity: 0.82\" title=\"-0.353\">Large</span><span style=\"opacity: 0.80\"> Magellanic </span><span style=\"background-color: hsl(0, 100.00%, 92.78%); opacity: 0.82\" title=\"-0.297\">Cloud</span><span style=\"opacity: 0.80\"> galaxy.</span>\n",
              "    </p>\n",
              "\n",
              "    \n",
              "\n",
              "\n",
              "    \n",
              "\n",
              "    \n",
              "\n",
              "    \n",
              "\n",
              "\n",
              "    \n",
              "\n",
              "    \n",
              "\n",
              "    \n",
              "\n",
              "    \n",
              "\n",
              "    \n",
              "\n",
              "    \n",
              "\n",
              "\n",
              "    \n",
              "\n",
              "    \n",
              "\n",
              "    \n",
              "\n",
              "    \n",
              "\n",
              "    \n",
              "\n",
              "    \n",
              "\n",
              "\n",
              "\n"
            ]
          },
          "metadata": {},
          "execution_count": 9
        }
      ]
    },
    {
      "cell_type": "markdown",
      "metadata": {
        "id": "g_7CmiS8eksi"
      },
      "source": [
        "# Interpreting AstroBERT NER with SHAP"
      ]
    },
    {
      "cell_type": "markdown",
      "metadata": {
        "id": "k6PZ_NuZekst"
      },
      "source": [
        "## Installation"
      ]
    },
    {
      "cell_type": "code",
      "source": [
        "!pip install transformers\n",
        "!pip install shap"
      ],
      "metadata": {
        "id": "UuZzLzrHeksv",
        "colab": {
          "base_uri": "https://localhost:8080/"
        },
        "outputId": "b6097fd0-af27-449f-d8cc-2ff0c557a609"
      },
      "execution_count": null,
      "outputs": [
        {
          "output_type": "stream",
          "name": "stdout",
          "text": [
            "Requirement already satisfied: transformers in /usr/local/lib/python3.10/dist-packages (4.32.1)\n",
            "Requirement already satisfied: filelock in /usr/local/lib/python3.10/dist-packages (from transformers) (3.12.2)\n",
            "Requirement already satisfied: huggingface-hub<1.0,>=0.15.1 in /usr/local/lib/python3.10/dist-packages (from transformers) (0.16.4)\n",
            "Requirement already satisfied: numpy>=1.17 in /usr/local/lib/python3.10/dist-packages (from transformers) (1.23.5)\n",
            "Requirement already satisfied: packaging>=20.0 in /usr/local/lib/python3.10/dist-packages (from transformers) (23.1)\n",
            "Requirement already satisfied: pyyaml>=5.1 in /usr/local/lib/python3.10/dist-packages (from transformers) (6.0.1)\n",
            "Requirement already satisfied: regex!=2019.12.17 in /usr/local/lib/python3.10/dist-packages (from transformers) (2023.6.3)\n",
            "Requirement already satisfied: requests in /usr/local/lib/python3.10/dist-packages (from transformers) (2.31.0)\n",
            "Requirement already satisfied: tokenizers!=0.11.3,<0.14,>=0.11.1 in /usr/local/lib/python3.10/dist-packages (from transformers) (0.13.3)\n",
            "Requirement already satisfied: safetensors>=0.3.1 in /usr/local/lib/python3.10/dist-packages (from transformers) (0.3.3)\n",
            "Requirement already satisfied: tqdm>=4.27 in /usr/local/lib/python3.10/dist-packages (from transformers) (4.66.1)\n",
            "Requirement already satisfied: fsspec in /usr/local/lib/python3.10/dist-packages (from huggingface-hub<1.0,>=0.15.1->transformers) (2023.6.0)\n",
            "Requirement already satisfied: typing-extensions>=3.7.4.3 in /usr/local/lib/python3.10/dist-packages (from huggingface-hub<1.0,>=0.15.1->transformers) (4.7.1)\n",
            "Requirement already satisfied: charset-normalizer<4,>=2 in /usr/local/lib/python3.10/dist-packages (from requests->transformers) (3.2.0)\n",
            "Requirement already satisfied: idna<4,>=2.5 in /usr/local/lib/python3.10/dist-packages (from requests->transformers) (3.4)\n",
            "Requirement already satisfied: urllib3<3,>=1.21.1 in /usr/local/lib/python3.10/dist-packages (from requests->transformers) (2.0.4)\n",
            "Requirement already satisfied: certifi>=2017.4.17 in /usr/local/lib/python3.10/dist-packages (from requests->transformers) (2023.7.22)\n",
            "Requirement already satisfied: shap in /usr/local/lib/python3.10/dist-packages (0.42.1)\n",
            "Requirement already satisfied: numpy in /usr/local/lib/python3.10/dist-packages (from shap) (1.23.5)\n",
            "Requirement already satisfied: scipy in /usr/local/lib/python3.10/dist-packages (from shap) (1.10.1)\n",
            "Requirement already satisfied: scikit-learn in /usr/local/lib/python3.10/dist-packages (from shap) (1.2.2)\n",
            "Requirement already satisfied: pandas in /usr/local/lib/python3.10/dist-packages (from shap) (1.5.3)\n",
            "Requirement already satisfied: tqdm>=4.27.0 in /usr/local/lib/python3.10/dist-packages (from shap) (4.66.1)\n",
            "Requirement already satisfied: packaging>20.9 in /usr/local/lib/python3.10/dist-packages (from shap) (23.1)\n",
            "Requirement already satisfied: slicer==0.0.7 in /usr/local/lib/python3.10/dist-packages (from shap) (0.0.7)\n",
            "Requirement already satisfied: numba in /usr/local/lib/python3.10/dist-packages (from shap) (0.56.4)\n",
            "Requirement already satisfied: cloudpickle in /usr/local/lib/python3.10/dist-packages (from shap) (2.2.1)\n",
            "Requirement already satisfied: llvmlite<0.40,>=0.39.0dev0 in /usr/local/lib/python3.10/dist-packages (from numba->shap) (0.39.1)\n",
            "Requirement already satisfied: setuptools in /usr/local/lib/python3.10/dist-packages (from numba->shap) (67.7.2)\n",
            "Requirement already satisfied: python-dateutil>=2.8.1 in /usr/local/lib/python3.10/dist-packages (from pandas->shap) (2.8.2)\n",
            "Requirement already satisfied: pytz>=2020.1 in /usr/local/lib/python3.10/dist-packages (from pandas->shap) (2023.3)\n",
            "Requirement already satisfied: joblib>=1.1.1 in /usr/local/lib/python3.10/dist-packages (from scikit-learn->shap) (1.3.2)\n",
            "Requirement already satisfied: threadpoolctl>=2.0.0 in /usr/local/lib/python3.10/dist-packages (from scikit-learn->shap) (3.2.0)\n",
            "Requirement already satisfied: six>=1.5 in /usr/local/lib/python3.10/dist-packages (from python-dateutil>=2.8.1->pandas->shap) (1.16.0)\n"
          ]
        }
      ]
    },
    {
      "cell_type": "markdown",
      "metadata": {
        "id": "IT5o6nXYeksz"
      },
      "source": [
        "## Import AstroBERT NER model"
      ]
    },
    {
      "cell_type": "code",
      "execution_count": null,
      "metadata": {
        "id": "I0zg3ZBIeks1"
      },
      "outputs": [],
      "source": [
        "from transformers import AutoModelForTokenClassification, AutoTokenizer\n",
        "\n",
        "# load astroBERT for NER-DEAL\n",
        "remote_model_path = 'adsabs/astroBERT'\n",
        "revision = 'NER-DEAL'\n",
        "\n",
        "model = AutoModelForTokenClassification.from_pretrained(pretrained_model_name_or_path=remote_model_path, revision=revision)\n",
        "tokenizer = AutoTokenizer.from_pretrained(pretrained_model_name_or_path=remote_model_path, add_special_tokens=True, do_lower_case=False)"
      ]
    },
    {
      "cell_type": "markdown",
      "metadata": {
        "id": "Y3oVpxIXeks4"
      },
      "source": [
        "Display all possible entity tags that this model classifies each token into:"
      ]
    },
    {
      "cell_type": "code",
      "execution_count": null,
      "metadata": {
        "colab": {
          "base_uri": "https://localhost:8080/"
        },
        "outputId": "2ac31c5c-2564-4a55-f0a7-ca0591bb9d7b",
        "id": "e4Du5IOneks5"
      },
      "outputs": [
        {
          "output_type": "execute_result",
          "data": {
            "text/plain": [
              "{0: 'B-Archive',\n",
              " 1: 'B-CelestialObject',\n",
              " 2: 'B-CelestialObjectRegion',\n",
              " 3: 'B-CelestialRegion',\n",
              " 4: 'B-Citation',\n",
              " 5: 'B-Collaboration',\n",
              " 6: 'B-ComputingFacility',\n",
              " 7: 'B-Database',\n",
              " 8: 'B-Dataset',\n",
              " 9: 'B-EntityOfFutureInterest',\n",
              " 10: 'B-Event',\n",
              " 11: 'B-Fellowship',\n",
              " 12: 'B-Formula',\n",
              " 13: 'B-Grant',\n",
              " 14: 'B-Identifier',\n",
              " 15: 'B-Instrument',\n",
              " 16: 'B-Location',\n",
              " 17: 'B-Mission',\n",
              " 18: 'B-Model',\n",
              " 19: 'B-ObservationalTechniques',\n",
              " 20: 'B-Observatory',\n",
              " 21: 'B-Organization',\n",
              " 22: 'B-Person',\n",
              " 23: 'B-Proposal',\n",
              " 24: 'B-Software',\n",
              " 25: 'B-Survey',\n",
              " 26: 'B-Tag',\n",
              " 27: 'B-Telescope',\n",
              " 28: 'B-TextGarbage',\n",
              " 29: 'B-URL',\n",
              " 30: 'B-Wavelength',\n",
              " 31: 'I-Archive',\n",
              " 32: 'I-CelestialObject',\n",
              " 33: 'I-CelestialObjectRegion',\n",
              " 34: 'I-CelestialRegion',\n",
              " 35: 'I-Citation',\n",
              " 36: 'I-Collaboration',\n",
              " 37: 'I-ComputingFacility',\n",
              " 38: 'I-Database',\n",
              " 39: 'I-Dataset',\n",
              " 40: 'I-EntityOfFutureInterest',\n",
              " 41: 'I-Event',\n",
              " 42: 'I-Fellowship',\n",
              " 43: 'I-Formula',\n",
              " 44: 'I-Grant',\n",
              " 45: 'I-Identifier',\n",
              " 46: 'I-Instrument',\n",
              " 47: 'I-Location',\n",
              " 48: 'I-Mission',\n",
              " 49: 'I-Model',\n",
              " 50: 'I-ObservationalTechniques',\n",
              " 51: 'I-Observatory',\n",
              " 52: 'I-Organization',\n",
              " 53: 'I-Person',\n",
              " 54: 'I-Proposal',\n",
              " 55: 'I-Software',\n",
              " 56: 'I-Survey',\n",
              " 57: 'I-Tag',\n",
              " 58: 'I-Telescope',\n",
              " 59: 'I-TextGarbage',\n",
              " 60: 'I-URL',\n",
              " 61: 'I-Wavelength',\n",
              " 62: 'O'}"
            ]
          },
          "metadata": {},
          "execution_count": 12
        }
      ],
      "source": [
        "model.config.id2label"
      ]
    },
    {
      "cell_type": "markdown",
      "source": [
        "## Create a pipeline and see a tagged example"
      ],
      "metadata": {
        "id": "5R8odpTqeks7"
      }
    },
    {
      "cell_type": "code",
      "source": [
        "from transformers import TokenClassificationPipeline\n",
        "\n",
        "pipeline = TokenClassificationPipeline(model=model, tokenizer=tokenizer, task='astroBERT NER_DEAL', aggregation_strategy='average', ignore_labels=['O'])"
      ],
      "metadata": {
        "id": "Ch8hTjG8eks8"
      },
      "execution_count": null,
      "outputs": []
    },
    {
      "cell_type": "code",
      "source": [
        "example = \"The VLT telescope in Chile captured an image of the Tarantula Nebula in the Large Magellanic Cloud galaxy.\"\n",
        "results = pipeline(example)\n",
        "for result in results:\n",
        "  print(result)"
      ],
      "metadata": {
        "colab": {
          "base_uri": "https://localhost:8080/"
        },
        "outputId": "43e885d3-b809-4b6b-8d4a-f01845e98f78",
        "id": "4nJkNAjOeks-"
      },
      "execution_count": null,
      "outputs": [
        {
          "output_type": "stream",
          "name": "stderr",
          "text": [
            "Asking to truncate to max_length but no maximum length is provided and the model has no predefined maximum length. Default to no truncation.\n"
          ]
        },
        {
          "output_type": "stream",
          "name": "stdout",
          "text": [
            "{'entity_group': 'Telescope', 'score': 0.556757, 'word': 'The', 'start': 0, 'end': 3}\n",
            "{'entity_group': 'Telescope', 'score': 0.84752667, 'word': 'VLT telescope', 'start': 4, 'end': 17}\n",
            "{'entity_group': 'Location', 'score': 0.5440941, 'word': 'Chile', 'start': 21, 'end': 26}\n",
            "{'entity_group': 'CelestialObject', 'score': 0.69072115, 'word': 'Tarantula Nebula', 'start': 52, 'end': 68}\n",
            "{'entity_group': 'CelestialObject', 'score': 0.73234534, 'word': 'Large Magellanic Cloud', 'start': 76, 'end': 98}\n"
          ]
        }
      ]
    },
    {
      "cell_type": "markdown",
      "source": [
        "## Defining the Interface with SHAP\n",
        "\n",
        "To be able to use SHAP, need to frame the NER task as a multiclass classification problem for a specific word. get_predict_function allows selecting a word ahead of time to focus on. It configures prediction to output probabilities for only that word's tags. This transforms NER into a simplified per-word classification that SHAP can explain."
      ],
      "metadata": {
        "id": "Qm-Js47GcqtT"
      }
    },
    {
      "cell_type": "code",
      "source": [
        "import torch\n",
        "import numpy as np\n",
        "import scipy as sp\n",
        "\n",
        "class NERExplainer:\n",
        "  def __init__(self, tokenizer, model):\n",
        "    self.tokenizer = tokenizer\n",
        "    self.model = model\n",
        "\n",
        "  def preprocess(self, texts):\n",
        "    encoded = self.tokenizer(texts, padding=True, truncation=True, return_tensors=\"pt\")\n",
        "    return encoded\n",
        "\n",
        "  def get_predict_function(self, texts, word_idx):\n",
        "    def predict(texts):\n",
        "      encode = [tokenizer.encode(t, padding='max_length', max_length=128, truncation=True) for t in texts]\n",
        "      # create a tensor from the encoded sequences\n",
        "      tensor = torch.tensor(encode)\n",
        "      logits = model(tensor)[0]\n",
        "      outputs = logits[:, word_idx].detach().numpy()\n",
        "      # take the raw predictions, normalizes across rows\n",
        "      normalize = (outputs - np.min(outputs)) / (np.max(outputs) - np.min(outputs))\n",
        "      # use one vs rest logit units\n",
        "      return sp.special.logit(normalize[:,1])\n",
        "      # encode = [tokenizer.encode(t, padding='max_length', max_length=128, truncation=True) for t in texts]\n",
        "      # # create a tensor from the encoded sequences\n",
        "      # tensor = torch.tensor(encode)\n",
        "      # outputs = model(tensor)[0].detach().numpy()\n",
        "      # # take the raw predictions, normalizes across rows, and compute probability scores for the output columns (columns for the specific token)\n",
        "      # output_word_idx = outputs[:, word_idx]\n",
        "      # scores = (np.exp(output_word_idx).T / np.exp(output_word_idx).sum(-1)).T\n",
        "      # # use one vs rest logit units\n",
        "      # return sp.special.logit(scores)*-1\n",
        "    return predict"
      ],
      "metadata": {
        "id": "ctnyy8NkcBlV"
      },
      "execution_count": null,
      "outputs": []
    },
    {
      "cell_type": "markdown",
      "source": [
        "## Create and configure the explainers"
      ],
      "metadata": {
        "id": "Jfk4XYPJc-Yc"
      }
    },
    {
      "cell_type": "code",
      "source": [
        "import shap\n",
        "\n",
        "ner_explainer= NERExplainer(tokenizer, model)\n",
        "\n",
        "# get explaination for the fifth token, Chile\n",
        "word_idx=5\n",
        "predict_function = ner_explainer.get_predict_function(example, word_idx)\n",
        "\n",
        "# build an explainer using a token masker\n",
        "explainer = shap.Explainer(predict_function, tokenizer)"
      ],
      "metadata": {
        "id": "85UYaOnHdREf"
      },
      "execution_count": null,
      "outputs": []
    },
    {
      "cell_type": "markdown",
      "source": [
        "## Run the example with the explainer"
      ],
      "metadata": {
        "id": "ggdxvQRLektD"
      }
    },
    {
      "cell_type": "code",
      "source": [
        "shap_values = explainer([example], fixed_context=1)\n",
        "shap_values"
      ],
      "metadata": {
        "colab": {
          "base_uri": "https://localhost:8080/",
          "height": 327,
          "referenced_widgets": [
            "6b0fe6d46de34fa3b0ebf2d2f206ef20",
            "e20abd179f91491aa22f174700479e0d",
            "1031ba81e9ed408b9cea531a1054d494",
            "565132558b7d405c8b8f244bfd5e4fa9",
            "ccf06faf9c1d40b5b3f5cdda743ac199",
            "42ac9fcd07e44f98850e2a1d4a947172",
            "039ae68f2bc64f2bac0c51f129795036",
            "f50adc85a762415fbde17d29b3583073",
            "3ef9ee61d3be4fb5bdc5ed13c04f9cd7",
            "2ce6f33fa40f41b4bb85ecf34725e7f8",
            "ef2acc982d3c406c8486dcd302c23529"
          ]
        },
        "outputId": "69f36bf5-338d-4b78-ce5b-982e796c24eb",
        "id": "CfqbE-amektD"
      },
      "execution_count": null,
      "outputs": [
        {
          "output_type": "display_data",
          "data": {
            "text/plain": [
              "  0%|          | 0/498 [00:00<?, ?it/s]"
            ],
            "application/vnd.jupyter.widget-view+json": {
              "version_major": 2,
              "version_minor": 0,
              "model_id": "6b0fe6d46de34fa3b0ebf2d2f206ef20"
            }
          },
          "metadata": {}
        },
        {
          "output_type": "stream",
          "name": "stderr",
          "text": [
            "Partition explainer: 2it [00:47, 47.80s/it]               \n"
          ]
        },
        {
          "output_type": "execute_result",
          "data": {
            "text/plain": [
              ".values =\n",
              "array([[ 0.03256116,  0.07087935, -0.46487895,  0.09327319,  0.06537679,\n",
              "         0.11681879,  0.14469054,  0.01437453, -0.02713485,  0.08700297,\n",
              "         0.05816019,  0.06114702, -0.02714722,  0.10639343,  0.03677678,\n",
              "         0.1105769 , -0.07389419,  0.09388222, -0.01664741,  0.01141457,\n",
              "         0.06428507, -0.33364599, -0.00737969]])\n",
              "\n",
              ".base_values =\n",
              "array([-0.19989741])\n",
              "\n",
              ".data =\n",
              "(array(['', 'The ', 'VLT ', 'telescope ', 'in ', 'Chile ', 'captured ',\n",
              "       'an ', 'image ', 'of ', 'the ', 'Tar', 'ant', 'ula ', 'Nebula ',\n",
              "       'in ', 'the ', 'Large ', 'Magellanic ', 'Cloud ', 'galaxy', '.',\n",
              "       ''], dtype=object),)"
            ]
          },
          "metadata": {},
          "execution_count": 17
        }
      ]
    },
    {
      "cell_type": "markdown",
      "metadata": {
        "id": "iT3Y1V16ektF"
      },
      "source": [
        "Visualizing explanations"
      ]
    },
    {
      "cell_type": "code",
      "source": [
        "shap.plots.text(shap_values)"
      ],
      "metadata": {
        "colab": {
          "base_uri": "https://localhost:8080/",
          "height": 166
        },
        "outputId": "1600b925-bd37-442d-8313-647c070ffd23",
        "id": "J0DYBnC7ektG"
      },
      "execution_count": null,
      "outputs": [
        {
          "output_type": "display_data",
          "data": {
            "text/plain": [
              "<IPython.core.display.HTML object>"
            ],
            "text/html": [
              "\n",
              "    <br>\n",
              "    <hr style=\"height: 1px; background-color: #fff; border: none; margin-top: 18px; margin-bottom: 18px; border-top: 1px dashed #ccc;\"\">\n",
              "    <div align=\"center\" style=\"margin-top: -35px;\"><div style=\"display: inline-block; background: #fff; padding: 5px; color: #999; font-family: monospace\">[0]</div>\n",
              "    </div>\n",
              "                <svg width=\"100%\" height=\"80px\"><line x1=\"0\" y1=\"33\" x2=\"100%\" y2=\"33\" style=\"stroke:rgb(150,150,150);stroke-width:1\" /><line x1=\"49.67308866018971%\" y1=\"33\" x2=\"49.67308866018971%\" y2=\"37\" style=\"stroke:rgb(150,150,150);stroke-width:1\" /><text x=\"49.67308866018971%\" y=\"27\" font-size=\"12px\" fill=\"rgb(120,120,120)\" dominant-baseline=\"bottom\" text-anchor=\"middle\">-0.1</text><line x1=\"34.37037011148142%\" y1=\"33\" x2=\"34.37037011148142%\" y2=\"37\" style=\"stroke:rgb(150,150,150);stroke-width:1\" /><text x=\"34.37037011148142%\" y=\"27\" font-size=\"12px\" fill=\"rgb(120,120,120)\" dominant-baseline=\"bottom\" text-anchor=\"middle\">-0.5</text><line x1=\"19.06765156277313%\" y1=\"33\" x2=\"19.06765156277313%\" y2=\"37\" style=\"stroke:rgb(150,150,150);stroke-width:1\" /><text x=\"19.06765156277313%\" y=\"27\" font-size=\"12px\" fill=\"rgb(120,120,120)\" dominant-baseline=\"bottom\" text-anchor=\"middle\">-0.9</text><line x1=\"64.975807208898%\" y1=\"33\" x2=\"64.975807208898%\" y2=\"37\" style=\"stroke:rgb(150,150,150);stroke-width:1\" /><text x=\"64.975807208898%\" y=\"27\" font-size=\"12px\" fill=\"rgb(120,120,120)\" dominant-baseline=\"bottom\" text-anchor=\"middle\">0.3</text><line x1=\"80.27852575760629%\" y1=\"33\" x2=\"80.27852575760629%\" y2=\"37\" style=\"stroke:rgb(150,150,150);stroke-width:1\" /><text x=\"80.27852575760629%\" y=\"27\" font-size=\"12px\" fill=\"rgb(120,120,120)\" dominant-baseline=\"bottom\" text-anchor=\"middle\">0.7</text><line x1=\"45.851333845695684%\" y1=\"33\" x2=\"45.851333845695684%\" y2=\"37\" style=\"stroke:rgb(150,150,150);stroke-width:1\" /><text x=\"45.851333845695684%\" y=\"27\" font-size=\"13px\" style=\"stroke:#ffffff;stroke-width:8px;\" fill=\"rgb(255,255,255)\" dominant-baseline=\"bottom\" text-anchor=\"middle\">-0.199897</text><text x=\"45.851333845695684%\" y=\"27\" font-size=\"12px\" fill=\"rgb(120,120,120)\" dominant-baseline=\"bottom\" text-anchor=\"middle\">-0.199897</text><text x=\"45.851333845695684%\" y=\"10\" font-size=\"12px\" fill=\"rgb(120,120,120)\" dominant-baseline=\"bottom\" text-anchor=\"middle\">base value</text><line x1=\"54.14866577173636%\" y1=\"33\" x2=\"54.14866577173636%\" y2=\"37\" style=\"stroke:rgb(150,150,150);stroke-width:1\" /><text x=\"54.14866577173636%\" y=\"27\" font-size=\"13px\" style=\"stroke:#ffffff;stroke-width:8px;\" font-weight=\"bold\" fill=\"rgb(255,255,255)\" dominant-baseline=\"bottom\" text-anchor=\"middle\">0.0169878</text><text x=\"54.14866577173636%\" y=\"27\" font-size=\"13px\" font-weight=\"bold\" fill=\"rgb(0,0,0)\" dominant-baseline=\"bottom\" text-anchor=\"middle\">0.0169878</text><text x=\"54.14866577173636%\" y=\"10\" font-size=\"12px\" fill=\"rgb(120,120,120)\" dominant-baseline=\"bottom\" text-anchor=\"middle\">f<tspan baseline-shift=\"sub\" font-size=\"8px\"></tspan>(inputs)</text><rect x=\"8.333333301452669%\" width=\"45.815332470283685%\" y=\"40\" height=\"18\" style=\"fill:rgb(255.0, 0.0, 81.08083606031792); stroke-width:0; stroke:rgb(0,0,0)\" /><line x1=\"48.925892325316454%\" x2=\"54.14866577173636%\" y1=\"60\" y2=\"60\" id=\"_fb_rvolnytqjigysoixmgkz_ind_6\" style=\"stroke:rgb(255.0, 0.0, 81.08083606031792);stroke-width:2; opacity: 0\"/><text x=\"51.53727904852641%\" y=\"71\" font-size=\"12px\" id=\"_fs_rvolnytqjigysoixmgkz_ind_6\" fill=\"rgb(255.0, 0.0, 81.08083606031792)\" style=\"opacity: 0\" dominant-baseline=\"middle\" text-anchor=\"middle\">0.137</text><svg x=\"48.925892325316454%\" y=\"40\" height=\"20\" width=\"5.222773446419907%\">  <svg x=\"0\" y=\"0\" width=\"100%\" height=\"100%\">    <text x=\"50%\" y=\"9\" font-size=\"12px\" fill=\"rgb(255,255,255)\" dominant-baseline=\"middle\" text-anchor=\"middle\">captured</text>  </svg></svg><line x1=\"43.98250148062684%\" x2=\"48.925892325316454%\" y1=\"60\" y2=\"60\" id=\"_fb_rvolnytqjigysoixmgkz_ind_15\" style=\"stroke:rgb(255.0, 0.0, 81.08083606031792);stroke-width:2; opacity: 0\"/><text x=\"46.454196902971645%\" y=\"71\" font-size=\"12px\" id=\"_fs_rvolnytqjigysoixmgkz_ind_15\" fill=\"rgb(255.0, 0.0, 81.08083606031792)\" style=\"opacity: 0\" dominant-baseline=\"middle\" text-anchor=\"middle\">0.129</text><svg x=\"43.98250148062684%\" y=\"40\" height=\"20\" width=\"4.943390844689617%\">  <svg x=\"0\" y=\"0\" width=\"100%\" height=\"100%\">    <text x=\"50%\" y=\"9\" font-size=\"12px\" fill=\"rgb(255,255,255)\" dominant-baseline=\"middle\" text-anchor=\"middle\">in</text>  </svg></svg><line x1=\"39.624832288868014%\" x2=\"43.98250148062684%\" y1=\"60\" y2=\"60\" id=\"_fb_rvolnytqjigysoixmgkz_ind_9\" style=\"stroke:rgb(255.0, 0.0, 81.08083606031792);stroke-width:2; opacity: 0\"/><text x=\"41.80366688474743%\" y=\"71\" font-size=\"12px\" id=\"_fs_rvolnytqjigysoixmgkz_ind_9\" fill=\"rgb(255.0, 0.0, 81.08083606031792)\" style=\"opacity: 0\" dominant-baseline=\"middle\" text-anchor=\"middle\">0.114</text><svg x=\"39.624832288868014%\" y=\"40\" height=\"20\" width=\"4.3576691917588235%\">  <svg x=\"0\" y=\"0\" width=\"100%\" height=\"100%\">    <text x=\"50%\" y=\"9\" font-size=\"12px\" fill=\"rgb(255,255,255)\" dominant-baseline=\"middle\" text-anchor=\"middle\">of</text>  </svg></svg><line x1=\"35.320126483191615%\" x2=\"39.624832288868014%\" y1=\"60\" y2=\"60\" id=\"_fb_rvolnytqjigysoixmgkz_ind_17\" style=\"stroke:rgb(255.0, 0.0, 81.08083606031792);stroke-width:2; opacity: 0\"/><text x=\"37.47247938602982%\" y=\"71\" font-size=\"12px\" id=\"_fs_rvolnytqjigysoixmgkz_ind_17\" fill=\"rgb(255.0, 0.0, 81.08083606031792)\" style=\"opacity: 0\" dominant-baseline=\"middle\" text-anchor=\"middle\">0.113</text><svg x=\"35.320126483191615%\" y=\"40\" height=\"20\" width=\"4.304705805676399%\">  <svg x=\"0\" y=\"0\" width=\"100%\" height=\"100%\">    <text x=\"50%\" y=\"9\" font-size=\"12px\" fill=\"rgb(255,255,255)\" dominant-baseline=\"middle\" text-anchor=\"middle\">Large</text>  </svg></svg><line x1=\"31.16363689452386%\" x2=\"35.320126483191615%\" y1=\"60\" y2=\"60\" id=\"_fb_rvolnytqjigysoixmgkz_ind_5\" style=\"stroke:rgb(255.0, 0.0, 81.08083606031792);stroke-width:2; opacity: 0\"/><text x=\"33.24188168885774%\" y=\"71\" font-size=\"12px\" id=\"_fs_rvolnytqjigysoixmgkz_ind_5\" fill=\"rgb(255.0, 0.0, 81.08083606031792)\" style=\"opacity: 0\" dominant-baseline=\"middle\" text-anchor=\"middle\">0.109</text><svg x=\"31.16363689452386%\" y=\"40\" height=\"20\" width=\"4.156489588667753%\">  <svg x=\"0\" y=\"0\" width=\"100%\" height=\"100%\">    <text x=\"50%\" y=\"9\" font-size=\"12px\" fill=\"rgb(255,255,255)\" dominant-baseline=\"middle\" text-anchor=\"middle\">Chile</text>  </svg></svg><line x1=\"27.90792652191437%\" x2=\"31.16363689452386%\" y1=\"60\" y2=\"60\" id=\"_fb_rvolnytqjigysoixmgkz_ind_3\" style=\"stroke:rgb(255.0, 0.0, 81.08083606031792);stroke-width:2; opacity: 0\"/><text x=\"29.535781708219115%\" y=\"71\" font-size=\"12px\" id=\"_fs_rvolnytqjigysoixmgkz_ind_3\" fill=\"rgb(255.0, 0.0, 81.08083606031792)\" style=\"opacity: 0\" dominant-baseline=\"middle\" text-anchor=\"middle\">0.085</text><svg x=\"27.90792652191437%\" y=\"40\" height=\"20\" width=\"3.2557103726094923%\">  <svg x=\"0\" y=\"0\" width=\"100%\" height=\"100%\">    <text x=\"50%\" y=\"9\" font-size=\"12px\" fill=\"rgb(255,255,255)\" dominant-baseline=\"middle\" text-anchor=\"middle\">telescope</text>  </svg></svg><line x1=\"24.737423626547482%\" x2=\"27.90792652191437%\" y1=\"60\" y2=\"60\" id=\"_fb_rvolnytqjigysoixmgkz_ind_19\" style=\"stroke:rgb(255.0, 0.0, 81.08083606031792);stroke-width:2; opacity: 0\"/><text x=\"26.322675074230926%\" y=\"71\" font-size=\"12px\" id=\"_fs_rvolnytqjigysoixmgkz_ind_19\" fill=\"rgb(255.0, 0.0, 81.08083606031792)\" style=\"opacity: 0\" dominant-baseline=\"middle\" text-anchor=\"middle\">0.083</text><svg x=\"24.737423626547482%\" y=\"40\" height=\"20\" width=\"3.1705028953668872%\">  <svg x=\"0\" y=\"0\" width=\"100%\" height=\"100%\">    <text x=\"50%\" y=\"9\" font-size=\"12px\" fill=\"rgb(255,255,255)\" dominant-baseline=\"middle\" text-anchor=\"middle\">Cloud</text>  </svg></svg><line x1=\"21.845565062419087%\" x2=\"24.737423626547482%\" y1=\"60\" y2=\"60\" id=\"_fb_rvolnytqjigysoixmgkz_ind_11\" style=\"stroke:rgb(255.0, 0.0, 81.08083606031792);stroke-width:2; opacity: 0\"/><text x=\"23.291494344483283%\" y=\"71\" font-size=\"12px\" id=\"_fs_rvolnytqjigysoixmgkz_ind_11\" fill=\"rgb(255.0, 0.0, 81.08083606031792)\" style=\"opacity: 0\" dominant-baseline=\"middle\" text-anchor=\"middle\">0.076</text><svg x=\"21.845565062419087%\" y=\"40\" height=\"20\" width=\"2.8918585641283947%\">  <svg x=\"0\" y=\"0\" width=\"100%\" height=\"100%\">    <text x=\"50%\" y=\"9\" font-size=\"12px\" fill=\"rgb(255,255,255)\" dominant-baseline=\"middle\" text-anchor=\"middle\">Tar</text>  </svg></svg><line x1=\"19.000033927521592%\" x2=\"21.845565062419087%\" y1=\"60\" y2=\"60\" id=\"_fb_rvolnytqjigysoixmgkz_ind_13\" style=\"stroke:rgb(255.0, 0.0, 81.08083606031792);stroke-width:2; opacity: 0\"/><text x=\"20.42279949497034%\" y=\"71\" font-size=\"12px\" id=\"_fs_rvolnytqjigysoixmgkz_ind_13\" fill=\"rgb(255.0, 0.0, 81.08083606031792)\" style=\"opacity: 0\" dominant-baseline=\"middle\" text-anchor=\"middle\">0.074</text><svg x=\"19.000033927521592%\" y=\"40\" height=\"20\" width=\"2.845531134897495%\">  <svg x=\"0\" y=\"0\" width=\"100%\" height=\"100%\">    <text x=\"50%\" y=\"9\" font-size=\"12px\" fill=\"rgb(255,255,255)\" dominant-baseline=\"middle\" text-anchor=\"middle\">ula</text>  </svg></svg><line x1=\"16.601040110112702%\" x2=\"19.000033927521592%\" y1=\"60\" y2=\"60\" id=\"_fb_rvolnytqjigysoixmgkz_ind_1\" style=\"stroke:rgb(255.0, 0.0, 81.08083606031792);stroke-width:2; opacity: 0\"/><text x=\"17.800537018817145%\" y=\"71\" font-size=\"12px\" id=\"_fs_rvolnytqjigysoixmgkz_ind_1\" fill=\"rgb(255.0, 0.0, 81.08083606031792)\" style=\"opacity: 0\" dominant-baseline=\"middle\" text-anchor=\"middle\">0.063</text><svg x=\"16.601040110112702%\" y=\"40\" height=\"20\" width=\"2.39899381740889%\">  <svg x=\"0\" y=\"0\" width=\"100%\" height=\"100%\">    <text x=\"50%\" y=\"9\" font-size=\"12px\" fill=\"rgb(255,255,255)\" dominant-baseline=\"middle\" text-anchor=\"middle\">The</text>  </svg></svg><line x1=\"14.41255653671256%\" x2=\"16.601040110112702%\" y1=\"60\" y2=\"60\" id=\"_fb_rvolnytqjigysoixmgkz_ind_4\" style=\"stroke:rgb(255.0, 0.0, 81.08083606031792);stroke-width:2; opacity: 0\"/><text x=\"15.506798323412632%\" y=\"71\" font-size=\"12px\" id=\"_fs_rvolnytqjigysoixmgkz_ind_4\" fill=\"rgb(255.0, 0.0, 81.08083606031792)\" style=\"opacity: 0\" dominant-baseline=\"middle\" text-anchor=\"middle\">0.057</text><svg x=\"14.41255653671256%\" y=\"40\" height=\"20\" width=\"2.188483573400143%\">  <svg x=\"0\" y=\"0\" width=\"100%\" height=\"100%\">    <text x=\"50%\" y=\"9\" font-size=\"12px\" fill=\"rgb(255,255,255)\" dominant-baseline=\"middle\" text-anchor=\"middle\">in</text>  </svg></svg><line x1=\"12.292522016824947%\" x2=\"14.41255653671256%\" y1=\"60\" y2=\"60\" id=\"_fb_rvolnytqjigysoixmgkz_ind_14\" style=\"stroke:rgb(255.0, 0.0, 81.08083606031792);stroke-width:2; opacity: 0\"/><text x=\"13.352539276768752%\" y=\"71\" font-size=\"12px\" id=\"_fs_rvolnytqjigysoixmgkz_ind_14\" fill=\"rgb(255.0, 0.0, 81.08083606031792)\" style=\"opacity: 0\" dominant-baseline=\"middle\" text-anchor=\"middle\">0.055</text><svg x=\"12.292522016824947%\" y=\"40\" height=\"20\" width=\"2.1200345198876125%\">  <svg x=\"0\" y=\"0\" width=\"100%\" height=\"100%\">    <text x=\"50%\" y=\"9\" font-size=\"12px\" fill=\"rgb(255,255,255)\" dominant-baseline=\"middle\" text-anchor=\"middle\">Nebula</text>  </svg></svg><line x1=\"10.195580519447029%\" x2=\"12.292522016824947%\" y1=\"60\" y2=\"60\" id=\"_fb_rvolnytqjigysoixmgkz_ind_18\" style=\"stroke:rgb(255.0, 0.0, 81.08083606031792);stroke-width:2; opacity: 0\"/><text x=\"11.244051268135987%\" y=\"71\" font-size=\"12px\" id=\"_fs_rvolnytqjigysoixmgkz_ind_18\" fill=\"rgb(255.0, 0.0, 81.08083606031792)\" style=\"opacity: 0\" dominant-baseline=\"middle\" text-anchor=\"middle\">0.055</text><svg x=\"10.195580519447029%\" y=\"40\" height=\"20\" width=\"2.0969414973779177%\">  <svg x=\"0\" y=\"0\" width=\"100%\" height=\"100%\">    <text x=\"50%\" y=\"9\" font-size=\"12px\" fill=\"rgb(255,255,255)\" dominant-baseline=\"middle\" text-anchor=\"middle\">Magellanic</text>  </svg></svg><line x1=\"9.2625179575172%\" x2=\"10.195580519447029%\" y1=\"60\" y2=\"60\" id=\"_fb_rvolnytqjigysoixmgkz_ind_0\" style=\"stroke:rgb(255.0, 0.0, 81.08083606031792);stroke-width:2; opacity: 0\"/><text x=\"9.729049238482116%\" y=\"71\" font-size=\"12px\" id=\"_fs_rvolnytqjigysoixmgkz_ind_0\" fill=\"rgb(255.0, 0.0, 81.08083606031792)\" style=\"opacity: 0\" dominant-baseline=\"middle\" text-anchor=\"middle\">0.024</text><svg x=\"9.2625179575172%\" y=\"40\" height=\"20\" width=\"0.9330625619298285%\">  <svg x=\"0\" y=\"0\" width=\"100%\" height=\"100%\">    <text x=\"50%\" y=\"9\" font-size=\"12px\" fill=\"rgb(255,255,255)\" dominant-baseline=\"middle\" text-anchor=\"middle\"></text>  </svg></svg><line x1=\"8.617625717162435%\" x2=\"9.2625179575172%\" y1=\"60\" y2=\"60\" id=\"_fb_rvolnytqjigysoixmgkz_ind_20\" style=\"stroke:rgb(255.0, 0.0, 81.08083606031792);stroke-width:2; opacity: 0\"/><text x=\"8.940071837339818%\" y=\"71\" font-size=\"12px\" id=\"_fs_rvolnytqjigysoixmgkz_ind_20\" fill=\"rgb(255.0, 0.0, 81.08083606031792)\" style=\"opacity: 0\" dominant-baseline=\"middle\" text-anchor=\"middle\">0.017</text><svg x=\"8.617625717162435%\" y=\"40\" height=\"20\" width=\"0.6448922403547659%\">  <svg x=\"0\" y=\"0\" width=\"100%\" height=\"100%\">    <text x=\"50%\" y=\"9\" font-size=\"12px\" fill=\"rgb(255,255,255)\" dominant-baseline=\"middle\" text-anchor=\"middle\">galaxy</text>  </svg></svg><line x1=\"8.380325283909333%\" x2=\"8.617625717162435%\" y1=\"60\" y2=\"60\" id=\"_fb_rvolnytqjigysoixmgkz_ind_7\" style=\"stroke:rgb(255.0, 0.0, 81.08083606031792);stroke-width:2; opacity: 0\"/><text x=\"8.498975500535884%\" y=\"71\" font-size=\"12px\" id=\"_fs_rvolnytqjigysoixmgkz_ind_7\" fill=\"rgb(255.0, 0.0, 81.08083606031792)\" style=\"opacity: 0\" dominant-baseline=\"middle\" text-anchor=\"middle\">0.006</text><svg x=\"8.380325283909333%\" y=\"40\" height=\"20\" width=\"0.23730043325310213%\">  <svg x=\"0\" y=\"0\" width=\"100%\" height=\"100%\">    <text x=\"50%\" y=\"9\" font-size=\"12px\" fill=\"rgb(255,255,255)\" dominant-baseline=\"middle\" text-anchor=\"middle\">an</text>  </svg></svg><line x1=\"8.333333301452669%\" x2=\"8.380325283909333%\" y1=\"60\" y2=\"60\" id=\"_fb_rvolnytqjigysoixmgkz_ind_10\" style=\"stroke:rgb(255.0, 0.0, 81.08083606031792);stroke-width:2; opacity: 0\"/><text x=\"8.356829292681%\" y=\"71\" font-size=\"12px\" id=\"_fs_rvolnytqjigysoixmgkz_ind_10\" fill=\"rgb(255.0, 0.0, 81.08083606031792)\" style=\"opacity: 0\" dominant-baseline=\"middle\" text-anchor=\"middle\">0.001</text><svg x=\"8.333333301452669%\" y=\"40\" height=\"20\" width=\"0.046991982456663806%\">  <svg x=\"0\" y=\"0\" width=\"100%\" height=\"100%\">    <text x=\"50%\" y=\"9\" font-size=\"12px\" fill=\"rgb(255,255,255)\" dominant-baseline=\"middle\" text-anchor=\"middle\">the</text>  </svg></svg><g transform=\"translate(0,0)\">  <svg x=\"48.925892325316454%\" y=\"40\" height=\"18\" overflow=\"visible\" width=\"30\">    <path d=\"M 0 -9 l 6 18 L 0 25\" fill=\"none\" style=\"stroke:rgb(255.0, 0.0, 81.08083606031792);stroke-width:2\" />  </svg></g><g transform=\"translate(2,0)\">  <svg x=\"48.925892325316454%\" y=\"40\" height=\"18\" overflow=\"visible\" width=\"30\">    <path d=\"M 0 -9 l 6 18 L 0 25\" fill=\"none\" style=\"stroke:rgb(255.0, 0.0, 81.08083606031792);stroke-width:2\" />  </svg></g><g transform=\"translate(4,0)\">  <svg x=\"48.925892325316454%\" y=\"40\" height=\"18\" overflow=\"visible\" width=\"30\">    <path d=\"M 0 -9 l 6 18 L 0 25\" fill=\"none\" style=\"stroke:rgb(255.0, 0.0, 81.08083606031792);stroke-width:2\" />  </svg></g><g transform=\"translate(6,0)\">  <svg x=\"48.925892325316454%\" y=\"40\" height=\"18\" overflow=\"visible\" width=\"30\">    <path d=\"M 0 -9 l 6 18 L 0 25\" fill=\"none\" style=\"stroke:rgb(255.0, 0.0, 81.08083606031792);stroke-width:2\" />  </svg></g><g transform=\"translate(-8,0)\">  <svg x=\"48.925892325316454%\" y=\"40\" height=\"18\" overflow=\"visible\" width=\"30\">    <path d=\"M 0 -9 l 6 18 L 0 25\" fill=\"none\" style=\"stroke:rgb(255.0, 0.0, 81.08083606031792);stroke-width:2\" />  </svg></g><g transform=\"translate(-6,0)\">  <svg x=\"48.925892325316454%\" y=\"40\" height=\"18\" overflow=\"visible\" width=\"30\">    <path d=\"M 0 -9 l 6 18 L 0 25\" fill=\"none\" style=\"stroke:rgb(255.0, 0.0, 81.08083606031792);stroke-width:2\" />  </svg></g><g transform=\"translate(-4,0)\">  <svg x=\"48.925892325316454%\" y=\"40\" height=\"18\" overflow=\"visible\" width=\"30\">    <path d=\"M 0 -9 l 6 18 L 0 25\" fill=\"none\" style=\"stroke:rgb(255.0, 0.0, 81.08083606031792);stroke-width:2\" />  </svg></g><g transform=\"translate(-2,0)\">  <svg x=\"48.925892325316454%\" y=\"40\" height=\"18\" overflow=\"visible\" width=\"30\">    <path d=\"M 0 -9 l 6 18 L 0 25\" fill=\"none\" style=\"stroke:rgb(255.0, 0.0, 81.08083606031792);stroke-width:2\" />  </svg></g><g transform=\"translate(0,0)\">  <svg x=\"43.98250148062684%\" y=\"40\" height=\"18\" overflow=\"visible\" width=\"30\">    <path d=\"M 0 -9 l 6 18 L 0 25\" fill=\"none\" style=\"stroke:rgb(255.0, 0.0, 81.08083606031792);stroke-width:2\" />  </svg></g><g transform=\"translate(2,0)\">  <svg x=\"43.98250148062684%\" y=\"40\" height=\"18\" overflow=\"visible\" width=\"30\">    <path d=\"M 0 -9 l 6 18 L 0 25\" fill=\"none\" style=\"stroke:rgb(255.0, 0.0, 81.08083606031792);stroke-width:2\" />  </svg></g><g transform=\"translate(4,0)\">  <svg x=\"43.98250148062684%\" y=\"40\" height=\"18\" overflow=\"visible\" width=\"30\">    <path d=\"M 0 -9 l 6 18 L 0 25\" fill=\"none\" style=\"stroke:rgb(255.0, 0.0, 81.08083606031792);stroke-width:2\" />  </svg></g><g transform=\"translate(6,0)\">  <svg x=\"43.98250148062684%\" y=\"40\" height=\"18\" overflow=\"visible\" width=\"30\">    <path d=\"M 0 -9 l 6 18 L 0 25\" fill=\"none\" style=\"stroke:rgb(255.0, 0.0, 81.08083606031792);stroke-width:2\" />  </svg></g><g transform=\"translate(-8,0)\">  <svg x=\"43.98250148062684%\" y=\"40\" height=\"18\" overflow=\"visible\" width=\"30\">    <path d=\"M 0 -9 l 6 18 L 0 25\" fill=\"none\" style=\"stroke:rgb(255.0, 0.0, 81.08083606031792);stroke-width:2\" />  </svg></g><g transform=\"translate(-6,0)\">  <svg x=\"43.98250148062684%\" y=\"40\" height=\"18\" overflow=\"visible\" width=\"30\">    <path d=\"M 0 -9 l 6 18 L 0 25\" fill=\"none\" style=\"stroke:rgb(255.0, 0.0, 81.08083606031792);stroke-width:2\" />  </svg></g><g transform=\"translate(-4,0)\">  <svg x=\"43.98250148062684%\" y=\"40\" height=\"18\" overflow=\"visible\" width=\"30\">    <path d=\"M 0 -9 l 6 18 L 0 25\" fill=\"none\" style=\"stroke:rgb(255.0, 0.0, 81.08083606031792);stroke-width:2\" />  </svg></g><g transform=\"translate(-2,0)\">  <svg x=\"43.98250148062684%\" y=\"40\" height=\"18\" overflow=\"visible\" width=\"30\">    <path d=\"M 0 -9 l 6 18 L 0 25\" fill=\"none\" style=\"stroke:rgb(255.0, 0.0, 81.08083606031792);stroke-width:2\" />  </svg></g><g transform=\"translate(0,0)\">  <svg x=\"39.624832288868014%\" y=\"40\" height=\"18\" overflow=\"visible\" width=\"30\">    <path d=\"M 0 -9 l 6 18 L 0 25\" fill=\"none\" style=\"stroke:rgb(255.0, 0.0, 81.08083606031792);stroke-width:2\" />  </svg></g><g transform=\"translate(2,0)\">  <svg x=\"39.624832288868014%\" y=\"40\" height=\"18\" overflow=\"visible\" width=\"30\">    <path d=\"M 0 -9 l 6 18 L 0 25\" fill=\"none\" style=\"stroke:rgb(255.0, 0.0, 81.08083606031792);stroke-width:2\" />  </svg></g><g transform=\"translate(4,0)\">  <svg x=\"39.624832288868014%\" y=\"40\" height=\"18\" overflow=\"visible\" width=\"30\">    <path d=\"M 0 -9 l 6 18 L 0 25\" fill=\"none\" style=\"stroke:rgb(255.0, 0.0, 81.08083606031792);stroke-width:2\" />  </svg></g><g transform=\"translate(6,0)\">  <svg x=\"39.624832288868014%\" y=\"40\" height=\"18\" overflow=\"visible\" width=\"30\">    <path d=\"M 0 -9 l 6 18 L 0 25\" fill=\"none\" style=\"stroke:rgb(255.0, 0.0, 81.08083606031792);stroke-width:2\" />  </svg></g><g transform=\"translate(-8,0)\">  <svg x=\"39.624832288868014%\" y=\"40\" height=\"18\" overflow=\"visible\" width=\"30\">    <path d=\"M 0 -9 l 6 18 L 0 25\" fill=\"none\" style=\"stroke:rgb(255.0, 0.0, 81.08083606031792);stroke-width:2\" />  </svg></g><g transform=\"translate(-6,0)\">  <svg x=\"39.624832288868014%\" y=\"40\" height=\"18\" overflow=\"visible\" width=\"30\">    <path d=\"M 0 -9 l 6 18 L 0 25\" fill=\"none\" style=\"stroke:rgb(255.0, 0.0, 81.08083606031792);stroke-width:2\" />  </svg></g><g transform=\"translate(-4,0)\">  <svg x=\"39.624832288868014%\" y=\"40\" height=\"18\" overflow=\"visible\" width=\"30\">    <path d=\"M 0 -9 l 6 18 L 0 25\" fill=\"none\" style=\"stroke:rgb(255.0, 0.0, 81.08083606031792);stroke-width:2\" />  </svg></g><g transform=\"translate(-2,0)\">  <svg x=\"39.624832288868014%\" y=\"40\" height=\"18\" overflow=\"visible\" width=\"30\">    <path d=\"M 0 -9 l 6 18 L 0 25\" fill=\"none\" style=\"stroke:rgb(255.0, 0.0, 81.08083606031792);stroke-width:2\" />  </svg></g><g transform=\"translate(0,0)\">  <svg x=\"35.320126483191615%\" y=\"40\" height=\"18\" overflow=\"visible\" width=\"30\">    <path d=\"M 0 -9 l 6 18 L 0 25\" fill=\"none\" style=\"stroke:rgb(255.0, 0.0, 81.08083606031792);stroke-width:2\" />  </svg></g><g transform=\"translate(2,0)\">  <svg x=\"35.320126483191615%\" y=\"40\" height=\"18\" overflow=\"visible\" width=\"30\">    <path d=\"M 0 -9 l 6 18 L 0 25\" fill=\"none\" style=\"stroke:rgb(255.0, 0.0, 81.08083606031792);stroke-width:2\" />  </svg></g><g transform=\"translate(4,0)\">  <svg x=\"35.320126483191615%\" y=\"40\" height=\"18\" overflow=\"visible\" width=\"30\">    <path d=\"M 0 -9 l 6 18 L 0 25\" fill=\"none\" style=\"stroke:rgb(255.0, 0.0, 81.08083606031792);stroke-width:2\" />  </svg></g><g transform=\"translate(6,0)\">  <svg x=\"35.320126483191615%\" y=\"40\" height=\"18\" overflow=\"visible\" width=\"30\">    <path d=\"M 0 -9 l 6 18 L 0 25\" fill=\"none\" style=\"stroke:rgb(255.0, 0.0, 81.08083606031792);stroke-width:2\" />  </svg></g><g transform=\"translate(-8,0)\">  <svg x=\"35.320126483191615%\" y=\"40\" height=\"18\" overflow=\"visible\" width=\"30\">    <path d=\"M 0 -9 l 6 18 L 0 25\" fill=\"none\" style=\"stroke:rgb(255.0, 0.0, 81.08083606031792);stroke-width:2\" />  </svg></g><g transform=\"translate(-6,0)\">  <svg x=\"35.320126483191615%\" y=\"40\" height=\"18\" overflow=\"visible\" width=\"30\">    <path d=\"M 0 -9 l 6 18 L 0 25\" fill=\"none\" style=\"stroke:rgb(255.0, 0.0, 81.08083606031792);stroke-width:2\" />  </svg></g><g transform=\"translate(-4,0)\">  <svg x=\"35.320126483191615%\" y=\"40\" height=\"18\" overflow=\"visible\" width=\"30\">    <path d=\"M 0 -9 l 6 18 L 0 25\" fill=\"none\" style=\"stroke:rgb(255.0, 0.0, 81.08083606031792);stroke-width:2\" />  </svg></g><g transform=\"translate(-2,0)\">  <svg x=\"35.320126483191615%\" y=\"40\" height=\"18\" overflow=\"visible\" width=\"30\">    <path d=\"M 0 -9 l 6 18 L 0 25\" fill=\"none\" style=\"stroke:rgb(255.0, 0.0, 81.08083606031792);stroke-width:2\" />  </svg></g><g transform=\"translate(0,0)\">  <svg x=\"31.16363689452386%\" y=\"40\" height=\"18\" overflow=\"visible\" width=\"30\">    <path d=\"M 0 -9 l 6 18 L 0 25\" fill=\"none\" style=\"stroke:rgb(255.0, 0.0, 81.08083606031792);stroke-width:2\" />  </svg></g><g transform=\"translate(2,0)\">  <svg x=\"31.16363689452386%\" y=\"40\" height=\"18\" overflow=\"visible\" width=\"30\">    <path d=\"M 0 -9 l 6 18 L 0 25\" fill=\"none\" style=\"stroke:rgb(255.0, 0.0, 81.08083606031792);stroke-width:2\" />  </svg></g><g transform=\"translate(4,0)\">  <svg x=\"31.16363689452386%\" y=\"40\" height=\"18\" overflow=\"visible\" width=\"30\">    <path d=\"M 0 -9 l 6 18 L 0 25\" fill=\"none\" style=\"stroke:rgb(255.0, 0.0, 81.08083606031792);stroke-width:2\" />  </svg></g><g transform=\"translate(6,0)\">  <svg x=\"31.16363689452386%\" y=\"40\" height=\"18\" overflow=\"visible\" width=\"30\">    <path d=\"M 0 -9 l 6 18 L 0 25\" fill=\"none\" style=\"stroke:rgb(255.0, 0.0, 81.08083606031792);stroke-width:2\" />  </svg></g><g transform=\"translate(-8,0)\">  <svg x=\"31.16363689452386%\" y=\"40\" height=\"18\" overflow=\"visible\" width=\"30\">    <path d=\"M 0 -9 l 6 18 L 0 25\" fill=\"none\" style=\"stroke:rgb(255.0, 0.0, 81.08083606031792);stroke-width:2\" />  </svg></g><g transform=\"translate(-6,0)\">  <svg x=\"31.16363689452386%\" y=\"40\" height=\"18\" overflow=\"visible\" width=\"30\">    <path d=\"M 0 -9 l 6 18 L 0 25\" fill=\"none\" style=\"stroke:rgb(255.0, 0.0, 81.08083606031792);stroke-width:2\" />  </svg></g><g transform=\"translate(-4,0)\">  <svg x=\"31.16363689452386%\" y=\"40\" height=\"18\" overflow=\"visible\" width=\"30\">    <path d=\"M 0 -9 l 6 18 L 0 25\" fill=\"none\" style=\"stroke:rgb(255.0, 0.0, 81.08083606031792);stroke-width:2\" />  </svg></g><g transform=\"translate(-2,0)\">  <svg x=\"31.16363689452386%\" y=\"40\" height=\"18\" overflow=\"visible\" width=\"30\">    <path d=\"M 0 -9 l 6 18 L 0 25\" fill=\"none\" style=\"stroke:rgb(255.0, 0.0, 81.08083606031792);stroke-width:2\" />  </svg></g><g transform=\"translate(0,0)\">  <svg x=\"27.90792652191437%\" y=\"40\" height=\"18\" overflow=\"visible\" width=\"30\">    <path d=\"M 0 -9 l 6 18 L 0 25\" fill=\"none\" style=\"stroke:rgb(255.0, 0.0, 81.08083606031792);stroke-width:2\" />  </svg></g><g transform=\"translate(2,0)\">  <svg x=\"27.90792652191437%\" y=\"40\" height=\"18\" overflow=\"visible\" width=\"30\">    <path d=\"M 0 -9 l 6 18 L 0 25\" fill=\"none\" style=\"stroke:rgb(255.0, 0.0, 81.08083606031792);stroke-width:2\" />  </svg></g><g transform=\"translate(4,0)\">  <svg x=\"27.90792652191437%\" y=\"40\" height=\"18\" overflow=\"visible\" width=\"30\">    <path d=\"M 0 -9 l 6 18 L 0 25\" fill=\"none\" style=\"stroke:rgb(255.0, 0.0, 81.08083606031792);stroke-width:2\" />  </svg></g><g transform=\"translate(6,0)\">  <svg x=\"27.90792652191437%\" y=\"40\" height=\"18\" overflow=\"visible\" width=\"30\">    <path d=\"M 0 -9 l 6 18 L 0 25\" fill=\"none\" style=\"stroke:rgb(255.0, 0.0, 81.08083606031792);stroke-width:2\" />  </svg></g><g transform=\"translate(-8,0)\">  <svg x=\"27.90792652191437%\" y=\"40\" height=\"18\" overflow=\"visible\" width=\"30\">    <path d=\"M 0 -9 l 6 18 L 0 25\" fill=\"none\" style=\"stroke:rgb(255.0, 0.0, 81.08083606031792);stroke-width:2\" />  </svg></g><g transform=\"translate(-6,0)\">  <svg x=\"27.90792652191437%\" y=\"40\" height=\"18\" overflow=\"visible\" width=\"30\">    <path d=\"M 0 -9 l 6 18 L 0 25\" fill=\"none\" style=\"stroke:rgb(255.0, 0.0, 81.08083606031792);stroke-width:2\" />  </svg></g><g transform=\"translate(-4,0)\">  <svg x=\"27.90792652191437%\" y=\"40\" height=\"18\" overflow=\"visible\" width=\"30\">    <path d=\"M 0 -9 l 6 18 L 0 25\" fill=\"none\" style=\"stroke:rgb(255.0, 0.0, 81.08083606031792);stroke-width:2\" />  </svg></g><g transform=\"translate(-2,0)\">  <svg x=\"27.90792652191437%\" y=\"40\" height=\"18\" overflow=\"visible\" width=\"30\">    <path d=\"M 0 -9 l 6 18 L 0 25\" fill=\"none\" style=\"stroke:rgb(255.0, 0.0, 81.08083606031792);stroke-width:2\" />  </svg></g><g transform=\"translate(0,0)\">  <svg x=\"24.737423626547482%\" y=\"40\" height=\"18\" overflow=\"visible\" width=\"30\">    <path d=\"M 0 -9 l 6 18 L 0 25\" fill=\"none\" style=\"stroke:rgb(255.0, 0.0, 81.08083606031792);stroke-width:2\" />  </svg></g><g transform=\"translate(2,0)\">  <svg x=\"24.737423626547482%\" y=\"40\" height=\"18\" overflow=\"visible\" width=\"30\">    <path d=\"M 0 -9 l 6 18 L 0 25\" fill=\"none\" style=\"stroke:rgb(255.0, 0.0, 81.08083606031792);stroke-width:2\" />  </svg></g><g transform=\"translate(4,0)\">  <svg x=\"24.737423626547482%\" y=\"40\" height=\"18\" overflow=\"visible\" width=\"30\">    <path d=\"M 0 -9 l 6 18 L 0 25\" fill=\"none\" style=\"stroke:rgb(255.0, 0.0, 81.08083606031792);stroke-width:2\" />  </svg></g><g transform=\"translate(6,0)\">  <svg x=\"24.737423626547482%\" y=\"40\" height=\"18\" overflow=\"visible\" width=\"30\">    <path d=\"M 0 -9 l 6 18 L 0 25\" fill=\"none\" style=\"stroke:rgb(255.0, 0.0, 81.08083606031792);stroke-width:2\" />  </svg></g><g transform=\"translate(-8,0)\">  <svg x=\"24.737423626547482%\" y=\"40\" height=\"18\" overflow=\"visible\" width=\"30\">    <path d=\"M 0 -9 l 6 18 L 0 25\" fill=\"none\" style=\"stroke:rgb(255.0, 0.0, 81.08083606031792);stroke-width:2\" />  </svg></g><g transform=\"translate(-6,0)\">  <svg x=\"24.737423626547482%\" y=\"40\" height=\"18\" overflow=\"visible\" width=\"30\">    <path d=\"M 0 -9 l 6 18 L 0 25\" fill=\"none\" style=\"stroke:rgb(255.0, 0.0, 81.08083606031792);stroke-width:2\" />  </svg></g><g transform=\"translate(-4,0)\">  <svg x=\"24.737423626547482%\" y=\"40\" height=\"18\" overflow=\"visible\" width=\"30\">    <path d=\"M 0 -9 l 6 18 L 0 25\" fill=\"none\" style=\"stroke:rgb(255.0, 0.0, 81.08083606031792);stroke-width:2\" />  </svg></g><g transform=\"translate(-2,0)\">  <svg x=\"24.737423626547482%\" y=\"40\" height=\"18\" overflow=\"visible\" width=\"30\">    <path d=\"M 0 -9 l 6 18 L 0 25\" fill=\"none\" style=\"stroke:rgb(255.0, 0.0, 81.08083606031792);stroke-width:2\" />  </svg></g><g transform=\"translate(0,0)\">  <svg x=\"21.845565062419087%\" y=\"40\" height=\"18\" overflow=\"visible\" width=\"30\">    <path d=\"M 0 -9 l 6 18 L 0 25\" fill=\"none\" style=\"stroke:rgb(255.0, 0.0, 81.08083606031792);stroke-width:2\" />  </svg></g><g transform=\"translate(2,0)\">  <svg x=\"21.845565062419087%\" y=\"40\" height=\"18\" overflow=\"visible\" width=\"30\">    <path d=\"M 0 -9 l 6 18 L 0 25\" fill=\"none\" style=\"stroke:rgb(255.0, 0.0, 81.08083606031792);stroke-width:2\" />  </svg></g><g transform=\"translate(4,0)\">  <svg x=\"21.845565062419087%\" y=\"40\" height=\"18\" overflow=\"visible\" width=\"30\">    <path d=\"M 0 -9 l 6 18 L 0 25\" fill=\"none\" style=\"stroke:rgb(255.0, 0.0, 81.08083606031792);stroke-width:2\" />  </svg></g><g transform=\"translate(6,0)\">  <svg x=\"21.845565062419087%\" y=\"40\" height=\"18\" overflow=\"visible\" width=\"30\">    <path d=\"M 0 -9 l 6 18 L 0 25\" fill=\"none\" style=\"stroke:rgb(255.0, 0.0, 81.08083606031792);stroke-width:2\" />  </svg></g><g transform=\"translate(-8,0)\">  <svg x=\"21.845565062419087%\" y=\"40\" height=\"18\" overflow=\"visible\" width=\"30\">    <path d=\"M 0 -9 l 6 18 L 0 25\" fill=\"none\" style=\"stroke:rgb(255.0, 0.0, 81.08083606031792);stroke-width:2\" />  </svg></g><g transform=\"translate(-6,0)\">  <svg x=\"21.845565062419087%\" y=\"40\" height=\"18\" overflow=\"visible\" width=\"30\">    <path d=\"M 0 -9 l 6 18 L 0 25\" fill=\"none\" style=\"stroke:rgb(255.0, 0.0, 81.08083606031792);stroke-width:2\" />  </svg></g><g transform=\"translate(-4,0)\">  <svg x=\"21.845565062419087%\" y=\"40\" height=\"18\" overflow=\"visible\" width=\"30\">    <path d=\"M 0 -9 l 6 18 L 0 25\" fill=\"none\" style=\"stroke:rgb(255.0, 0.0, 81.08083606031792);stroke-width:2\" />  </svg></g><g transform=\"translate(-2,0)\">  <svg x=\"21.845565062419087%\" y=\"40\" height=\"18\" overflow=\"visible\" width=\"30\">    <path d=\"M 0 -9 l 6 18 L 0 25\" fill=\"none\" style=\"stroke:rgb(255.0, 0.0, 81.08083606031792);stroke-width:2\" />  </svg></g><g transform=\"translate(0,0)\">  <svg x=\"19.000033927521592%\" y=\"40\" height=\"18\" overflow=\"visible\" width=\"30\">    <path d=\"M 0 -9 l 6 18 L 0 25\" fill=\"none\" style=\"stroke:rgb(255.0, 0.0, 81.08083606031792);stroke-width:2\" />  </svg></g><g transform=\"translate(2,0)\">  <svg x=\"19.000033927521592%\" y=\"40\" height=\"18\" overflow=\"visible\" width=\"30\">    <path d=\"M 0 -9 l 6 18 L 0 25\" fill=\"none\" style=\"stroke:rgb(255.0, 0.0, 81.08083606031792);stroke-width:2\" />  </svg></g><g transform=\"translate(4,0)\">  <svg x=\"19.000033927521592%\" y=\"40\" height=\"18\" overflow=\"visible\" width=\"30\">    <path d=\"M 0 -9 l 6 18 L 0 25\" fill=\"none\" style=\"stroke:rgb(255.0, 0.0, 81.08083606031792);stroke-width:2\" />  </svg></g><g transform=\"translate(6,0)\">  <svg x=\"19.000033927521592%\" y=\"40\" height=\"18\" overflow=\"visible\" width=\"30\">    <path d=\"M 0 -9 l 6 18 L 0 25\" fill=\"none\" style=\"stroke:rgb(255.0, 0.0, 81.08083606031792);stroke-width:2\" />  </svg></g><g transform=\"translate(-8,0)\">  <svg x=\"19.000033927521592%\" y=\"40\" height=\"18\" overflow=\"visible\" width=\"30\">    <path d=\"M 0 -9 l 6 18 L 0 25\" fill=\"none\" style=\"stroke:rgb(255.0, 0.0, 81.08083606031792);stroke-width:2\" />  </svg></g><g transform=\"translate(-6,0)\">  <svg x=\"19.000033927521592%\" y=\"40\" height=\"18\" overflow=\"visible\" width=\"30\">    <path d=\"M 0 -9 l 6 18 L 0 25\" fill=\"none\" style=\"stroke:rgb(255.0, 0.0, 81.08083606031792);stroke-width:2\" />  </svg></g><g transform=\"translate(-4,0)\">  <svg x=\"19.000033927521592%\" y=\"40\" height=\"18\" overflow=\"visible\" width=\"30\">    <path d=\"M 0 -9 l 6 18 L 0 25\" fill=\"none\" style=\"stroke:rgb(255.0, 0.0, 81.08083606031792);stroke-width:2\" />  </svg></g><g transform=\"translate(-2,0)\">  <svg x=\"19.000033927521592%\" y=\"40\" height=\"18\" overflow=\"visible\" width=\"30\">    <path d=\"M 0 -9 l 6 18 L 0 25\" fill=\"none\" style=\"stroke:rgb(255.0, 0.0, 81.08083606031792);stroke-width:2\" />  </svg></g><g transform=\"translate(0,0)\">  <svg x=\"16.601040110112702%\" y=\"40\" height=\"18\" overflow=\"visible\" width=\"30\">    <path d=\"M 0 -9 l 6 18 L 0 25\" fill=\"none\" style=\"stroke:rgb(255.0, 0.0, 81.08083606031792);stroke-width:2\" />  </svg></g><g transform=\"translate(2,0)\">  <svg x=\"16.601040110112702%\" y=\"40\" height=\"18\" overflow=\"visible\" width=\"30\">    <path d=\"M 0 -9 l 6 18 L 0 25\" fill=\"none\" style=\"stroke:rgb(255.0, 0.0, 81.08083606031792);stroke-width:2\" />  </svg></g><g transform=\"translate(4,0)\">  <svg x=\"16.601040110112702%\" y=\"40\" height=\"18\" overflow=\"visible\" width=\"30\">    <path d=\"M 0 -9 l 6 18 L 0 25\" fill=\"none\" style=\"stroke:rgb(255.0, 0.0, 81.08083606031792);stroke-width:2\" />  </svg></g><g transform=\"translate(6,0)\">  <svg x=\"16.601040110112702%\" y=\"40\" height=\"18\" overflow=\"visible\" width=\"30\">    <path d=\"M 0 -9 l 6 18 L 0 25\" fill=\"none\" style=\"stroke:rgb(255.0, 0.0, 81.08083606031792);stroke-width:2\" />  </svg></g><g transform=\"translate(-8,0)\">  <svg x=\"16.601040110112702%\" y=\"40\" height=\"18\" overflow=\"visible\" width=\"30\">    <path d=\"M 0 -9 l 6 18 L 0 25\" fill=\"none\" style=\"stroke:rgb(255.0, 0.0, 81.08083606031792);stroke-width:2\" />  </svg></g><g transform=\"translate(-6,0)\">  <svg x=\"16.601040110112702%\" y=\"40\" height=\"18\" overflow=\"visible\" width=\"30\">    <path d=\"M 0 -9 l 6 18 L 0 25\" fill=\"none\" style=\"stroke:rgb(255.0, 0.0, 81.08083606031792);stroke-width:2\" />  </svg></g><g transform=\"translate(-4,0)\">  <svg x=\"16.601040110112702%\" y=\"40\" height=\"18\" overflow=\"visible\" width=\"30\">    <path d=\"M 0 -9 l 6 18 L 0 25\" fill=\"none\" style=\"stroke:rgb(255.0, 0.0, 81.08083606031792);stroke-width:2\" />  </svg></g><g transform=\"translate(-2,0)\">  <svg x=\"16.601040110112702%\" y=\"40\" height=\"18\" overflow=\"visible\" width=\"30\">    <path d=\"M 0 -9 l 6 18 L 0 25\" fill=\"none\" style=\"stroke:rgb(255.0, 0.0, 81.08083606031792);stroke-width:2\" />  </svg></g><g transform=\"translate(0,0)\">  <svg x=\"14.41255653671256%\" y=\"40\" height=\"18\" overflow=\"visible\" width=\"30\">    <path d=\"M 0 -9 l 6 18 L 0 25\" fill=\"none\" style=\"stroke:rgb(255.0, 0.0, 81.08083606031792);stroke-width:2\" />  </svg></g><g transform=\"translate(2,0)\">  <svg x=\"14.41255653671256%\" y=\"40\" height=\"18\" overflow=\"visible\" width=\"30\">    <path d=\"M 0 -9 l 6 18 L 0 25\" fill=\"none\" style=\"stroke:rgb(255.0, 0.0, 81.08083606031792);stroke-width:2\" />  </svg></g><g transform=\"translate(4,0)\">  <svg x=\"14.41255653671256%\" y=\"40\" height=\"18\" overflow=\"visible\" width=\"30\">    <path d=\"M 0 -9 l 6 18 L 0 25\" fill=\"none\" style=\"stroke:rgb(255.0, 0.0, 81.08083606031792);stroke-width:2\" />  </svg></g><g transform=\"translate(6,0)\">  <svg x=\"14.41255653671256%\" y=\"40\" height=\"18\" overflow=\"visible\" width=\"30\">    <path d=\"M 0 -9 l 6 18 L 0 25\" fill=\"none\" style=\"stroke:rgb(255.0, 0.0, 81.08083606031792);stroke-width:2\" />  </svg></g><g transform=\"translate(-8,0)\">  <svg x=\"14.41255653671256%\" y=\"40\" height=\"18\" overflow=\"visible\" width=\"30\">    <path d=\"M 0 -9 l 6 18 L 0 25\" fill=\"none\" style=\"stroke:rgb(255.0, 0.0, 81.08083606031792);stroke-width:2\" />  </svg></g><g transform=\"translate(-6,0)\">  <svg x=\"14.41255653671256%\" y=\"40\" height=\"18\" overflow=\"visible\" width=\"30\">    <path d=\"M 0 -9 l 6 18 L 0 25\" fill=\"none\" style=\"stroke:rgb(255.0, 0.0, 81.08083606031792);stroke-width:2\" />  </svg></g><g transform=\"translate(-4,0)\">  <svg x=\"14.41255653671256%\" y=\"40\" height=\"18\" overflow=\"visible\" width=\"30\">    <path d=\"M 0 -9 l 6 18 L 0 25\" fill=\"none\" style=\"stroke:rgb(255.0, 0.0, 81.08083606031792);stroke-width:2\" />  </svg></g><g transform=\"translate(-2,0)\">  <svg x=\"14.41255653671256%\" y=\"40\" height=\"18\" overflow=\"visible\" width=\"30\">    <path d=\"M 0 -9 l 6 18 L 0 25\" fill=\"none\" style=\"stroke:rgb(255.0, 0.0, 81.08083606031792);stroke-width:2\" />  </svg></g><g transform=\"translate(0,0)\">  <svg x=\"12.292522016824947%\" y=\"40\" height=\"18\" overflow=\"visible\" width=\"30\">    <path d=\"M 0 -9 l 6 18 L 0 25\" fill=\"none\" style=\"stroke:rgb(255.0, 0.0, 81.08083606031792);stroke-width:2\" />  </svg></g><g transform=\"translate(2,0)\">  <svg x=\"12.292522016824947%\" y=\"40\" height=\"18\" overflow=\"visible\" width=\"30\">    <path d=\"M 0 -9 l 6 18 L 0 25\" fill=\"none\" style=\"stroke:rgb(255.0, 0.0, 81.08083606031792);stroke-width:2\" />  </svg></g><g transform=\"translate(4,0)\">  <svg x=\"12.292522016824947%\" y=\"40\" height=\"18\" overflow=\"visible\" width=\"30\">    <path d=\"M 0 -9 l 6 18 L 0 25\" fill=\"none\" style=\"stroke:rgb(255.0, 0.0, 81.08083606031792);stroke-width:2\" />  </svg></g><g transform=\"translate(6,0)\">  <svg x=\"12.292522016824947%\" y=\"40\" height=\"18\" overflow=\"visible\" width=\"30\">    <path d=\"M 0 -9 l 6 18 L 0 25\" fill=\"none\" style=\"stroke:rgb(255.0, 0.0, 81.08083606031792);stroke-width:2\" />  </svg></g><g transform=\"translate(-8,0)\">  <svg x=\"12.292522016824947%\" y=\"40\" height=\"18\" overflow=\"visible\" width=\"30\">    <path d=\"M 0 -9 l 6 18 L 0 25\" fill=\"none\" style=\"stroke:rgb(255.0, 0.0, 81.08083606031792);stroke-width:2\" />  </svg></g><g transform=\"translate(-6,0)\">  <svg x=\"12.292522016824947%\" y=\"40\" height=\"18\" overflow=\"visible\" width=\"30\">    <path d=\"M 0 -9 l 6 18 L 0 25\" fill=\"none\" style=\"stroke:rgb(255.0, 0.0, 81.08083606031792);stroke-width:2\" />  </svg></g><g transform=\"translate(-4,0)\">  <svg x=\"12.292522016824947%\" y=\"40\" height=\"18\" overflow=\"visible\" width=\"30\">    <path d=\"M 0 -9 l 6 18 L 0 25\" fill=\"none\" style=\"stroke:rgb(255.0, 0.0, 81.08083606031792);stroke-width:2\" />  </svg></g><g transform=\"translate(-2,0)\">  <svg x=\"12.292522016824947%\" y=\"40\" height=\"18\" overflow=\"visible\" width=\"30\">    <path d=\"M 0 -9 l 6 18 L 0 25\" fill=\"none\" style=\"stroke:rgb(255.0, 0.0, 81.08083606031792);stroke-width:2\" />  </svg></g><g transform=\"translate(0,0)\">  <svg x=\"10.195580519447029%\" y=\"40\" height=\"18\" overflow=\"visible\" width=\"30\">    <path d=\"M 0 -9 l 6 18 L 0 25\" fill=\"none\" style=\"stroke:rgb(255.0, 0.0, 81.08083606031792);stroke-width:2\" />  </svg></g><g transform=\"translate(2,0)\">  <svg x=\"10.195580519447029%\" y=\"40\" height=\"18\" overflow=\"visible\" width=\"30\">    <path d=\"M 0 -9 l 6 18 L 0 25\" fill=\"none\" style=\"stroke:rgb(255.0, 0.0, 81.08083606031792);stroke-width:2\" />  </svg></g><g transform=\"translate(4,0)\">  <svg x=\"10.195580519447029%\" y=\"40\" height=\"18\" overflow=\"visible\" width=\"30\">    <path d=\"M 0 -9 l 6 18 L 0 25\" fill=\"none\" style=\"stroke:rgb(255.0, 0.0, 81.08083606031792);stroke-width:2\" />  </svg></g><g transform=\"translate(6,0)\">  <svg x=\"10.195580519447029%\" y=\"40\" height=\"18\" overflow=\"visible\" width=\"30\">    <path d=\"M 0 -9 l 6 18 L 0 25\" fill=\"none\" style=\"stroke:rgb(255.0, 0.0, 81.08083606031792);stroke-width:2\" />  </svg></g><g transform=\"translate(-8,0)\">  <svg x=\"10.195580519447029%\" y=\"40\" height=\"18\" overflow=\"visible\" width=\"30\">    <path d=\"M 0 -9 l 6 18 L 0 25\" fill=\"none\" style=\"stroke:rgb(255.0, 0.0, 81.08083606031792);stroke-width:2\" />  </svg></g><g transform=\"translate(-6,0)\">  <svg x=\"10.195580519447029%\" y=\"40\" height=\"18\" overflow=\"visible\" width=\"30\">    <path d=\"M 0 -9 l 6 18 L 0 25\" fill=\"none\" style=\"stroke:rgb(255.0, 0.0, 81.08083606031792);stroke-width:2\" />  </svg></g><g transform=\"translate(-4,0)\">  <svg x=\"10.195580519447029%\" y=\"40\" height=\"18\" overflow=\"visible\" width=\"30\">    <path d=\"M 0 -9 l 6 18 L 0 25\" fill=\"none\" style=\"stroke:rgb(255.0, 0.0, 81.08083606031792);stroke-width:2\" />  </svg></g><g transform=\"translate(-2,0)\">  <svg x=\"10.195580519447029%\" y=\"40\" height=\"18\" overflow=\"visible\" width=\"30\">    <path d=\"M 0 -9 l 6 18 L 0 25\" fill=\"none\" style=\"stroke:rgb(255.0, 0.0, 81.08083606031792);stroke-width:2\" />  </svg></g><g transform=\"translate(0,0)\">  <svg x=\"9.2625179575172%\" y=\"40\" height=\"18\" overflow=\"visible\" width=\"30\">    <path d=\"M 0 -9 l 6 18 L 0 25\" fill=\"none\" style=\"stroke:rgb(255.0, 0.0, 81.08083606031792);stroke-width:2\" />  </svg></g><g transform=\"translate(2,0)\">  <svg x=\"9.2625179575172%\" y=\"40\" height=\"18\" overflow=\"visible\" width=\"30\">    <path d=\"M 0 -9 l 6 18 L 0 25\" fill=\"none\" style=\"stroke:rgb(255.0, 0.0, 81.08083606031792);stroke-width:2\" />  </svg></g><g transform=\"translate(4,0)\">  <svg x=\"9.2625179575172%\" y=\"40\" height=\"18\" overflow=\"visible\" width=\"30\">    <path d=\"M 0 -9 l 6 18 L 0 25\" fill=\"none\" style=\"stroke:rgb(255.0, 0.0, 81.08083606031792);stroke-width:2\" />  </svg></g><g transform=\"translate(6,0)\">  <svg x=\"9.2625179575172%\" y=\"40\" height=\"18\" overflow=\"visible\" width=\"30\">    <path d=\"M 0 -9 l 6 18 L 0 25\" fill=\"none\" style=\"stroke:rgb(255.0, 0.0, 81.08083606031792);stroke-width:2\" />  </svg></g><g transform=\"translate(-8,0)\">  <svg x=\"9.2625179575172%\" y=\"40\" height=\"18\" overflow=\"visible\" width=\"30\">    <path d=\"M 0 -9 l 6 18 L 0 25\" fill=\"none\" style=\"stroke:rgb(255.0, 0.0, 81.08083606031792);stroke-width:2\" />  </svg></g><g transform=\"translate(-6,0)\">  <svg x=\"9.2625179575172%\" y=\"40\" height=\"18\" overflow=\"visible\" width=\"30\">    <path d=\"M 0 -9 l 6 18 L 0 25\" fill=\"none\" style=\"stroke:rgb(255.0, 0.0, 81.08083606031792);stroke-width:2\" />  </svg></g><g transform=\"translate(-4,0)\">  <svg x=\"9.2625179575172%\" y=\"40\" height=\"18\" overflow=\"visible\" width=\"30\">    <path d=\"M 0 -9 l 6 18 L 0 25\" fill=\"none\" style=\"stroke:rgb(255.0, 0.0, 81.08083606031792);stroke-width:2\" />  </svg></g><g transform=\"translate(-2,0)\">  <svg x=\"9.2625179575172%\" y=\"40\" height=\"18\" overflow=\"visible\" width=\"30\">    <path d=\"M 0 -9 l 6 18 L 0 25\" fill=\"none\" style=\"stroke:rgb(255.0, 0.0, 81.08083606031792);stroke-width:2\" />  </svg></g><g transform=\"translate(0,0)\">  <svg x=\"8.617625717162435%\" y=\"40\" height=\"18\" overflow=\"visible\" width=\"30\">    <path d=\"M 0 -9 l 6 18 L 0 25\" fill=\"none\" style=\"stroke:rgb(255.0, 0.0, 81.08083606031792);stroke-width:2\" />  </svg></g><g transform=\"translate(2,0)\">  <svg x=\"8.617625717162435%\" y=\"40\" height=\"18\" overflow=\"visible\" width=\"30\">    <path d=\"M 0 -9 l 6 18 L 0 25\" fill=\"none\" style=\"stroke:rgb(255.0, 0.0, 81.08083606031792);stroke-width:2\" />  </svg></g><g transform=\"translate(4,0)\">  <svg x=\"8.617625717162435%\" y=\"40\" height=\"18\" overflow=\"visible\" width=\"30\">    <path d=\"M 0 -9 l 6 18 L 0 25\" fill=\"none\" style=\"stroke:rgb(255.0, 0.0, 81.08083606031792);stroke-width:2\" />  </svg></g><g transform=\"translate(6,0)\">  <svg x=\"8.617625717162435%\" y=\"40\" height=\"18\" overflow=\"visible\" width=\"30\">    <path d=\"M 0 -9 l 6 18 L 0 25\" fill=\"none\" style=\"stroke:rgb(255.0, 0.0, 81.08083606031792);stroke-width:2\" />  </svg></g><g transform=\"translate(-8,0)\">  <svg x=\"8.617625717162435%\" y=\"40\" height=\"18\" overflow=\"visible\" width=\"30\">    <path d=\"M 0 -9 l 6 18 L 0 25\" fill=\"none\" style=\"stroke:rgb(255.0, 0.0, 81.08083606031792);stroke-width:2\" />  </svg></g><g transform=\"translate(-6,0)\">  <svg x=\"8.617625717162435%\" y=\"40\" height=\"18\" overflow=\"visible\" width=\"30\">    <path d=\"M 0 -9 l 6 18 L 0 25\" fill=\"none\" style=\"stroke:rgb(255.0, 0.0, 81.08083606031792);stroke-width:2\" />  </svg></g><g transform=\"translate(-4,0)\">  <svg x=\"8.617625717162435%\" y=\"40\" height=\"18\" overflow=\"visible\" width=\"30\">    <path d=\"M 0 -9 l 6 18 L 0 25\" fill=\"none\" style=\"stroke:rgb(255.0, 0.0, 81.08083606031792);stroke-width:2\" />  </svg></g><g transform=\"translate(-2,0)\">  <svg x=\"8.617625717162435%\" y=\"40\" height=\"18\" overflow=\"visible\" width=\"30\">    <path d=\"M 0 -9 l 6 18 L 0 25\" fill=\"none\" style=\"stroke:rgb(255.0, 0.0, 81.08083606031792);stroke-width:2\" />  </svg></g><g transform=\"translate(0,0)\">  <svg x=\"8.380325283909333%\" y=\"40\" height=\"18\" overflow=\"visible\" width=\"30\">    <path d=\"M 0 -9 l 6 18 L 0 25\" fill=\"none\" style=\"stroke:rgb(255.0, 0.0, 81.08083606031792);stroke-width:2\" />  </svg></g><g transform=\"translate(2,0)\">  <svg x=\"8.380325283909333%\" y=\"40\" height=\"18\" overflow=\"visible\" width=\"30\">    <path d=\"M 0 -9 l 6 18 L 0 25\" fill=\"none\" style=\"stroke:rgb(255.0, 0.0, 81.08083606031792);stroke-width:2\" />  </svg></g><g transform=\"translate(4,0)\">  <svg x=\"8.380325283909333%\" y=\"40\" height=\"18\" overflow=\"visible\" width=\"30\">    <path d=\"M 0 -9 l 6 18 L 0 25\" fill=\"none\" style=\"stroke:rgb(255.0, 0.0, 81.08083606031792);stroke-width:2\" />  </svg></g><g transform=\"translate(6,0)\">  <svg x=\"8.380325283909333%\" y=\"40\" height=\"18\" overflow=\"visible\" width=\"30\">    <path d=\"M 0 -9 l 6 18 L 0 25\" fill=\"none\" style=\"stroke:rgb(255.0, 0.0, 81.08083606031792);stroke-width:2\" />  </svg></g><g transform=\"translate(-8,0)\">  <svg x=\"8.380325283909333%\" y=\"40\" height=\"18\" overflow=\"visible\" width=\"30\">    <path d=\"M 0 -9 l 6 18 L 0 25\" fill=\"none\" style=\"stroke:rgb(255.0, 0.0, 81.08083606031792);stroke-width:2\" />  </svg></g><g transform=\"translate(-6,0)\">  <svg x=\"8.380325283909333%\" y=\"40\" height=\"18\" overflow=\"visible\" width=\"30\">    <path d=\"M 0 -9 l 6 18 L 0 25\" fill=\"none\" style=\"stroke:rgb(255.0, 0.0, 81.08083606031792);stroke-width:2\" />  </svg></g><g transform=\"translate(-4,0)\">  <svg x=\"8.380325283909333%\" y=\"40\" height=\"18\" overflow=\"visible\" width=\"30\">    <path d=\"M 0 -9 l 6 18 L 0 25\" fill=\"none\" style=\"stroke:rgb(255.0, 0.0, 81.08083606031792);stroke-width:2\" />  </svg></g><g transform=\"translate(-2,0)\">  <svg x=\"8.380325283909333%\" y=\"40\" height=\"18\" overflow=\"visible\" width=\"30\">    <path d=\"M 0 -9 l 6 18 L 0 25\" fill=\"none\" style=\"stroke:rgb(255.0, 0.0, 81.08083606031792);stroke-width:2\" />  </svg></g><rect transform=\"translate(-8,0)\" x=\"54.14866577173636%\" y=\"40\" width=\"8\" height=\"18\" style=\"fill:rgb(255.0, 0.0, 81.08083606031792)\"/><g transform=\"translate(-11.5,0)\">  <svg x=\"8.333333301452669%\" y=\"40\" height=\"18\" overflow=\"visible\" width=\"30\">    <path d=\"M 10 -9 l 6 18 L 10 25 L 0 25 L 0 -9\" fill=\"#ffffff\" style=\"stroke:rgb(255,255,255);stroke-width:2\" />  </svg></g><g transform=\"translate(-1.5,0)\">  <svg x=\"54.14866577173636%\" y=\"40\" height=\"18\" overflow=\"visible\" width=\"30\">    <path d=\"M 0 -9 l 6 18 L 0 25\" fill=\"none\" style=\"stroke:rgb(255, 195, 213);stroke-width:2\" />  </svg></g><rect x=\"48.925892325316454%\" y=\"40\" height=\"20\" width=\"5.222773446419907%\"      onmouseover=\"document.getElementById('_tp_rvolnytqjigysoixmgkz_ind_6').style.textDecoration = 'underline';document.getElementById('_fs_rvolnytqjigysoixmgkz_ind_6').style.opacity = 1;document.getElementById('_fb_rvolnytqjigysoixmgkz_ind_6').style.opacity = 1;\"      onmouseout=\"document.getElementById('_tp_rvolnytqjigysoixmgkz_ind_6').style.textDecoration = 'none';document.getElementById('_fs_rvolnytqjigysoixmgkz_ind_6').style.opacity = 0;document.getElementById('_fb_rvolnytqjigysoixmgkz_ind_6').style.opacity = 0;\" style=\"fill:rgb(0,0,0,0)\" /><g transform=\"translate(-1.5,0)\">  <svg x=\"48.925892325316454%\" y=\"40\" height=\"18\" overflow=\"visible\" width=\"30\">    <path d=\"M 0 -9 l 6 18 L 0 25\" fill=\"none\" style=\"stroke:rgb(255, 195, 213);stroke-width:2\" />  </svg></g><rect x=\"43.98250148062684%\" y=\"40\" height=\"20\" width=\"4.943390844689617%\"      onmouseover=\"document.getElementById('_tp_rvolnytqjigysoixmgkz_ind_15').style.textDecoration = 'underline';document.getElementById('_fs_rvolnytqjigysoixmgkz_ind_15').style.opacity = 1;document.getElementById('_fb_rvolnytqjigysoixmgkz_ind_15').style.opacity = 1;\"      onmouseout=\"document.getElementById('_tp_rvolnytqjigysoixmgkz_ind_15').style.textDecoration = 'none';document.getElementById('_fs_rvolnytqjigysoixmgkz_ind_15').style.opacity = 0;document.getElementById('_fb_rvolnytqjigysoixmgkz_ind_15').style.opacity = 0;\" style=\"fill:rgb(0,0,0,0)\" /><g transform=\"translate(-1.5,0)\">  <svg x=\"43.98250148062684%\" y=\"40\" height=\"18\" overflow=\"visible\" width=\"30\">    <path d=\"M 0 -9 l 6 18 L 0 25\" fill=\"none\" style=\"stroke:rgb(255, 195, 213);stroke-width:2\" />  </svg></g><rect x=\"39.624832288868014%\" y=\"40\" height=\"20\" width=\"4.3576691917588235%\"      onmouseover=\"document.getElementById('_tp_rvolnytqjigysoixmgkz_ind_9').style.textDecoration = 'underline';document.getElementById('_fs_rvolnytqjigysoixmgkz_ind_9').style.opacity = 1;document.getElementById('_fb_rvolnytqjigysoixmgkz_ind_9').style.opacity = 1;\"      onmouseout=\"document.getElementById('_tp_rvolnytqjigysoixmgkz_ind_9').style.textDecoration = 'none';document.getElementById('_fs_rvolnytqjigysoixmgkz_ind_9').style.opacity = 0;document.getElementById('_fb_rvolnytqjigysoixmgkz_ind_9').style.opacity = 0;\" style=\"fill:rgb(0,0,0,0)\" /><g transform=\"translate(-1.5,0)\">  <svg x=\"39.624832288868014%\" y=\"40\" height=\"18\" overflow=\"visible\" width=\"30\">    <path d=\"M 0 -9 l 6 18 L 0 25\" fill=\"none\" style=\"stroke:rgb(255, 195, 213);stroke-width:2\" />  </svg></g><rect x=\"35.320126483191615%\" y=\"40\" height=\"20\" width=\"4.304705805676399%\"      onmouseover=\"document.getElementById('_tp_rvolnytqjigysoixmgkz_ind_17').style.textDecoration = 'underline';document.getElementById('_fs_rvolnytqjigysoixmgkz_ind_17').style.opacity = 1;document.getElementById('_fb_rvolnytqjigysoixmgkz_ind_17').style.opacity = 1;\"      onmouseout=\"document.getElementById('_tp_rvolnytqjigysoixmgkz_ind_17').style.textDecoration = 'none';document.getElementById('_fs_rvolnytqjigysoixmgkz_ind_17').style.opacity = 0;document.getElementById('_fb_rvolnytqjigysoixmgkz_ind_17').style.opacity = 0;\" style=\"fill:rgb(0,0,0,0)\" /><g transform=\"translate(-1.5,0)\">  <svg x=\"35.320126483191615%\" y=\"40\" height=\"18\" overflow=\"visible\" width=\"30\">    <path d=\"M 0 -9 l 6 18 L 0 25\" fill=\"none\" style=\"stroke:rgb(255, 195, 213);stroke-width:2\" />  </svg></g><rect x=\"31.16363689452386%\" y=\"40\" height=\"20\" width=\"4.156489588667753%\"      onmouseover=\"document.getElementById('_tp_rvolnytqjigysoixmgkz_ind_5').style.textDecoration = 'underline';document.getElementById('_fs_rvolnytqjigysoixmgkz_ind_5').style.opacity = 1;document.getElementById('_fb_rvolnytqjigysoixmgkz_ind_5').style.opacity = 1;\"      onmouseout=\"document.getElementById('_tp_rvolnytqjigysoixmgkz_ind_5').style.textDecoration = 'none';document.getElementById('_fs_rvolnytqjigysoixmgkz_ind_5').style.opacity = 0;document.getElementById('_fb_rvolnytqjigysoixmgkz_ind_5').style.opacity = 0;\" style=\"fill:rgb(0,0,0,0)\" /><g transform=\"translate(-1.5,0)\">  <svg x=\"31.16363689452386%\" y=\"40\" height=\"18\" overflow=\"visible\" width=\"30\">    <path d=\"M 0 -9 l 6 18 L 0 25\" fill=\"none\" style=\"stroke:rgb(255, 195, 213);stroke-width:2\" />  </svg></g><rect x=\"27.90792652191437%\" y=\"40\" height=\"20\" width=\"3.2557103726094923%\"      onmouseover=\"document.getElementById('_tp_rvolnytqjigysoixmgkz_ind_3').style.textDecoration = 'underline';document.getElementById('_fs_rvolnytqjigysoixmgkz_ind_3').style.opacity = 1;document.getElementById('_fb_rvolnytqjigysoixmgkz_ind_3').style.opacity = 1;\"      onmouseout=\"document.getElementById('_tp_rvolnytqjigysoixmgkz_ind_3').style.textDecoration = 'none';document.getElementById('_fs_rvolnytqjigysoixmgkz_ind_3').style.opacity = 0;document.getElementById('_fb_rvolnytqjigysoixmgkz_ind_3').style.opacity = 0;\" style=\"fill:rgb(0,0,0,0)\" /><g transform=\"translate(-1.5,0)\">  <svg x=\"27.90792652191437%\" y=\"40\" height=\"18\" overflow=\"visible\" width=\"30\">    <path d=\"M 0 -9 l 6 18 L 0 25\" fill=\"none\" style=\"stroke:rgb(255, 195, 213);stroke-width:2\" />  </svg></g><rect x=\"24.737423626547482%\" y=\"40\" height=\"20\" width=\"3.1705028953668872%\"      onmouseover=\"document.getElementById('_tp_rvolnytqjigysoixmgkz_ind_19').style.textDecoration = 'underline';document.getElementById('_fs_rvolnytqjigysoixmgkz_ind_19').style.opacity = 1;document.getElementById('_fb_rvolnytqjigysoixmgkz_ind_19').style.opacity = 1;\"      onmouseout=\"document.getElementById('_tp_rvolnytqjigysoixmgkz_ind_19').style.textDecoration = 'none';document.getElementById('_fs_rvolnytqjigysoixmgkz_ind_19').style.opacity = 0;document.getElementById('_fb_rvolnytqjigysoixmgkz_ind_19').style.opacity = 0;\" style=\"fill:rgb(0,0,0,0)\" /><g transform=\"translate(-1.5,0)\">  <svg x=\"24.737423626547482%\" y=\"40\" height=\"18\" overflow=\"visible\" width=\"30\">    <path d=\"M 0 -9 l 6 18 L 0 25\" fill=\"none\" style=\"stroke:rgb(255, 195, 213);stroke-width:2\" />  </svg></g><rect x=\"21.845565062419087%\" y=\"40\" height=\"20\" width=\"2.8918585641283947%\"      onmouseover=\"document.getElementById('_tp_rvolnytqjigysoixmgkz_ind_11').style.textDecoration = 'underline';document.getElementById('_fs_rvolnytqjigysoixmgkz_ind_11').style.opacity = 1;document.getElementById('_fb_rvolnytqjigysoixmgkz_ind_11').style.opacity = 1;\"      onmouseout=\"document.getElementById('_tp_rvolnytqjigysoixmgkz_ind_11').style.textDecoration = 'none';document.getElementById('_fs_rvolnytqjigysoixmgkz_ind_11').style.opacity = 0;document.getElementById('_fb_rvolnytqjigysoixmgkz_ind_11').style.opacity = 0;\" style=\"fill:rgb(0,0,0,0)\" /><g transform=\"translate(-1.5,0)\">  <svg x=\"21.845565062419087%\" y=\"40\" height=\"18\" overflow=\"visible\" width=\"30\">    <path d=\"M 0 -9 l 6 18 L 0 25\" fill=\"none\" style=\"stroke:rgb(255, 195, 213);stroke-width:2\" />  </svg></g><rect x=\"19.000033927521592%\" y=\"40\" height=\"20\" width=\"2.845531134897495%\"      onmouseover=\"document.getElementById('_tp_rvolnytqjigysoixmgkz_ind_13').style.textDecoration = 'underline';document.getElementById('_fs_rvolnytqjigysoixmgkz_ind_13').style.opacity = 1;document.getElementById('_fb_rvolnytqjigysoixmgkz_ind_13').style.opacity = 1;\"      onmouseout=\"document.getElementById('_tp_rvolnytqjigysoixmgkz_ind_13').style.textDecoration = 'none';document.getElementById('_fs_rvolnytqjigysoixmgkz_ind_13').style.opacity = 0;document.getElementById('_fb_rvolnytqjigysoixmgkz_ind_13').style.opacity = 0;\" style=\"fill:rgb(0,0,0,0)\" /><g transform=\"translate(-1.5,0)\">  <svg x=\"19.000033927521592%\" y=\"40\" height=\"18\" overflow=\"visible\" width=\"30\">    <path d=\"M 0 -9 l 6 18 L 0 25\" fill=\"none\" style=\"stroke:rgb(255, 195, 213);stroke-width:2\" />  </svg></g><rect x=\"16.601040110112702%\" y=\"40\" height=\"20\" width=\"2.39899381740889%\"      onmouseover=\"document.getElementById('_tp_rvolnytqjigysoixmgkz_ind_1').style.textDecoration = 'underline';document.getElementById('_fs_rvolnytqjigysoixmgkz_ind_1').style.opacity = 1;document.getElementById('_fb_rvolnytqjigysoixmgkz_ind_1').style.opacity = 1;\"      onmouseout=\"document.getElementById('_tp_rvolnytqjigysoixmgkz_ind_1').style.textDecoration = 'none';document.getElementById('_fs_rvolnytqjigysoixmgkz_ind_1').style.opacity = 0;document.getElementById('_fb_rvolnytqjigysoixmgkz_ind_1').style.opacity = 0;\" style=\"fill:rgb(0,0,0,0)\" /><g transform=\"translate(-1.5,0)\">  <svg x=\"16.601040110112702%\" y=\"40\" height=\"18\" overflow=\"visible\" width=\"30\">    <path d=\"M 0 -9 l 6 18 L 0 25\" fill=\"none\" style=\"stroke:rgb(255, 195, 213);stroke-width:2\" />  </svg></g><rect x=\"14.41255653671256%\" y=\"40\" height=\"20\" width=\"2.188483573400143%\"      onmouseover=\"document.getElementById('_tp_rvolnytqjigysoixmgkz_ind_4').style.textDecoration = 'underline';document.getElementById('_fs_rvolnytqjigysoixmgkz_ind_4').style.opacity = 1;document.getElementById('_fb_rvolnytqjigysoixmgkz_ind_4').style.opacity = 1;\"      onmouseout=\"document.getElementById('_tp_rvolnytqjigysoixmgkz_ind_4').style.textDecoration = 'none';document.getElementById('_fs_rvolnytqjigysoixmgkz_ind_4').style.opacity = 0;document.getElementById('_fb_rvolnytqjigysoixmgkz_ind_4').style.opacity = 0;\" style=\"fill:rgb(0,0,0,0)\" /><g transform=\"translate(-1.5,0)\">  <svg x=\"14.41255653671256%\" y=\"40\" height=\"18\" overflow=\"visible\" width=\"30\">    <path d=\"M 0 -9 l 6 18 L 0 25\" fill=\"none\" style=\"stroke:rgb(255, 195, 213);stroke-width:2\" />  </svg></g><rect x=\"12.292522016824947%\" y=\"40\" height=\"20\" width=\"2.1200345198876125%\"      onmouseover=\"document.getElementById('_tp_rvolnytqjigysoixmgkz_ind_14').style.textDecoration = 'underline';document.getElementById('_fs_rvolnytqjigysoixmgkz_ind_14').style.opacity = 1;document.getElementById('_fb_rvolnytqjigysoixmgkz_ind_14').style.opacity = 1;\"      onmouseout=\"document.getElementById('_tp_rvolnytqjigysoixmgkz_ind_14').style.textDecoration = 'none';document.getElementById('_fs_rvolnytqjigysoixmgkz_ind_14').style.opacity = 0;document.getElementById('_fb_rvolnytqjigysoixmgkz_ind_14').style.opacity = 0;\" style=\"fill:rgb(0,0,0,0)\" /><g transform=\"translate(-1.5,0)\">  <svg x=\"12.292522016824947%\" y=\"40\" height=\"18\" overflow=\"visible\" width=\"30\">    <path d=\"M 0 -9 l 6 18 L 0 25\" fill=\"none\" style=\"stroke:rgb(255, 195, 213);stroke-width:2\" />  </svg></g><rect x=\"10.195580519447029%\" y=\"40\" height=\"20\" width=\"2.0969414973779177%\"      onmouseover=\"document.getElementById('_tp_rvolnytqjigysoixmgkz_ind_18').style.textDecoration = 'underline';document.getElementById('_fs_rvolnytqjigysoixmgkz_ind_18').style.opacity = 1;document.getElementById('_fb_rvolnytqjigysoixmgkz_ind_18').style.opacity = 1;\"      onmouseout=\"document.getElementById('_tp_rvolnytqjigysoixmgkz_ind_18').style.textDecoration = 'none';document.getElementById('_fs_rvolnytqjigysoixmgkz_ind_18').style.opacity = 0;document.getElementById('_fb_rvolnytqjigysoixmgkz_ind_18').style.opacity = 0;\" style=\"fill:rgb(0,0,0,0)\" /><g transform=\"translate(-1.5,0)\">  <svg x=\"10.195580519447029%\" y=\"40\" height=\"18\" overflow=\"visible\" width=\"30\">    <path d=\"M 0 -9 l 6 18 L 0 25\" fill=\"none\" style=\"stroke:rgb(255, 195, 213);stroke-width:2\" />  </svg></g><rect x=\"9.2625179575172%\" y=\"40\" height=\"20\" width=\"0.9330625619298285%\"      onmouseover=\"document.getElementById('_tp_rvolnytqjigysoixmgkz_ind_0').style.textDecoration = 'underline';document.getElementById('_fs_rvolnytqjigysoixmgkz_ind_0').style.opacity = 1;document.getElementById('_fb_rvolnytqjigysoixmgkz_ind_0').style.opacity = 1;\"      onmouseout=\"document.getElementById('_tp_rvolnytqjigysoixmgkz_ind_0').style.textDecoration = 'none';document.getElementById('_fs_rvolnytqjigysoixmgkz_ind_0').style.opacity = 0;document.getElementById('_fb_rvolnytqjigysoixmgkz_ind_0').style.opacity = 0;\" style=\"fill:rgb(0,0,0,0)\" /><g transform=\"translate(-1.5,0)\">  <svg x=\"9.2625179575172%\" y=\"40\" height=\"18\" overflow=\"visible\" width=\"30\">    <path d=\"M 0 -9 l 6 18 L 0 25\" fill=\"none\" style=\"stroke:rgb(255, 195, 213);stroke-width:2\" />  </svg></g><rect x=\"8.617625717162435%\" y=\"40\" height=\"20\" width=\"0.6448922403547659%\"      onmouseover=\"document.getElementById('_tp_rvolnytqjigysoixmgkz_ind_20').style.textDecoration = 'underline';document.getElementById('_fs_rvolnytqjigysoixmgkz_ind_20').style.opacity = 1;document.getElementById('_fb_rvolnytqjigysoixmgkz_ind_20').style.opacity = 1;\"      onmouseout=\"document.getElementById('_tp_rvolnytqjigysoixmgkz_ind_20').style.textDecoration = 'none';document.getElementById('_fs_rvolnytqjigysoixmgkz_ind_20').style.opacity = 0;document.getElementById('_fb_rvolnytqjigysoixmgkz_ind_20').style.opacity = 0;\" style=\"fill:rgb(0,0,0,0)\" /><g transform=\"translate(-1.5,0)\">  <svg x=\"8.617625717162435%\" y=\"40\" height=\"18\" overflow=\"visible\" width=\"30\">    <path d=\"M 0 -9 l 6 18 L 0 25\" fill=\"none\" style=\"stroke:rgb(255, 195, 213);stroke-width:2\" />  </svg></g><rect x=\"8.380325283909333%\" y=\"40\" height=\"20\" width=\"0.23730043325310213%\"      onmouseover=\"document.getElementById('_tp_rvolnytqjigysoixmgkz_ind_7').style.textDecoration = 'underline';document.getElementById('_fs_rvolnytqjigysoixmgkz_ind_7').style.opacity = 1;document.getElementById('_fb_rvolnytqjigysoixmgkz_ind_7').style.opacity = 1;\"      onmouseout=\"document.getElementById('_tp_rvolnytqjigysoixmgkz_ind_7').style.textDecoration = 'none';document.getElementById('_fs_rvolnytqjigysoixmgkz_ind_7').style.opacity = 0;document.getElementById('_fb_rvolnytqjigysoixmgkz_ind_7').style.opacity = 0;\" style=\"fill:rgb(0,0,0,0)\" /><rect x=\"8.333333301452669%\" y=\"40\" height=\"20\" width=\"0.046991982456663806%\"      onmouseover=\"document.getElementById('_tp_rvolnytqjigysoixmgkz_ind_10').style.textDecoration = 'underline';document.getElementById('_fs_rvolnytqjigysoixmgkz_ind_10').style.opacity = 1;document.getElementById('_fb_rvolnytqjigysoixmgkz_ind_10').style.opacity = 1;\"      onmouseout=\"document.getElementById('_tp_rvolnytqjigysoixmgkz_ind_10').style.textDecoration = 'none';document.getElementById('_fs_rvolnytqjigysoixmgkz_ind_10').style.opacity = 0;document.getElementById('_fb_rvolnytqjigysoixmgkz_ind_10').style.opacity = 0;\" style=\"fill:rgb(0,0,0,0)\" /><rect x=\"54.14866577173636%\" width=\"37.518000544243016%\" y=\"40\" height=\"18\" style=\"fill:rgb(0.0, 138.56128015770727, 250.76166088685727); stroke-width:0; stroke:rgb(0,0,0)\" /><line x1=\"54.14866577173636%\" x2=\"72.24606813246676%\" y1=\"60\" y2=\"60\" id=\"_fb_rvolnytqjigysoixmgkz_ind_2\" style=\"stroke:rgb(0.0, 138.56128015770727, 250.76166088685727);stroke-width:2; opacity: 0\"/><text x=\"63.19736695210156%\" y=\"71\" font-size=\"12px\" fill=\"rgb(0.0, 138.56128015770727, 250.76166088685727)\" id=\"_fs_rvolnytqjigysoixmgkz_ind_2\" style=\"opacity: 0\" dominant-baseline=\"middle\" text-anchor=\"middle\">-0.473</text><svg x=\"54.14866577173636%\" y=\"40\" height=\"20\" width=\"18.0974023607304%\">  <svg x=\"0\" y=\"0\" width=\"100%\" height=\"100%\">    <text x=\"50%\" y=\"9\" font-size=\"12px\" fill=\"rgb(255,255,255)\" dominant-baseline=\"middle\" text-anchor=\"middle\">VLT</text>  </svg></svg><line x1=\"72.24606813246676%\" x2=\"85.8111913793499%\" y1=\"60\" y2=\"60\" id=\"_fb_rvolnytqjigysoixmgkz_ind_21\" style=\"stroke:rgb(0.0, 138.56128015770727, 250.76166088685727);stroke-width:2; opacity: 0\"/><text x=\"79.02862975590833%\" y=\"71\" font-size=\"12px\" fill=\"rgb(0.0, 138.56128015770727, 250.76166088685727)\" id=\"_fs_rvolnytqjigysoixmgkz_ind_21\" style=\"opacity: 0\" dominant-baseline=\"middle\" text-anchor=\"middle\">-0.355</text><svg x=\"72.24606813246676%\" y=\"40\" height=\"20\" width=\"13.565123246883147%\">  <svg x=\"0\" y=\"0\" width=\"100%\" height=\"100%\">    <text x=\"50%\" y=\"9\" font-size=\"12px\" fill=\"rgb(255,255,255)\" dominant-baseline=\"middle\" text-anchor=\"middle\">.</text>  </svg></svg><line x1=\"85.8111913793499%\" x2=\"89.05790984660005%\" y1=\"60\" y2=\"60\" id=\"_fb_rvolnytqjigysoixmgkz_ind_22\" style=\"stroke:rgb(0.0, 138.56128015770727, 250.76166088685727);stroke-width:2; opacity: 0\"/><text x=\"87.43455061297499%\" y=\"71\" font-size=\"12px\" fill=\"rgb(0.0, 138.56128015770727, 250.76166088685727)\" id=\"_fs_rvolnytqjigysoixmgkz_ind_22\" style=\"opacity: 0\" dominant-baseline=\"middle\" text-anchor=\"middle\">-0.085</text><svg x=\"85.8111913793499%\" y=\"40\" height=\"20\" width=\"3.2467184672501475%\">  <svg x=\"0\" y=\"0\" width=\"100%\" height=\"100%\">    <text x=\"50%\" y=\"9\" font-size=\"12px\" fill=\"rgb(255,255,255)\" dominant-baseline=\"middle\" text-anchor=\"middle\"></text>  </svg></svg><line x1=\"89.05790984660005%\" x2=\"91.17179197655219%\" y1=\"60\" y2=\"60\" id=\"_fb_rvolnytqjigysoixmgkz_ind_16\" style=\"stroke:rgb(0.0, 138.56128015770727, 250.76166088685727);stroke-width:2; opacity: 0\"/><text x=\"90.11485091157613%\" y=\"71\" font-size=\"12px\" fill=\"rgb(0.0, 138.56128015770727, 250.76166088685727)\" id=\"_fs_rvolnytqjigysoixmgkz_ind_16\" style=\"opacity: 0\" dominant-baseline=\"middle\" text-anchor=\"middle\">-0.055</text><svg x=\"89.05790984660005%\" y=\"40\" height=\"20\" width=\"2.113882129952131%\">  <svg x=\"0\" y=\"0\" width=\"100%\" height=\"100%\">    <text x=\"50%\" y=\"9\" font-size=\"12px\" fill=\"rgb(255,255,255)\" dominant-baseline=\"middle\" text-anchor=\"middle\">the</text>  </svg></svg><line x1=\"91.17179197655219%\" x2=\"91.65778813526892%\" y1=\"60\" y2=\"60\" id=\"_fb_rvolnytqjigysoixmgkz_ind_12\" style=\"stroke:rgb(0.0, 138.56128015770727, 250.76166088685727);stroke-width:2; opacity: 0\"/><text x=\"91.41479005591054%\" y=\"71\" font-size=\"12px\" fill=\"rgb(0.0, 138.56128015770727, 250.76166088685727)\" id=\"_fs_rvolnytqjigysoixmgkz_ind_12\" style=\"opacity: 0\" dominant-baseline=\"middle\" text-anchor=\"middle\">-0.013</text><svg x=\"91.17179197655219%\" y=\"40\" height=\"20\" width=\"0.4859961587167305%\">  <svg x=\"0\" y=\"0\" width=\"100%\" height=\"100%\">    <text x=\"50%\" y=\"9\" font-size=\"12px\" fill=\"rgb(255,255,255)\" dominant-baseline=\"middle\" text-anchor=\"middle\">ant</text>  </svg></svg><line x1=\"91.65778813526892%\" x2=\"91.66666631597938%\" y1=\"60\" y2=\"60\" id=\"_fb_rvolnytqjigysoixmgkz_ind_8\" style=\"stroke:rgb(0.0, 138.56128015770727, 250.76166088685727);stroke-width:2; opacity: 0\"/><text x=\"91.66222722562415%\" y=\"71\" font-size=\"12px\" fill=\"rgb(0.0, 138.56128015770727, 250.76166088685727)\" id=\"_fs_rvolnytqjigysoixmgkz_ind_8\" style=\"opacity: 0\" dominant-baseline=\"middle\" text-anchor=\"middle\">-0.0</text><svg x=\"91.65778813526892%\" y=\"40\" height=\"20\" width=\"0.008878180710468087%\">  <svg x=\"0\" y=\"0\" width=\"100%\" height=\"100%\">    <text x=\"50%\" y=\"9\" font-size=\"12px\" fill=\"rgb(255,255,255)\" dominant-baseline=\"middle\" text-anchor=\"middle\">image</text>  </svg></svg><g transform=\"translate(-8,0)\">  <svg x=\"72.24606813246676%\" y=\"40\" height=\"18\" overflow=\"visible\" width=\"30\">    <path d=\"M 8 -9 l -6 18 L 8 25\" fill=\"none\" style=\"stroke:rgb(0.0, 138.56128015770727, 250.76166088685727);stroke-width:2\" />  </svg></g><g transform=\"translate(-10,0)\">  <svg x=\"72.24606813246676%\" y=\"40\" height=\"18\" overflow=\"visible\" width=\"30\">    <path d=\"M 8 -9 l -6 18 L 8 25\" fill=\"none\" style=\"stroke:rgb(0.0, 138.56128015770727, 250.76166088685727);stroke-width:2\" />  </svg></g><g transform=\"translate(-12,0)\">  <svg x=\"72.24606813246676%\" y=\"40\" height=\"18\" overflow=\"visible\" width=\"30\">    <path d=\"M 8 -9 l -6 18 L 8 25\" fill=\"none\" style=\"stroke:rgb(0.0, 138.56128015770727, 250.76166088685727);stroke-width:2\" />  </svg></g><g transform=\"translate(-14,0)\">  <svg x=\"72.24606813246676%\" y=\"40\" height=\"18\" overflow=\"visible\" width=\"30\">    <path d=\"M 8 -9 l -6 18 L 8 25\" fill=\"none\" style=\"stroke:rgb(0.0, 138.56128015770727, 250.76166088685727);stroke-width:2\" />  </svg></g><g transform=\"translate(2,0)\">  <svg x=\"72.24606813246676%\" y=\"40\" height=\"18\" overflow=\"visible\" width=\"30\">    <path d=\"M 8 -9 l -6 18 L 8 25\" fill=\"none\" style=\"stroke:rgb(0.0, 138.56128015770727, 250.76166088685727);stroke-width:2\" />  </svg></g><g transform=\"translate(0,0)\">  <svg x=\"72.24606813246676%\" y=\"40\" height=\"18\" overflow=\"visible\" width=\"30\">    <path d=\"M 8 -9 l -6 18 L 8 25\" fill=\"none\" style=\"stroke:rgb(0.0, 138.56128015770727, 250.76166088685727);stroke-width:2\" />  </svg></g><g transform=\"translate(-2,0)\">  <svg x=\"72.24606813246676%\" y=\"40\" height=\"18\" overflow=\"visible\" width=\"30\">    <path d=\"M 8 -9 l -6 18 L 8 25\" fill=\"none\" style=\"stroke:rgb(0.0, 138.56128015770727, 250.76166088685727);stroke-width:2\" />  </svg></g><g transform=\"translate(-4,0)\">  <svg x=\"72.24606813246676%\" y=\"40\" height=\"18\" overflow=\"visible\" width=\"30\">    <path d=\"M 8 -9 l -6 18 L 8 25\" fill=\"none\" style=\"stroke:rgb(0.0, 138.56128015770727, 250.76166088685727);stroke-width:2\" />  </svg></g><g transform=\"translate(-8,0)\">  <svg x=\"85.8111913793499%\" y=\"40\" height=\"18\" overflow=\"visible\" width=\"30\">    <path d=\"M 8 -9 l -6 18 L 8 25\" fill=\"none\" style=\"stroke:rgb(0.0, 138.56128015770727, 250.76166088685727);stroke-width:2\" />  </svg></g><g transform=\"translate(-10,0)\">  <svg x=\"85.8111913793499%\" y=\"40\" height=\"18\" overflow=\"visible\" width=\"30\">    <path d=\"M 8 -9 l -6 18 L 8 25\" fill=\"none\" style=\"stroke:rgb(0.0, 138.56128015770727, 250.76166088685727);stroke-width:2\" />  </svg></g><g transform=\"translate(-12,0)\">  <svg x=\"85.8111913793499%\" y=\"40\" height=\"18\" overflow=\"visible\" width=\"30\">    <path d=\"M 8 -9 l -6 18 L 8 25\" fill=\"none\" style=\"stroke:rgb(0.0, 138.56128015770727, 250.76166088685727);stroke-width:2\" />  </svg></g><g transform=\"translate(-14,0)\">  <svg x=\"85.8111913793499%\" y=\"40\" height=\"18\" overflow=\"visible\" width=\"30\">    <path d=\"M 8 -9 l -6 18 L 8 25\" fill=\"none\" style=\"stroke:rgb(0.0, 138.56128015770727, 250.76166088685727);stroke-width:2\" />  </svg></g><g transform=\"translate(2,0)\">  <svg x=\"85.8111913793499%\" y=\"40\" height=\"18\" overflow=\"visible\" width=\"30\">    <path d=\"M 8 -9 l -6 18 L 8 25\" fill=\"none\" style=\"stroke:rgb(0.0, 138.56128015770727, 250.76166088685727);stroke-width:2\" />  </svg></g><g transform=\"translate(0,0)\">  <svg x=\"85.8111913793499%\" y=\"40\" height=\"18\" overflow=\"visible\" width=\"30\">    <path d=\"M 8 -9 l -6 18 L 8 25\" fill=\"none\" style=\"stroke:rgb(0.0, 138.56128015770727, 250.76166088685727);stroke-width:2\" />  </svg></g><g transform=\"translate(-2,0)\">  <svg x=\"85.8111913793499%\" y=\"40\" height=\"18\" overflow=\"visible\" width=\"30\">    <path d=\"M 8 -9 l -6 18 L 8 25\" fill=\"none\" style=\"stroke:rgb(0.0, 138.56128015770727, 250.76166088685727);stroke-width:2\" />  </svg></g><g transform=\"translate(-4,0)\">  <svg x=\"85.8111913793499%\" y=\"40\" height=\"18\" overflow=\"visible\" width=\"30\">    <path d=\"M 8 -9 l -6 18 L 8 25\" fill=\"none\" style=\"stroke:rgb(0.0, 138.56128015770727, 250.76166088685727);stroke-width:2\" />  </svg></g><g transform=\"translate(-8,0)\">  <svg x=\"89.05790984660005%\" y=\"40\" height=\"18\" overflow=\"visible\" width=\"30\">    <path d=\"M 8 -9 l -6 18 L 8 25\" fill=\"none\" style=\"stroke:rgb(0.0, 138.56128015770727, 250.76166088685727);stroke-width:2\" />  </svg></g><g transform=\"translate(-10,0)\">  <svg x=\"89.05790984660005%\" y=\"40\" height=\"18\" overflow=\"visible\" width=\"30\">    <path d=\"M 8 -9 l -6 18 L 8 25\" fill=\"none\" style=\"stroke:rgb(0.0, 138.56128015770727, 250.76166088685727);stroke-width:2\" />  </svg></g><g transform=\"translate(-12,0)\">  <svg x=\"89.05790984660005%\" y=\"40\" height=\"18\" overflow=\"visible\" width=\"30\">    <path d=\"M 8 -9 l -6 18 L 8 25\" fill=\"none\" style=\"stroke:rgb(0.0, 138.56128015770727, 250.76166088685727);stroke-width:2\" />  </svg></g><g transform=\"translate(-14,0)\">  <svg x=\"89.05790984660005%\" y=\"40\" height=\"18\" overflow=\"visible\" width=\"30\">    <path d=\"M 8 -9 l -6 18 L 8 25\" fill=\"none\" style=\"stroke:rgb(0.0, 138.56128015770727, 250.76166088685727);stroke-width:2\" />  </svg></g><g transform=\"translate(2,0)\">  <svg x=\"89.05790984660005%\" y=\"40\" height=\"18\" overflow=\"visible\" width=\"30\">    <path d=\"M 8 -9 l -6 18 L 8 25\" fill=\"none\" style=\"stroke:rgb(0.0, 138.56128015770727, 250.76166088685727);stroke-width:2\" />  </svg></g><g transform=\"translate(0,0)\">  <svg x=\"89.05790984660005%\" y=\"40\" height=\"18\" overflow=\"visible\" width=\"30\">    <path d=\"M 8 -9 l -6 18 L 8 25\" fill=\"none\" style=\"stroke:rgb(0.0, 138.56128015770727, 250.76166088685727);stroke-width:2\" />  </svg></g><g transform=\"translate(-2,0)\">  <svg x=\"89.05790984660005%\" y=\"40\" height=\"18\" overflow=\"visible\" width=\"30\">    <path d=\"M 8 -9 l -6 18 L 8 25\" fill=\"none\" style=\"stroke:rgb(0.0, 138.56128015770727, 250.76166088685727);stroke-width:2\" />  </svg></g><g transform=\"translate(-4,0)\">  <svg x=\"89.05790984660005%\" y=\"40\" height=\"18\" overflow=\"visible\" width=\"30\">    <path d=\"M 8 -9 l -6 18 L 8 25\" fill=\"none\" style=\"stroke:rgb(0.0, 138.56128015770727, 250.76166088685727);stroke-width:2\" />  </svg></g><g transform=\"translate(-8,0)\">  <svg x=\"91.17179197655219%\" y=\"40\" height=\"18\" overflow=\"visible\" width=\"30\">    <path d=\"M 8 -9 l -6 18 L 8 25\" fill=\"none\" style=\"stroke:rgb(0.0, 138.56128015770727, 250.76166088685727);stroke-width:2\" />  </svg></g><g transform=\"translate(-10,0)\">  <svg x=\"91.17179197655219%\" y=\"40\" height=\"18\" overflow=\"visible\" width=\"30\">    <path d=\"M 8 -9 l -6 18 L 8 25\" fill=\"none\" style=\"stroke:rgb(0.0, 138.56128015770727, 250.76166088685727);stroke-width:2\" />  </svg></g><g transform=\"translate(-12,0)\">  <svg x=\"91.17179197655219%\" y=\"40\" height=\"18\" overflow=\"visible\" width=\"30\">    <path d=\"M 8 -9 l -6 18 L 8 25\" fill=\"none\" style=\"stroke:rgb(0.0, 138.56128015770727, 250.76166088685727);stroke-width:2\" />  </svg></g><g transform=\"translate(-14,0)\">  <svg x=\"91.17179197655219%\" y=\"40\" height=\"18\" overflow=\"visible\" width=\"30\">    <path d=\"M 8 -9 l -6 18 L 8 25\" fill=\"none\" style=\"stroke:rgb(0.0, 138.56128015770727, 250.76166088685727);stroke-width:2\" />  </svg></g><g transform=\"translate(2,0)\">  <svg x=\"91.17179197655219%\" y=\"40\" height=\"18\" overflow=\"visible\" width=\"30\">    <path d=\"M 8 -9 l -6 18 L 8 25\" fill=\"none\" style=\"stroke:rgb(0.0, 138.56128015770727, 250.76166088685727);stroke-width:2\" />  </svg></g><g transform=\"translate(0,0)\">  <svg x=\"91.17179197655219%\" y=\"40\" height=\"18\" overflow=\"visible\" width=\"30\">    <path d=\"M 8 -9 l -6 18 L 8 25\" fill=\"none\" style=\"stroke:rgb(0.0, 138.56128015770727, 250.76166088685727);stroke-width:2\" />  </svg></g><g transform=\"translate(-2,0)\">  <svg x=\"91.17179197655219%\" y=\"40\" height=\"18\" overflow=\"visible\" width=\"30\">    <path d=\"M 8 -9 l -6 18 L 8 25\" fill=\"none\" style=\"stroke:rgb(0.0, 138.56128015770727, 250.76166088685727);stroke-width:2\" />  </svg></g><g transform=\"translate(-4,0)\">  <svg x=\"91.17179197655219%\" y=\"40\" height=\"18\" overflow=\"visible\" width=\"30\">    <path d=\"M 8 -9 l -6 18 L 8 25\" fill=\"none\" style=\"stroke:rgb(0.0, 138.56128015770727, 250.76166088685727);stroke-width:2\" />  </svg></g><g transform=\"translate(-8,0)\">  <svg x=\"91.65778813526892%\" y=\"40\" height=\"18\" overflow=\"visible\" width=\"30\">    <path d=\"M 8 -9 l -6 18 L 8 25\" fill=\"none\" style=\"stroke:rgb(0.0, 138.56128015770727, 250.76166088685727);stroke-width:2\" />  </svg></g><g transform=\"translate(-10,0)\">  <svg x=\"91.65778813526892%\" y=\"40\" height=\"18\" overflow=\"visible\" width=\"30\">    <path d=\"M 8 -9 l -6 18 L 8 25\" fill=\"none\" style=\"stroke:rgb(0.0, 138.56128015770727, 250.76166088685727);stroke-width:2\" />  </svg></g><g transform=\"translate(-12,0)\">  <svg x=\"91.65778813526892%\" y=\"40\" height=\"18\" overflow=\"visible\" width=\"30\">    <path d=\"M 8 -9 l -6 18 L 8 25\" fill=\"none\" style=\"stroke:rgb(0.0, 138.56128015770727, 250.76166088685727);stroke-width:2\" />  </svg></g><g transform=\"translate(-14,0)\">  <svg x=\"91.65778813526892%\" y=\"40\" height=\"18\" overflow=\"visible\" width=\"30\">    <path d=\"M 8 -9 l -6 18 L 8 25\" fill=\"none\" style=\"stroke:rgb(0.0, 138.56128015770727, 250.76166088685727);stroke-width:2\" />  </svg></g><g transform=\"translate(2,0)\">  <svg x=\"91.65778813526892%\" y=\"40\" height=\"18\" overflow=\"visible\" width=\"30\">    <path d=\"M 8 -9 l -6 18 L 8 25\" fill=\"none\" style=\"stroke:rgb(0.0, 138.56128015770727, 250.76166088685727);stroke-width:2\" />  </svg></g><g transform=\"translate(0,0)\">  <svg x=\"91.65778813526892%\" y=\"40\" height=\"18\" overflow=\"visible\" width=\"30\">    <path d=\"M 8 -9 l -6 18 L 8 25\" fill=\"none\" style=\"stroke:rgb(0.0, 138.56128015770727, 250.76166088685727);stroke-width:2\" />  </svg></g><g transform=\"translate(-2,0)\">  <svg x=\"91.65778813526892%\" y=\"40\" height=\"18\" overflow=\"visible\" width=\"30\">    <path d=\"M 8 -9 l -6 18 L 8 25\" fill=\"none\" style=\"stroke:rgb(0.0, 138.56128015770727, 250.76166088685727);stroke-width:2\" />  </svg></g><g transform=\"translate(-4,0)\">  <svg x=\"91.65778813526892%\" y=\"40\" height=\"18\" overflow=\"visible\" width=\"30\">    <path d=\"M 8 -9 l -6 18 L 8 25\" fill=\"none\" style=\"stroke:rgb(0.0, 138.56128015770727, 250.76166088685727);stroke-width:2\" />  </svg></g><rect transform=\"translate(0,0)\" x=\"54.14866577173636%\" y=\"40\" width=\"8\" height=\"18\" style=\"fill:rgb(0.0, 138.56128015770727, 250.76166088685727)\"/><g transform=\"translate(-6.0,0)\">  <svg x=\"91.66666631597938%\" y=\"40\" height=\"18\" overflow=\"visible\" width=\"30\">    <path d=\"M 8 -9 l -6 18 L 8 25 L 20 25 L 20 -9\" fill=\"#ffffff\" style=\"stroke:rgb(255,255,255);stroke-width:2\" />  </svg></g><g transform=\"translate(-6.0,0)\">  <svg x=\"72.24606813246676%\" y=\"40\" height=\"18\" overflow=\"visible\" width=\"30\">    <path d=\"M 8 -9 l -6 18 L 8 25\" fill=\"none\" style=\"stroke:rgb(208, 230, 250);stroke-width:2\" />  </svg></g><rect x=\"54.14866577173636%\" y=\"40\" height=\"20\" width=\"18.0974023607304%\"      onmouseover=\"document.getElementById('_tp_rvolnytqjigysoixmgkz_ind_2').style.textDecoration = 'underline';document.getElementById('_fs_rvolnytqjigysoixmgkz_ind_2').style.opacity = 1;document.getElementById('_fb_rvolnytqjigysoixmgkz_ind_2').style.opacity = 1;\"      onmouseout=\"document.getElementById('_tp_rvolnytqjigysoixmgkz_ind_2').style.textDecoration = 'none';document.getElementById('_fs_rvolnytqjigysoixmgkz_ind_2').style.opacity = 0;document.getElementById('_fb_rvolnytqjigysoixmgkz_ind_2').style.opacity = 0;\" style=\"fill:rgb(0,0,0,0)\" /><g transform=\"translate(-6.0,0)\">  <svg x=\"85.8111913793499%\" y=\"40\" height=\"18\" overflow=\"visible\" width=\"30\">    <path d=\"M 8 -9 l -6 18 L 8 25\" fill=\"none\" style=\"stroke:rgb(208, 230, 250);stroke-width:2\" />  </svg></g><rect x=\"72.24606813246676%\" y=\"40\" height=\"20\" width=\"13.565123246883147%\"      onmouseover=\"document.getElementById('_tp_rvolnytqjigysoixmgkz_ind_21').style.textDecoration = 'underline';document.getElementById('_fs_rvolnytqjigysoixmgkz_ind_21').style.opacity = 1;document.getElementById('_fb_rvolnytqjigysoixmgkz_ind_21').style.opacity = 1;\"      onmouseout=\"document.getElementById('_tp_rvolnytqjigysoixmgkz_ind_21').style.textDecoration = 'none';document.getElementById('_fs_rvolnytqjigysoixmgkz_ind_21').style.opacity = 0;document.getElementById('_fb_rvolnytqjigysoixmgkz_ind_21').style.opacity = 0;\" style=\"fill:rgb(0,0,0,0)\" /><g transform=\"translate(-6.0,0)\">  <svg x=\"89.05790984660005%\" y=\"40\" height=\"18\" overflow=\"visible\" width=\"30\">    <path d=\"M 8 -9 l -6 18 L 8 25\" fill=\"none\" style=\"stroke:rgb(208, 230, 250);stroke-width:2\" />  </svg></g><rect x=\"85.8111913793499%\" y=\"40\" height=\"20\" width=\"3.2467184672501475%\"      onmouseover=\"document.getElementById('_tp_rvolnytqjigysoixmgkz_ind_22').style.textDecoration = 'underline';document.getElementById('_fs_rvolnytqjigysoixmgkz_ind_22').style.opacity = 1;document.getElementById('_fb_rvolnytqjigysoixmgkz_ind_22').style.opacity = 1;\"      onmouseout=\"document.getElementById('_tp_rvolnytqjigysoixmgkz_ind_22').style.textDecoration = 'none';document.getElementById('_fs_rvolnytqjigysoixmgkz_ind_22').style.opacity = 0;document.getElementById('_fb_rvolnytqjigysoixmgkz_ind_22').style.opacity = 0;\" style=\"fill:rgb(0,0,0,0)\" /><g transform=\"translate(-6.0,0)\">  <svg x=\"91.17179197655219%\" y=\"40\" height=\"18\" overflow=\"visible\" width=\"30\">    <path d=\"M 8 -9 l -6 18 L 8 25\" fill=\"none\" style=\"stroke:rgb(208, 230, 250);stroke-width:2\" />  </svg></g><rect x=\"89.05790984660005%\" y=\"40\" height=\"20\" width=\"2.113882129952131%\"      onmouseover=\"document.getElementById('_tp_rvolnytqjigysoixmgkz_ind_16').style.textDecoration = 'underline';document.getElementById('_fs_rvolnytqjigysoixmgkz_ind_16').style.opacity = 1;document.getElementById('_fb_rvolnytqjigysoixmgkz_ind_16').style.opacity = 1;\"      onmouseout=\"document.getElementById('_tp_rvolnytqjigysoixmgkz_ind_16').style.textDecoration = 'none';document.getElementById('_fs_rvolnytqjigysoixmgkz_ind_16').style.opacity = 0;document.getElementById('_fb_rvolnytqjigysoixmgkz_ind_16').style.opacity = 0;\" style=\"fill:rgb(0,0,0,0)\" /><g transform=\"translate(-6.0,0)\">  <svg x=\"91.65778813526892%\" y=\"40\" height=\"18\" overflow=\"visible\" width=\"30\">    <path d=\"M 8 -9 l -6 18 L 8 25\" fill=\"none\" style=\"stroke:rgb(208, 230, 250);stroke-width:2\" />  </svg></g><rect x=\"91.17179197655219%\" y=\"40\" height=\"20\" width=\"0.4859961587167305%\"      onmouseover=\"document.getElementById('_tp_rvolnytqjigysoixmgkz_ind_12').style.textDecoration = 'underline';document.getElementById('_fs_rvolnytqjigysoixmgkz_ind_12').style.opacity = 1;document.getElementById('_fb_rvolnytqjigysoixmgkz_ind_12').style.opacity = 1;\"      onmouseout=\"document.getElementById('_tp_rvolnytqjigysoixmgkz_ind_12').style.textDecoration = 'none';document.getElementById('_fs_rvolnytqjigysoixmgkz_ind_12').style.opacity = 0;document.getElementById('_fb_rvolnytqjigysoixmgkz_ind_12').style.opacity = 0;\" style=\"fill:rgb(0,0,0,0)\" /><rect x=\"91.65778813526892%\" y=\"40\" height=\"20\" width=\"0.008878180710468087%\"      onmouseover=\"document.getElementById('_tp_rvolnytqjigysoixmgkz_ind_8').style.textDecoration = 'underline';document.getElementById('_fs_rvolnytqjigysoixmgkz_ind_8').style.opacity = 1;document.getElementById('_fb_rvolnytqjigysoixmgkz_ind_8').style.opacity = 1;\"      onmouseout=\"document.getElementById('_tp_rvolnytqjigysoixmgkz_ind_8').style.textDecoration = 'none';document.getElementById('_fs_rvolnytqjigysoixmgkz_ind_8').style.opacity = 0;document.getElementById('_fb_rvolnytqjigysoixmgkz_ind_8').style.opacity = 0;\" style=\"fill:rgb(0,0,0,0)\" /></svg><div align='center'><div style=\"color: rgb(120,120,120); font-size: 12px; margin-top: -15px;\">inputs</div><div style='display: inline; text-align: center;'\n",
              "    ><div style='display: none; color: #999; padding-top: 0px; font-size: 12px;'>0.024</div\n",
              "        ><div id='_tp_rvolnytqjigysoixmgkz_ind_0'\n",
              "            style='display: inline; background: rgba(255.0, 13.0, 87.0, 0.04618736383442265); border-radius: 3px; padding: 0px'\n",
              "            onclick=\"\n",
              "            if (this.previousSibling.style.display == 'none') {\n",
              "                this.previousSibling.style.display = 'block';\n",
              "                this.parentNode.style.display = 'inline-block';\n",
              "            } else {\n",
              "                this.previousSibling.style.display = 'none';\n",
              "                this.parentNode.style.display = 'inline';\n",
              "            }\"\n",
              "            onmouseover=\"document.getElementById('_fb_rvolnytqjigysoixmgkz_ind_0').style.opacity = 1; document.getElementById('_fs_rvolnytqjigysoixmgkz_ind_0').style.opacity = 1;\"\n",
              "            onmouseout=\"document.getElementById('_fb_rvolnytqjigysoixmgkz_ind_0').style.opacity = 0; document.getElementById('_fs_rvolnytqjigysoixmgkz_ind_0').style.opacity = 0;\"\n",
              "        ></div></div><div style='display: inline; text-align: center;'\n",
              "    ><div style='display: none; color: #999; padding-top: 0px; font-size: 12px;'>0.063</div\n",
              "        ><div id='_tp_rvolnytqjigysoixmgkz_ind_1'\n",
              "            style='display: inline; background: rgba(255.0, 13.0, 87.0, 0.12501485442661908); border-radius: 3px; padding: 0px'\n",
              "            onclick=\"\n",
              "            if (this.previousSibling.style.display == 'none') {\n",
              "                this.previousSibling.style.display = 'block';\n",
              "                this.parentNode.style.display = 'inline-block';\n",
              "            } else {\n",
              "                this.previousSibling.style.display = 'none';\n",
              "                this.parentNode.style.display = 'inline';\n",
              "            }\"\n",
              "            onmouseover=\"document.getElementById('_fb_rvolnytqjigysoixmgkz_ind_1').style.opacity = 1; document.getElementById('_fs_rvolnytqjigysoixmgkz_ind_1').style.opacity = 1;\"\n",
              "            onmouseout=\"document.getElementById('_fb_rvolnytqjigysoixmgkz_ind_1').style.opacity = 0; document.getElementById('_fs_rvolnytqjigysoixmgkz_ind_1').style.opacity = 0;\"\n",
              "        >The </div></div><div style='display: inline; text-align: center;'\n",
              "    ><div style='display: none; color: #999; padding-top: 0px; font-size: 12px;'>-0.473</div\n",
              "        ><div id='_tp_rvolnytqjigysoixmgkz_ind_2'\n",
              "            style='display: inline; background: rgba(30.0, 136.0, 229.0, 1.0); border-radius: 3px; padding: 0px'\n",
              "            onclick=\"\n",
              "            if (this.previousSibling.style.display == 'none') {\n",
              "                this.previousSibling.style.display = 'block';\n",
              "                this.parentNode.style.display = 'inline-block';\n",
              "            } else {\n",
              "                this.previousSibling.style.display = 'none';\n",
              "                this.parentNode.style.display = 'inline';\n",
              "            }\"\n",
              "            onmouseover=\"document.getElementById('_fb_rvolnytqjigysoixmgkz_ind_2').style.opacity = 1; document.getElementById('_fs_rvolnytqjigysoixmgkz_ind_2').style.opacity = 1;\"\n",
              "            onmouseout=\"document.getElementById('_fb_rvolnytqjigysoixmgkz_ind_2').style.opacity = 0; document.getElementById('_fs_rvolnytqjigysoixmgkz_ind_2').style.opacity = 0;\"\n",
              "        >VLT </div></div><div style='display: inline; text-align: center;'\n",
              "    ><div style='display: none; color: #999; padding-top: 0px; font-size: 12px;'>0.085</div\n",
              "        ><div id='_tp_rvolnytqjigysoixmgkz_ind_3'\n",
              "            style='display: inline; background: rgba(255.0, 13.0, 87.0, 0.18019409784115661); border-radius: 3px; padding: 0px'\n",
              "            onclick=\"\n",
              "            if (this.previousSibling.style.display == 'none') {\n",
              "                this.previousSibling.style.display = 'block';\n",
              "                this.parentNode.style.display = 'inline-block';\n",
              "            } else {\n",
              "                this.previousSibling.style.display = 'none';\n",
              "                this.parentNode.style.display = 'inline';\n",
              "            }\"\n",
              "            onmouseover=\"document.getElementById('_fb_rvolnytqjigysoixmgkz_ind_3').style.opacity = 1; document.getElementById('_fs_rvolnytqjigysoixmgkz_ind_3').style.opacity = 1;\"\n",
              "            onmouseout=\"document.getElementById('_fb_rvolnytqjigysoixmgkz_ind_3').style.opacity = 0; document.getElementById('_fs_rvolnytqjigysoixmgkz_ind_3').style.opacity = 0;\"\n",
              "        >telescope </div></div><div style='display: inline; text-align: center;'\n",
              "    ><div style='display: none; color: #999; padding-top: 0px; font-size: 12px;'>0.057</div\n",
              "        ><div id='_tp_rvolnytqjigysoixmgkz_ind_4'\n",
              "            style='display: inline; background: rgba(255.0, 13.0, 87.0, 0.1171321053673995); border-radius: 3px; padding: 0px'\n",
              "            onclick=\"\n",
              "            if (this.previousSibling.style.display == 'none') {\n",
              "                this.previousSibling.style.display = 'block';\n",
              "                this.parentNode.style.display = 'inline-block';\n",
              "            } else {\n",
              "                this.previousSibling.style.display = 'none';\n",
              "                this.parentNode.style.display = 'inline';\n",
              "            }\"\n",
              "            onmouseover=\"document.getElementById('_fb_rvolnytqjigysoixmgkz_ind_4').style.opacity = 1; document.getElementById('_fs_rvolnytqjigysoixmgkz_ind_4').style.opacity = 1;\"\n",
              "            onmouseout=\"document.getElementById('_fb_rvolnytqjigysoixmgkz_ind_4').style.opacity = 0; document.getElementById('_fs_rvolnytqjigysoixmgkz_ind_4').style.opacity = 0;\"\n",
              "        >in </div></div><div style='display: inline; text-align: center;'\n",
              "    ><div style='display: none; color: #999; padding-top: 0px; font-size: 12px;'>0.109</div\n",
              "        ><div id='_tp_rvolnytqjigysoixmgkz_ind_5'\n",
              "            style='display: inline; background: rgba(255.0, 13.0, 87.0, 0.22749059219647458); border-radius: 3px; padding: 0px'\n",
              "            onclick=\"\n",
              "            if (this.previousSibling.style.display == 'none') {\n",
              "                this.previousSibling.style.display = 'block';\n",
              "                this.parentNode.style.display = 'inline-block';\n",
              "            } else {\n",
              "                this.previousSibling.style.display = 'none';\n",
              "                this.parentNode.style.display = 'inline';\n",
              "            }\"\n",
              "            onmouseover=\"document.getElementById('_fb_rvolnytqjigysoixmgkz_ind_5').style.opacity = 1; document.getElementById('_fs_rvolnytqjigysoixmgkz_ind_5').style.opacity = 1;\"\n",
              "            onmouseout=\"document.getElementById('_fb_rvolnytqjigysoixmgkz_ind_5').style.opacity = 0; document.getElementById('_fs_rvolnytqjigysoixmgkz_ind_5').style.opacity = 0;\"\n",
              "        >Chile </div></div><div style='display: inline; text-align: center;'\n",
              "    ><div style='display: none; color: #999; padding-top: 0px; font-size: 12px;'>0.137</div\n",
              "        ><div id='_tp_rvolnytqjigysoixmgkz_ind_6'\n",
              "            style='display: inline; background: rgba(255.0, 13.0, 87.0, 0.2826698356110118); border-radius: 3px; padding: 0px'\n",
              "            onclick=\"\n",
              "            if (this.previousSibling.style.display == 'none') {\n",
              "                this.previousSibling.style.display = 'block';\n",
              "                this.parentNode.style.display = 'inline-block';\n",
              "            } else {\n",
              "                this.previousSibling.style.display = 'none';\n",
              "                this.parentNode.style.display = 'inline';\n",
              "            }\"\n",
              "            onmouseover=\"document.getElementById('_fb_rvolnytqjigysoixmgkz_ind_6').style.opacity = 1; document.getElementById('_fs_rvolnytqjigysoixmgkz_ind_6').style.opacity = 1;\"\n",
              "            onmouseout=\"document.getElementById('_fb_rvolnytqjigysoixmgkz_ind_6').style.opacity = 0; document.getElementById('_fs_rvolnytqjigysoixmgkz_ind_6').style.opacity = 0;\"\n",
              "        >captured </div></div><div style='display: inline; text-align: center;'\n",
              "    ><div style='display: none; color: #999; padding-top: 0px; font-size: 12px;'>0.006</div\n",
              "        ><div id='_tp_rvolnytqjigysoixmgkz_ind_7'\n",
              "            style='display: inline; background: rgba(255.0, 13.0, 87.0, 0.00677361853832443); border-radius: 3px; padding: 0px'\n",
              "            onclick=\"\n",
              "            if (this.previousSibling.style.display == 'none') {\n",
              "                this.previousSibling.style.display = 'block';\n",
              "                this.parentNode.style.display = 'inline-block';\n",
              "            } else {\n",
              "                this.previousSibling.style.display = 'none';\n",
              "                this.parentNode.style.display = 'inline';\n",
              "            }\"\n",
              "            onmouseover=\"document.getElementById('_fb_rvolnytqjigysoixmgkz_ind_7').style.opacity = 1; document.getElementById('_fs_rvolnytqjigysoixmgkz_ind_7').style.opacity = 1;\"\n",
              "            onmouseout=\"document.getElementById('_fb_rvolnytqjigysoixmgkz_ind_7').style.opacity = 0; document.getElementById('_fs_rvolnytqjigysoixmgkz_ind_7').style.opacity = 0;\"\n",
              "        >an </div></div><div style='display: inline; text-align: center;'\n",
              "    ><div style='display: none; color: #999; padding-top: 0px; font-size: 12px;'>-0.0</div\n",
              "        ><div id='_tp_rvolnytqjigysoixmgkz_ind_8'\n",
              "            style='display: inline; background: rgba(54.70588235294111, 122.49411764705886, 213.40784313725496, 0.0); border-radius: 3px; padding: 0px'\n",
              "            onclick=\"\n",
              "            if (this.previousSibling.style.display == 'none') {\n",
              "                this.previousSibling.style.display = 'block';\n",
              "                this.parentNode.style.display = 'inline-block';\n",
              "            } else {\n",
              "                this.previousSibling.style.display = 'none';\n",
              "                this.parentNode.style.display = 'inline';\n",
              "            }\"\n",
              "            onmouseover=\"document.getElementById('_fb_rvolnytqjigysoixmgkz_ind_8').style.opacity = 1; document.getElementById('_fs_rvolnytqjigysoixmgkz_ind_8').style.opacity = 1;\"\n",
              "            onmouseout=\"document.getElementById('_fb_rvolnytqjigysoixmgkz_ind_8').style.opacity = 0; document.getElementById('_fs_rvolnytqjigysoixmgkz_ind_8').style.opacity = 0;\"\n",
              "        >image </div></div><div style='display: inline; text-align: center;'\n",
              "    ><div style='display: none; color: #999; padding-top: 0px; font-size: 12px;'>0.114</div\n",
              "        ><div id='_tp_rvolnytqjigysoixmgkz_ind_9'\n",
              "            style='display: inline; background: rgba(255.0, 13.0, 87.0, 0.23537334125569415); border-radius: 3px; padding: 0px'\n",
              "            onclick=\"\n",
              "            if (this.previousSibling.style.display == 'none') {\n",
              "                this.previousSibling.style.display = 'block';\n",
              "                this.parentNode.style.display = 'inline-block';\n",
              "            } else {\n",
              "                this.previousSibling.style.display = 'none';\n",
              "                this.parentNode.style.display = 'inline';\n",
              "            }\"\n",
              "            onmouseover=\"document.getElementById('_fb_rvolnytqjigysoixmgkz_ind_9').style.opacity = 1; document.getElementById('_fs_rvolnytqjigysoixmgkz_ind_9').style.opacity = 1;\"\n",
              "            onmouseout=\"document.getElementById('_fb_rvolnytqjigysoixmgkz_ind_9').style.opacity = 0; document.getElementById('_fs_rvolnytqjigysoixmgkz_ind_9').style.opacity = 0;\"\n",
              "        >of </div></div><div style='display: inline; text-align: center;'\n",
              "    ><div style='display: none; color: #999; padding-top: 0px; font-size: 12px;'>0.001</div\n",
              "        ><div id='_tp_rvolnytqjigysoixmgkz_ind_10'\n",
              "            style='display: inline; background: rgba(230.2941176470614, 26.505882352939775, 102.59215686274348, 0.0); border-radius: 3px; padding: 0px'\n",
              "            onclick=\"\n",
              "            if (this.previousSibling.style.display == 'none') {\n",
              "                this.previousSibling.style.display = 'block';\n",
              "                this.parentNode.style.display = 'inline-block';\n",
              "            } else {\n",
              "                this.previousSibling.style.display = 'none';\n",
              "                this.parentNode.style.display = 'inline';\n",
              "            }\"\n",
              "            onmouseover=\"document.getElementById('_fb_rvolnytqjigysoixmgkz_ind_10').style.opacity = 1; document.getElementById('_fs_rvolnytqjigysoixmgkz_ind_10').style.opacity = 1;\"\n",
              "            onmouseout=\"document.getElementById('_fb_rvolnytqjigysoixmgkz_ind_10').style.opacity = 0; document.getElementById('_fs_rvolnytqjigysoixmgkz_ind_10').style.opacity = 0;\"\n",
              "        >the </div></div><div style='display: inline; text-align: center;'\n",
              "    ><div style='display: none; color: #999; padding-top: 0px; font-size: 12px;'>0.076</div\n",
              "        ><div id='_tp_rvolnytqjigysoixmgkz_ind_11'\n",
              "            style='display: inline; background: rgba(255.0, 13.0, 87.0, 0.15654585066349747); border-radius: 3px; padding: 0px'\n",
              "            onclick=\"\n",
              "            if (this.previousSibling.style.display == 'none') {\n",
              "                this.previousSibling.style.display = 'block';\n",
              "                this.parentNode.style.display = 'inline-block';\n",
              "            } else {\n",
              "                this.previousSibling.style.display = 'none';\n",
              "                this.parentNode.style.display = 'inline';\n",
              "            }\"\n",
              "            onmouseover=\"document.getElementById('_fb_rvolnytqjigysoixmgkz_ind_11').style.opacity = 1; document.getElementById('_fs_rvolnytqjigysoixmgkz_ind_11').style.opacity = 1;\"\n",
              "            onmouseout=\"document.getElementById('_fb_rvolnytqjigysoixmgkz_ind_11').style.opacity = 0; document.getElementById('_fs_rvolnytqjigysoixmgkz_ind_11').style.opacity = 0;\"\n",
              "        >Tar</div></div><div style='display: inline; text-align: center;'\n",
              "    ><div style='display: none; color: #999; padding-top: 0px; font-size: 12px;'>-0.013</div\n",
              "        ><div id='_tp_rvolnytqjigysoixmgkz_ind_12'\n",
              "            style='display: inline; background: rgba(30.0, 136.0, 229.0, 0.022539116656763607); border-radius: 3px; padding: 0px'\n",
              "            onclick=\"\n",
              "            if (this.previousSibling.style.display == 'none') {\n",
              "                this.previousSibling.style.display = 'block';\n",
              "                this.parentNode.style.display = 'inline-block';\n",
              "            } else {\n",
              "                this.previousSibling.style.display = 'none';\n",
              "                this.parentNode.style.display = 'inline';\n",
              "            }\"\n",
              "            onmouseover=\"document.getElementById('_fb_rvolnytqjigysoixmgkz_ind_12').style.opacity = 1; document.getElementById('_fs_rvolnytqjigysoixmgkz_ind_12').style.opacity = 1;\"\n",
              "            onmouseout=\"document.getElementById('_fb_rvolnytqjigysoixmgkz_ind_12').style.opacity = 0; document.getElementById('_fs_rvolnytqjigysoixmgkz_ind_12').style.opacity = 0;\"\n",
              "        >ant</div></div><div style='display: inline; text-align: center;'\n",
              "    ><div style='display: none; color: #999; padding-top: 0px; font-size: 12px;'>0.074</div\n",
              "        ><div id='_tp_rvolnytqjigysoixmgkz_ind_13'\n",
              "            style='display: inline; background: rgba(255.0, 13.0, 87.0, 0.15654585066349747); border-radius: 3px; padding: 0px'\n",
              "            onclick=\"\n",
              "            if (this.previousSibling.style.display == 'none') {\n",
              "                this.previousSibling.style.display = 'block';\n",
              "                this.parentNode.style.display = 'inline-block';\n",
              "            } else {\n",
              "                this.previousSibling.style.display = 'none';\n",
              "                this.parentNode.style.display = 'inline';\n",
              "            }\"\n",
              "            onmouseover=\"document.getElementById('_fb_rvolnytqjigysoixmgkz_ind_13').style.opacity = 1; document.getElementById('_fs_rvolnytqjigysoixmgkz_ind_13').style.opacity = 1;\"\n",
              "            onmouseout=\"document.getElementById('_fb_rvolnytqjigysoixmgkz_ind_13').style.opacity = 0; document.getElementById('_fs_rvolnytqjigysoixmgkz_ind_13').style.opacity = 0;\"\n",
              "        >ula </div></div><div style='display: inline; text-align: center;'\n",
              "    ><div style='display: none; color: #999; padding-top: 0px; font-size: 12px;'>0.055</div\n",
              "        ><div id='_tp_rvolnytqjigysoixmgkz_ind_14'\n",
              "            style='display: inline; background: rgba(255.0, 13.0, 87.0, 0.10924935630817992); border-radius: 3px; padding: 0px'\n",
              "            onclick=\"\n",
              "            if (this.previousSibling.style.display == 'none') {\n",
              "                this.previousSibling.style.display = 'block';\n",
              "                this.parentNode.style.display = 'inline-block';\n",
              "            } else {\n",
              "                this.previousSibling.style.display = 'none';\n",
              "                this.parentNode.style.display = 'inline';\n",
              "            }\"\n",
              "            onmouseover=\"document.getElementById('_fb_rvolnytqjigysoixmgkz_ind_14').style.opacity = 1; document.getElementById('_fs_rvolnytqjigysoixmgkz_ind_14').style.opacity = 1;\"\n",
              "            onmouseout=\"document.getElementById('_fb_rvolnytqjigysoixmgkz_ind_14').style.opacity = 0; document.getElementById('_fs_rvolnytqjigysoixmgkz_ind_14').style.opacity = 0;\"\n",
              "        >Nebula </div></div><div style='display: inline; text-align: center;'\n",
              "    ><div style='display: none; color: #999; padding-top: 0px; font-size: 12px;'>0.129</div\n",
              "        ><div id='_tp_rvolnytqjigysoixmgkz_ind_15'\n",
              "            style='display: inline; background: rgba(255.0, 13.0, 87.0, 0.26690433749257286); border-radius: 3px; padding: 0px'\n",
              "            onclick=\"\n",
              "            if (this.previousSibling.style.display == 'none') {\n",
              "                this.previousSibling.style.display = 'block';\n",
              "                this.parentNode.style.display = 'inline-block';\n",
              "            } else {\n",
              "                this.previousSibling.style.display = 'none';\n",
              "                this.parentNode.style.display = 'inline';\n",
              "            }\"\n",
              "            onmouseover=\"document.getElementById('_fb_rvolnytqjigysoixmgkz_ind_15').style.opacity = 1; document.getElementById('_fs_rvolnytqjigysoixmgkz_ind_15').style.opacity = 1;\"\n",
              "            onmouseout=\"document.getElementById('_fb_rvolnytqjigysoixmgkz_ind_15').style.opacity = 0; document.getElementById('_fs_rvolnytqjigysoixmgkz_ind_15').style.opacity = 0;\"\n",
              "        >in </div></div><div style='display: inline; text-align: center;'\n",
              "    ><div style='display: none; color: #999; padding-top: 0px; font-size: 12px;'>-0.055</div\n",
              "        ><div id='_tp_rvolnytqjigysoixmgkz_ind_16'\n",
              "            style='display: inline; background: rgba(30.0, 136.0, 229.0, 0.10924935630817977); border-radius: 3px; padding: 0px'\n",
              "            onclick=\"\n",
              "            if (this.previousSibling.style.display == 'none') {\n",
              "                this.previousSibling.style.display = 'block';\n",
              "                this.parentNode.style.display = 'inline-block';\n",
              "            } else {\n",
              "                this.previousSibling.style.display = 'none';\n",
              "                this.parentNode.style.display = 'inline';\n",
              "            }\"\n",
              "            onmouseover=\"document.getElementById('_fb_rvolnytqjigysoixmgkz_ind_16').style.opacity = 1; document.getElementById('_fs_rvolnytqjigysoixmgkz_ind_16').style.opacity = 1;\"\n",
              "            onmouseout=\"document.getElementById('_fb_rvolnytqjigysoixmgkz_ind_16').style.opacity = 0; document.getElementById('_fs_rvolnytqjigysoixmgkz_ind_16').style.opacity = 0;\"\n",
              "        >the </div></div><div style='display: inline; text-align: center;'\n",
              "    ><div style='display: none; color: #999; padding-top: 0px; font-size: 12px;'>0.113</div\n",
              "        ><div id='_tp_rvolnytqjigysoixmgkz_ind_17'\n",
              "            style='display: inline; background: rgba(255.0, 13.0, 87.0, 0.23537334125569415); border-radius: 3px; padding: 0px'\n",
              "            onclick=\"\n",
              "            if (this.previousSibling.style.display == 'none') {\n",
              "                this.previousSibling.style.display = 'block';\n",
              "                this.parentNode.style.display = 'inline-block';\n",
              "            } else {\n",
              "                this.previousSibling.style.display = 'none';\n",
              "                this.parentNode.style.display = 'inline';\n",
              "            }\"\n",
              "            onmouseover=\"document.getElementById('_fb_rvolnytqjigysoixmgkz_ind_17').style.opacity = 1; document.getElementById('_fs_rvolnytqjigysoixmgkz_ind_17').style.opacity = 1;\"\n",
              "            onmouseout=\"document.getElementById('_fb_rvolnytqjigysoixmgkz_ind_17').style.opacity = 0; document.getElementById('_fs_rvolnytqjigysoixmgkz_ind_17').style.opacity = 0;\"\n",
              "        >Large </div></div><div style='display: inline; text-align: center;'\n",
              "    ><div style='display: none; color: #999; padding-top: 0px; font-size: 12px;'>0.055</div\n",
              "        ><div id='_tp_rvolnytqjigysoixmgkz_ind_18'\n",
              "            style='display: inline; background: rgba(255.0, 13.0, 87.0, 0.10924935630817992); border-radius: 3px; padding: 0px'\n",
              "            onclick=\"\n",
              "            if (this.previousSibling.style.display == 'none') {\n",
              "                this.previousSibling.style.display = 'block';\n",
              "                this.parentNode.style.display = 'inline-block';\n",
              "            } else {\n",
              "                this.previousSibling.style.display = 'none';\n",
              "                this.parentNode.style.display = 'inline';\n",
              "            }\"\n",
              "            onmouseover=\"document.getElementById('_fb_rvolnytqjigysoixmgkz_ind_18').style.opacity = 1; document.getElementById('_fs_rvolnytqjigysoixmgkz_ind_18').style.opacity = 1;\"\n",
              "            onmouseout=\"document.getElementById('_fb_rvolnytqjigysoixmgkz_ind_18').style.opacity = 0; document.getElementById('_fs_rvolnytqjigysoixmgkz_ind_18').style.opacity = 0;\"\n",
              "        >Magellanic </div></div><div style='display: inline; text-align: center;'\n",
              "    ><div style='display: none; color: #999; padding-top: 0px; font-size: 12px;'>0.083</div\n",
              "        ><div id='_tp_rvolnytqjigysoixmgkz_ind_19'\n",
              "            style='display: inline; background: rgba(255.0, 13.0, 87.0, 0.17231134878193693); border-radius: 3px; padding: 0px'\n",
              "            onclick=\"\n",
              "            if (this.previousSibling.style.display == 'none') {\n",
              "                this.previousSibling.style.display = 'block';\n",
              "                this.parentNode.style.display = 'inline-block';\n",
              "            } else {\n",
              "                this.previousSibling.style.display = 'none';\n",
              "                this.parentNode.style.display = 'inline';\n",
              "            }\"\n",
              "            onmouseover=\"document.getElementById('_fb_rvolnytqjigysoixmgkz_ind_19').style.opacity = 1; document.getElementById('_fs_rvolnytqjigysoixmgkz_ind_19').style.opacity = 1;\"\n",
              "            onmouseout=\"document.getElementById('_fb_rvolnytqjigysoixmgkz_ind_19').style.opacity = 0; document.getElementById('_fs_rvolnytqjigysoixmgkz_ind_19').style.opacity = 0;\"\n",
              "        >Cloud </div></div><div style='display: inline; text-align: center;'\n",
              "    ><div style='display: none; color: #999; padding-top: 0px; font-size: 12px;'>0.017</div\n",
              "        ><div id='_tp_rvolnytqjigysoixmgkz_ind_20'\n",
              "            style='display: inline; background: rgba(255.0, 13.0, 87.0, 0.030421865715983164); border-radius: 3px; padding: 0px'\n",
              "            onclick=\"\n",
              "            if (this.previousSibling.style.display == 'none') {\n",
              "                this.previousSibling.style.display = 'block';\n",
              "                this.parentNode.style.display = 'inline-block';\n",
              "            } else {\n",
              "                this.previousSibling.style.display = 'none';\n",
              "                this.parentNode.style.display = 'inline';\n",
              "            }\"\n",
              "            onmouseover=\"document.getElementById('_fb_rvolnytqjigysoixmgkz_ind_20').style.opacity = 1; document.getElementById('_fs_rvolnytqjigysoixmgkz_ind_20').style.opacity = 1;\"\n",
              "            onmouseout=\"document.getElementById('_fb_rvolnytqjigysoixmgkz_ind_20').style.opacity = 0; document.getElementById('_fs_rvolnytqjigysoixmgkz_ind_20').style.opacity = 0;\"\n",
              "        >galaxy</div></div><div style='display: inline; text-align: center;'\n",
              "    ><div style='display: none; color: #999; padding-top: 0px; font-size: 12px;'>-0.355</div\n",
              "        ><div id='_tp_rvolnytqjigysoixmgkz_ind_21'\n",
              "            style='display: inline; background: rgba(30.0, 136.0, 229.0, 0.7477520301049712); border-radius: 3px; padding: 0px'\n",
              "            onclick=\"\n",
              "            if (this.previousSibling.style.display == 'none') {\n",
              "                this.previousSibling.style.display = 'block';\n",
              "                this.parentNode.style.display = 'inline-block';\n",
              "            } else {\n",
              "                this.previousSibling.style.display = 'none';\n",
              "                this.parentNode.style.display = 'inline';\n",
              "            }\"\n",
              "            onmouseover=\"document.getElementById('_fb_rvolnytqjigysoixmgkz_ind_21').style.opacity = 1; document.getElementById('_fs_rvolnytqjigysoixmgkz_ind_21').style.opacity = 1;\"\n",
              "            onmouseout=\"document.getElementById('_fb_rvolnytqjigysoixmgkz_ind_21').style.opacity = 0; document.getElementById('_fs_rvolnytqjigysoixmgkz_ind_21').style.opacity = 0;\"\n",
              "        >.</div></div><div style='display: inline; text-align: center;'\n",
              "    ><div style='display: none; color: #999; padding-top: 0px; font-size: 12px;'>-0.085</div\n",
              "        ><div id='_tp_rvolnytqjigysoixmgkz_ind_22'\n",
              "            style='display: inline; background: rgba(30.0, 136.0, 229.0, 0.1723113487819369); border-radius: 3px; padding: 0px'\n",
              "            onclick=\"\n",
              "            if (this.previousSibling.style.display == 'none') {\n",
              "                this.previousSibling.style.display = 'block';\n",
              "                this.parentNode.style.display = 'inline-block';\n",
              "            } else {\n",
              "                this.previousSibling.style.display = 'none';\n",
              "                this.parentNode.style.display = 'inline';\n",
              "            }\"\n",
              "            onmouseover=\"document.getElementById('_fb_rvolnytqjigysoixmgkz_ind_22').style.opacity = 1; document.getElementById('_fs_rvolnytqjigysoixmgkz_ind_22').style.opacity = 1;\"\n",
              "            onmouseout=\"document.getElementById('_fb_rvolnytqjigysoixmgkz_ind_22').style.opacity = 0; document.getElementById('_fs_rvolnytqjigysoixmgkz_ind_22').style.opacity = 0;\"\n",
              "        ></div></div></div>"
            ]
          },
          "metadata": {}
        }
      ]
    },
    {
      "cell_type": "code",
      "source": [
        "shap.plots.waterfall(shap_values[0])"
      ],
      "metadata": {
        "colab": {
          "base_uri": "https://localhost:8080/",
          "height": 617
        },
        "id": "epQI6dwN1HQx",
        "outputId": "83805217-2628-4895-a4cd-51537682d8ad"
      },
      "execution_count": null,
      "outputs": [
        {
          "output_type": "display_data",
          "data": {
            "text/plain": [
              "<Figure size 800x650 with 3 Axes>"
            ],
            "image/png": "[encoded data removed]"
          },
          "metadata": {}
        }
      ]
    },
    {
      "cell_type": "markdown",
      "metadata": {
        "id": "JKMHdb6qenNW"
      },
      "source": [
        "# Interpreting AstroBERT NER with Transformers Interpret"
      ]
    },
    {
      "cell_type": "markdown",
      "metadata": {
        "id": "bcStIQo6enNj"
      },
      "source": [
        "## Installation"
      ]
    },
    {
      "cell_type": "code",
      "source": [
        "!pip install transformers\n",
        "# !pip install transformers_interpret\n",
        "!pip install git+https://github.com/golnazads/transformers-interpret.git@v0.10.0_beta"
      ],
      "metadata": {
        "id": "C8vnbOaDenNl",
        "colab": {
          "base_uri": "https://localhost:8080/"
        },
        "outputId": "c4c815fe-df33-42be-cd4c-8195020667a0"
      },
      "execution_count": null,
      "outputs": [
        {
          "output_type": "stream",
          "name": "stdout",
          "text": [
            "Requirement already satisfied: transformers in /usr/local/lib/python3.10/dist-packages (4.32.1)\n",
            "Requirement already satisfied: filelock in /usr/local/lib/python3.10/dist-packages (from transformers) (3.12.2)\n",
            "Requirement already satisfied: huggingface-hub<1.0,>=0.15.1 in /usr/local/lib/python3.10/dist-packages (from transformers) (0.16.4)\n",
            "Requirement already satisfied: numpy>=1.17 in /usr/local/lib/python3.10/dist-packages (from transformers) (1.23.5)\n",
            "Requirement already satisfied: packaging>=20.0 in /usr/local/lib/python3.10/dist-packages (from transformers) (23.1)\n",
            "Requirement already satisfied: pyyaml>=5.1 in /usr/local/lib/python3.10/dist-packages (from transformers) (6.0.1)\n",
            "Requirement already satisfied: regex!=2019.12.17 in /usr/local/lib/python3.10/dist-packages (from transformers) (2023.6.3)\n",
            "Requirement already satisfied: requests in /usr/local/lib/python3.10/dist-packages (from transformers) (2.31.0)\n",
            "Requirement already satisfied: tokenizers!=0.11.3,<0.14,>=0.11.1 in /usr/local/lib/python3.10/dist-packages (from transformers) (0.13.3)\n",
            "Requirement already satisfied: safetensors>=0.3.1 in /usr/local/lib/python3.10/dist-packages (from transformers) (0.3.3)\n",
            "Requirement already satisfied: tqdm>=4.27 in /usr/local/lib/python3.10/dist-packages (from transformers) (4.66.1)\n",
            "Requirement already satisfied: fsspec in /usr/local/lib/python3.10/dist-packages (from huggingface-hub<1.0,>=0.15.1->transformers) (2023.6.0)\n",
            "Requirement already satisfied: typing-extensions>=3.7.4.3 in /usr/local/lib/python3.10/dist-packages (from huggingface-hub<1.0,>=0.15.1->transformers) (4.7.1)\n",
            "Requirement already satisfied: charset-normalizer<4,>=2 in /usr/local/lib/python3.10/dist-packages (from requests->transformers) (3.2.0)\n",
            "Requirement already satisfied: idna<4,>=2.5 in /usr/local/lib/python3.10/dist-packages (from requests->transformers) (3.4)\n",
            "Requirement already satisfied: urllib3<3,>=1.21.1 in /usr/local/lib/python3.10/dist-packages (from requests->transformers) (2.0.4)\n",
            "Requirement already satisfied: certifi>=2017.4.17 in /usr/local/lib/python3.10/dist-packages (from requests->transformers) (2023.7.22)\n",
            "Collecting git+https://github.com/golnazads/transformers-interpret.git@v0.10.0_beta\n",
            "  Cloning https://github.com/golnazads/transformers-interpret.git (to revision v0.10.0_beta) to /tmp/pip-req-build-u05au88i\n",
            "  Running command git clone --filter=blob:none --quiet https://github.com/golnazads/transformers-interpret.git /tmp/pip-req-build-u05au88i\n",
            "  Resolved https://github.com/golnazads/transformers-interpret.git to commit f653dd027487bd78aa4ae237b41f9152328ae257\n",
            "  Installing build dependencies ... \u001b[?25l\u001b[?25hdone\n",
            "  Getting requirements to build wheel ... \u001b[?25l\u001b[?25hdone\n",
            "  Preparing metadata (pyproject.toml) ... \u001b[?25l\u001b[?25hdone\n",
            "Requirement already satisfied: captum>=0.3.1 in /usr/local/lib/python3.10/dist-packages (from transformers-interpret==0.10.0) (0.6.0)\n",
            "Requirement already satisfied: ipython<8.0.0,>=7.31.1 in /usr/local/lib/python3.10/dist-packages (from transformers-interpret==0.10.0) (7.34.0)\n",
            "Requirement already satisfied: transformers>=3.0.0 in /usr/local/lib/python3.10/dist-packages (from transformers-interpret==0.10.0) (4.32.1)\n",
            "Requirement already satisfied: matplotlib in /usr/local/lib/python3.10/dist-packages (from captum>=0.3.1->transformers-interpret==0.10.0) (3.7.1)\n",
            "Requirement already satisfied: numpy in /usr/local/lib/python3.10/dist-packages (from captum>=0.3.1->transformers-interpret==0.10.0) (1.23.5)\n",
            "Requirement already satisfied: torch>=1.6 in /usr/local/lib/python3.10/dist-packages (from captum>=0.3.1->transformers-interpret==0.10.0) (2.0.1+cu118)\n",
            "Requirement already satisfied: setuptools>=18.5 in /usr/local/lib/python3.10/dist-packages (from ipython<8.0.0,>=7.31.1->transformers-interpret==0.10.0) (67.7.2)\n",
            "Requirement already satisfied: jedi>=0.16 in /usr/local/lib/python3.10/dist-packages (from ipython<8.0.0,>=7.31.1->transformers-interpret==0.10.0) (0.19.0)\n",
            "Requirement already satisfied: decorator in /usr/local/lib/python3.10/dist-packages (from ipython<8.0.0,>=7.31.1->transformers-interpret==0.10.0) (4.4.2)\n",
            "Requirement already satisfied: pickleshare in /usr/local/lib/python3.10/dist-packages (from ipython<8.0.0,>=7.31.1->transformers-interpret==0.10.0) (0.7.5)\n",
            "Requirement already satisfied: traitlets>=4.2 in /usr/local/lib/python3.10/dist-packages (from ipython<8.0.0,>=7.31.1->transformers-interpret==0.10.0) (5.7.1)\n",
            "Requirement already satisfied: prompt-toolkit!=3.0.0,!=3.0.1,<3.1.0,>=2.0.0 in /usr/local/lib/python3.10/dist-packages (from ipython<8.0.0,>=7.31.1->transformers-interpret==0.10.0) (3.0.39)\n",
            "Requirement already satisfied: pygments in /usr/local/lib/python3.10/dist-packages (from ipython<8.0.0,>=7.31.1->transformers-interpret==0.10.0) (2.16.1)\n",
            "Requirement already satisfied: backcall in /usr/local/lib/python3.10/dist-packages (from ipython<8.0.0,>=7.31.1->transformers-interpret==0.10.0) (0.2.0)\n",
            "Requirement already satisfied: matplotlib-inline in /usr/local/lib/python3.10/dist-packages (from ipython<8.0.0,>=7.31.1->transformers-interpret==0.10.0) (0.1.6)\n",
            "Requirement already satisfied: pexpect>4.3 in /usr/local/lib/python3.10/dist-packages (from ipython<8.0.0,>=7.31.1->transformers-interpret==0.10.0) (4.8.0)\n",
            "Requirement already satisfied: filelock in /usr/local/lib/python3.10/dist-packages (from transformers>=3.0.0->transformers-interpret==0.10.0) (3.12.2)\n",
            "Requirement already satisfied: huggingface-hub<1.0,>=0.15.1 in /usr/local/lib/python3.10/dist-packages (from transformers>=3.0.0->transformers-interpret==0.10.0) (0.16.4)\n",
            "Requirement already satisfied: packaging>=20.0 in /usr/local/lib/python3.10/dist-packages (from transformers>=3.0.0->transformers-interpret==0.10.0) (23.1)\n",
            "Requirement already satisfied: pyyaml>=5.1 in /usr/local/lib/python3.10/dist-packages (from transformers>=3.0.0->transformers-interpret==0.10.0) (6.0.1)\n",
            "Requirement already satisfied: regex!=2019.12.17 in /usr/local/lib/python3.10/dist-packages (from transformers>=3.0.0->transformers-interpret==0.10.0) (2023.6.3)\n",
            "Requirement already satisfied: requests in /usr/local/lib/python3.10/dist-packages (from transformers>=3.0.0->transformers-interpret==0.10.0) (2.31.0)\n",
            "Requirement already satisfied: tokenizers!=0.11.3,<0.14,>=0.11.1 in /usr/local/lib/python3.10/dist-packages (from transformers>=3.0.0->transformers-interpret==0.10.0) (0.13.3)\n",
            "Requirement already satisfied: safetensors>=0.3.1 in /usr/local/lib/python3.10/dist-packages (from transformers>=3.0.0->transformers-interpret==0.10.0) (0.3.3)\n",
            "Requirement already satisfied: tqdm>=4.27 in /usr/local/lib/python3.10/dist-packages (from transformers>=3.0.0->transformers-interpret==0.10.0) (4.66.1)\n",
            "Requirement already satisfied: fsspec in /usr/local/lib/python3.10/dist-packages (from huggingface-hub<1.0,>=0.15.1->transformers>=3.0.0->transformers-interpret==0.10.0) (2023.6.0)\n",
            "Requirement already satisfied: typing-extensions>=3.7.4.3 in /usr/local/lib/python3.10/dist-packages (from huggingface-hub<1.0,>=0.15.1->transformers>=3.0.0->transformers-interpret==0.10.0) (4.7.1)\n",
            "Requirement already satisfied: parso<0.9.0,>=0.8.3 in /usr/local/lib/python3.10/dist-packages (from jedi>=0.16->ipython<8.0.0,>=7.31.1->transformers-interpret==0.10.0) (0.8.3)\n",
            "Requirement already satisfied: ptyprocess>=0.5 in /usr/local/lib/python3.10/dist-packages (from pexpect>4.3->ipython<8.0.0,>=7.31.1->transformers-interpret==0.10.0) (0.7.0)\n",
            "Requirement already satisfied: wcwidth in /usr/local/lib/python3.10/dist-packages (from prompt-toolkit!=3.0.0,!=3.0.1,<3.1.0,>=2.0.0->ipython<8.0.0,>=7.31.1->transformers-interpret==0.10.0) (0.2.6)\n",
            "Requirement already satisfied: sympy in /usr/local/lib/python3.10/dist-packages (from torch>=1.6->captum>=0.3.1->transformers-interpret==0.10.0) (1.12)\n",
            "Requirement already satisfied: networkx in /usr/local/lib/python3.10/dist-packages (from torch>=1.6->captum>=0.3.1->transformers-interpret==0.10.0) (3.1)\n",
            "Requirement already satisfied: jinja2 in /usr/local/lib/python3.10/dist-packages (from torch>=1.6->captum>=0.3.1->transformers-interpret==0.10.0) (3.1.2)\n",
            "Requirement already satisfied: triton==2.0.0 in /usr/local/lib/python3.10/dist-packages (from torch>=1.6->captum>=0.3.1->transformers-interpret==0.10.0) (2.0.0)\n",
            "Requirement already satisfied: cmake in /usr/local/lib/python3.10/dist-packages (from triton==2.0.0->torch>=1.6->captum>=0.3.1->transformers-interpret==0.10.0) (3.27.2)\n",
            "Requirement already satisfied: lit in /usr/local/lib/python3.10/dist-packages (from triton==2.0.0->torch>=1.6->captum>=0.3.1->transformers-interpret==0.10.0) (16.0.6)\n",
            "Requirement already satisfied: contourpy>=1.0.1 in /usr/local/lib/python3.10/dist-packages (from matplotlib->captum>=0.3.1->transformers-interpret==0.10.0) (1.1.0)\n",
            "Requirement already satisfied: cycler>=0.10 in /usr/local/lib/python3.10/dist-packages (from matplotlib->captum>=0.3.1->transformers-interpret==0.10.0) (0.11.0)\n",
            "Requirement already satisfied: fonttools>=4.22.0 in /usr/local/lib/python3.10/dist-packages (from matplotlib->captum>=0.3.1->transformers-interpret==0.10.0) (4.42.1)\n",
            "Requirement already satisfied: kiwisolver>=1.0.1 in /usr/local/lib/python3.10/dist-packages (from matplotlib->captum>=0.3.1->transformers-interpret==0.10.0) (1.4.4)\n",
            "Requirement already satisfied: pillow>=6.2.0 in /usr/local/lib/python3.10/dist-packages (from matplotlib->captum>=0.3.1->transformers-interpret==0.10.0) (9.4.0)\n",
            "Requirement already satisfied: pyparsing>=2.3.1 in /usr/local/lib/python3.10/dist-packages (from matplotlib->captum>=0.3.1->transformers-interpret==0.10.0) (3.1.1)\n",
            "Requirement already satisfied: python-dateutil>=2.7 in /usr/local/lib/python3.10/dist-packages (from matplotlib->captum>=0.3.1->transformers-interpret==0.10.0) (2.8.2)\n",
            "Requirement already satisfied: charset-normalizer<4,>=2 in /usr/local/lib/python3.10/dist-packages (from requests->transformers>=3.0.0->transformers-interpret==0.10.0) (3.2.0)\n",
            "Requirement already satisfied: idna<4,>=2.5 in /usr/local/lib/python3.10/dist-packages (from requests->transformers>=3.0.0->transformers-interpret==0.10.0) (3.4)\n",
            "Requirement already satisfied: urllib3<3,>=1.21.1 in /usr/local/lib/python3.10/dist-packages (from requests->transformers>=3.0.0->transformers-interpret==0.10.0) (2.0.4)\n",
            "Requirement already satisfied: certifi>=2017.4.17 in /usr/local/lib/python3.10/dist-packages (from requests->transformers>=3.0.0->transformers-interpret==0.10.0) (2023.7.22)\n",
            "Requirement already satisfied: six>=1.5 in /usr/local/lib/python3.10/dist-packages (from python-dateutil>=2.7->matplotlib->captum>=0.3.1->transformers-interpret==0.10.0) (1.16.0)\n",
            "Requirement already satisfied: MarkupSafe>=2.0 in /usr/local/lib/python3.10/dist-packages (from jinja2->torch>=1.6->captum>=0.3.1->transformers-interpret==0.10.0) (2.1.3)\n",
            "Requirement already satisfied: mpmath>=0.19 in /usr/local/lib/python3.10/dist-packages (from sympy->torch>=1.6->captum>=0.3.1->transformers-interpret==0.10.0) (1.3.0)\n"
          ]
        }
      ]
    },
    {
      "cell_type": "markdown",
      "metadata": {
        "id": "67vRMcifenNp"
      },
      "source": [
        "## Import AstroBERT NER model"
      ]
    },
    {
      "cell_type": "code",
      "execution_count": null,
      "metadata": {
        "id": "0_OOTBuHenNr"
      },
      "outputs": [],
      "source": [
        "from transformers import AutoModelForTokenClassification, AutoTokenizer\n",
        "\n",
        "# load astroBERT for NER-DEAL\n",
        "remote_model_path = 'adsabs/astroBERT'\n",
        "revision = 'NER-DEAL'\n",
        "\n",
        "model = AutoModelForTokenClassification.from_pretrained(pretrained_model_name_or_path=remote_model_path, revision=revision)\n",
        "tokenizer = AutoTokenizer.from_pretrained(pretrained_model_name_or_path=remote_model_path, add_special_tokens=True, do_lower_case=False)"
      ]
    },
    {
      "cell_type": "markdown",
      "metadata": {
        "id": "rSyluT74enNv"
      },
      "source": [
        "Display all possible entity tags that this model classifies each token into:"
      ]
    },
    {
      "cell_type": "code",
      "execution_count": null,
      "metadata": {
        "colab": {
          "base_uri": "https://localhost:8080/"
        },
        "outputId": "ad318d96-4575-4578-9517-be9290b69b0e",
        "id": "vuY8qgrAenNw"
      },
      "outputs": [
        {
          "output_type": "execute_result",
          "data": {
            "text/plain": [
              "{0: 'B-Archive',\n",
              " 1: 'B-CelestialObject',\n",
              " 2: 'B-CelestialObjectRegion',\n",
              " 3: 'B-CelestialRegion',\n",
              " 4: 'B-Citation',\n",
              " 5: 'B-Collaboration',\n",
              " 6: 'B-ComputingFacility',\n",
              " 7: 'B-Database',\n",
              " 8: 'B-Dataset',\n",
              " 9: 'B-EntityOfFutureInterest',\n",
              " 10: 'B-Event',\n",
              " 11: 'B-Fellowship',\n",
              " 12: 'B-Formula',\n",
              " 13: 'B-Grant',\n",
              " 14: 'B-Identifier',\n",
              " 15: 'B-Instrument',\n",
              " 16: 'B-Location',\n",
              " 17: 'B-Mission',\n",
              " 18: 'B-Model',\n",
              " 19: 'B-ObservationalTechniques',\n",
              " 20: 'B-Observatory',\n",
              " 21: 'B-Organization',\n",
              " 22: 'B-Person',\n",
              " 23: 'B-Proposal',\n",
              " 24: 'B-Software',\n",
              " 25: 'B-Survey',\n",
              " 26: 'B-Tag',\n",
              " 27: 'B-Telescope',\n",
              " 28: 'B-TextGarbage',\n",
              " 29: 'B-URL',\n",
              " 30: 'B-Wavelength',\n",
              " 31: 'I-Archive',\n",
              " 32: 'I-CelestialObject',\n",
              " 33: 'I-CelestialObjectRegion',\n",
              " 34: 'I-CelestialRegion',\n",
              " 35: 'I-Citation',\n",
              " 36: 'I-Collaboration',\n",
              " 37: 'I-ComputingFacility',\n",
              " 38: 'I-Database',\n",
              " 39: 'I-Dataset',\n",
              " 40: 'I-EntityOfFutureInterest',\n",
              " 41: 'I-Event',\n",
              " 42: 'I-Fellowship',\n",
              " 43: 'I-Formula',\n",
              " 44: 'I-Grant',\n",
              " 45: 'I-Identifier',\n",
              " 46: 'I-Instrument',\n",
              " 47: 'I-Location',\n",
              " 48: 'I-Mission',\n",
              " 49: 'I-Model',\n",
              " 50: 'I-ObservationalTechniques',\n",
              " 51: 'I-Observatory',\n",
              " 52: 'I-Organization',\n",
              " 53: 'I-Person',\n",
              " 54: 'I-Proposal',\n",
              " 55: 'I-Software',\n",
              " 56: 'I-Survey',\n",
              " 57: 'I-Tag',\n",
              " 58: 'I-Telescope',\n",
              " 59: 'I-TextGarbage',\n",
              " 60: 'I-URL',\n",
              " 61: 'I-Wavelength',\n",
              " 62: 'O'}"
            ]
          },
          "metadata": {},
          "execution_count": 22
        }
      ],
      "source": [
        "model.config.id2label"
      ]
    },
    {
      "cell_type": "markdown",
      "source": [
        "## Create a pipeline and see a tagged example"
      ],
      "metadata": {
        "id": "x1BMEXG6enNy"
      }
    },
    {
      "cell_type": "code",
      "source": [
        "from transformers import TokenClassificationPipeline\n",
        "\n",
        "pipeline = TokenClassificationPipeline(model=model, tokenizer=tokenizer, task='astroBERT NER_DEAL', aggregation_strategy='average', ignore_labels=['O'])"
      ],
      "metadata": {
        "id": "S7GW3iNVenNz"
      },
      "execution_count": null,
      "outputs": []
    },
    {
      "cell_type": "code",
      "source": [
        "example = \"The VLT telescope in Chile captured an image of the Tarantula Nebula in the Large Magellanic Cloud galaxy.\"\n",
        "results = pipeline(example)\n",
        "for result in results:\n",
        "  print(result)"
      ],
      "metadata": {
        "colab": {
          "base_uri": "https://localhost:8080/"
        },
        "outputId": "1a05b9f6-5954-465d-c94c-62778228cd38",
        "id": "0I4vDqZ2enN1"
      },
      "execution_count": null,
      "outputs": [
        {
          "output_type": "stream",
          "name": "stderr",
          "text": [
            "Asking to truncate to max_length but no maximum length is provided and the model has no predefined maximum length. Default to no truncation.\n"
          ]
        },
        {
          "output_type": "stream",
          "name": "stdout",
          "text": [
            "{'entity_group': 'Telescope', 'score': 0.556757, 'word': 'The', 'start': 0, 'end': 3}\n",
            "{'entity_group': 'Telescope', 'score': 0.84752667, 'word': 'VLT telescope', 'start': 4, 'end': 17}\n",
            "{'entity_group': 'Location', 'score': 0.5440941, 'word': 'Chile', 'start': 21, 'end': 26}\n",
            "{'entity_group': 'CelestialObject', 'score': 0.69072115, 'word': 'Tarantula Nebula', 'start': 52, 'end': 68}\n",
            "{'entity_group': 'CelestialObject', 'score': 0.73234534, 'word': 'Large Magellanic Cloud', 'start': 76, 'end': 98}\n"
          ]
        }
      ]
    },
    {
      "cell_type": "markdown",
      "metadata": {
        "id": "K_T_lFU2enN4"
      },
      "source": [
        "\n",
        "## Import from the *transformers interpret* package, and create the explainer"
      ]
    },
    {
      "cell_type": "code",
      "execution_count": null,
      "metadata": {
        "id": "X02bKdvyenN5"
      },
      "outputs": [],
      "source": [
        "from transformers_interpret import TokenClassificationExplainer\n",
        "\n",
        "explainer = TokenClassificationExplainer(model=model, tokenizer=tokenizer)"
      ]
    },
    {
      "cell_type": "markdown",
      "source": [
        "## Run the example with the explainer"
      ],
      "metadata": {
        "id": "3SCvqkZGenN5"
      }
    },
    {
      "cell_type": "code",
      "source": [
        "attributions = explainer(example, ignored_labels=['O'])\n",
        "attributions"
      ],
      "metadata": {
        "colab": {
          "base_uri": "https://localhost:8080/"
        },
        "outputId": "7cc96267-3734-470d-d4f4-a6d242403251",
        "id": "QQJgG8gxenN6"
      },
      "execution_count": null,
      "outputs": [
        {
          "output_type": "execute_result",
          "data": {
            "text/plain": [
              "{'The': {'label': 'I-Telescope',\n",
              "  'attribution_scores': [('[CLS]', 0.0),\n",
              "   ('The', 0.39404618540943986),\n",
              "   ('VLT', 0.4032809871300941),\n",
              "   ('telescope', 0.4329206693596886),\n",
              "   ('in', 0.01018469870164287),\n",
              "   ('Chile', 0.15245197646448883),\n",
              "   ('captured', -0.2877084558627176),\n",
              "   ('an', 0.08757340148654837),\n",
              "   ('image', 0.24272602368535665),\n",
              "   ('of', 0.050529239886914636),\n",
              "   ('the', -0.0902487210943725),\n",
              "   ('Tar', -0.04819554797369146),\n",
              "   ('##ant', 0.05414390775423047),\n",
              "   ('##ula', 0.0645690459306804),\n",
              "   ('Nebula', 0.08048425631796283),\n",
              "   ('in', 0.03090513289673615),\n",
              "   ('the', 0.029915728929490362),\n",
              "   ('Large', 0.09720567592865653),\n",
              "   ('Magellanic', 0.14744365647140595),\n",
              "   ('Cloud', 0.05383900649762496),\n",
              "   ('galaxy', 0.07702360612173634),\n",
              "   ('.', -0.5034838793913254),\n",
              "   ('[SEP]', 0.0)]},\n",
              " 'VLT': {'label': 'B-Telescope',\n",
              "  'attribution_scores': [('[CLS]', 0.0),\n",
              "   ('The', 0.9249230809851489),\n",
              "   ('VLT', 0.009249756523078573),\n",
              "   ('telescope', 0.04146837596077972),\n",
              "   ('in', -0.0672787394265324),\n",
              "   ('Chile', 0.03980982537400802),\n",
              "   ('captured', 0.08070903916709966),\n",
              "   ('an', 0.08839649207669774),\n",
              "   ('image', 0.004059483789084913),\n",
              "   ('of', 0.06655157544439554),\n",
              "   ('the', 0.030869979105502852),\n",
              "   ('Tar', 0.0398598596299419),\n",
              "   ('##ant', 0.008409872274178725),\n",
              "   ('##ula', 0.030221938210898996),\n",
              "   ('Nebula', 0.04892522545044793),\n",
              "   ('in', 0.03459012338464575),\n",
              "   ('the', 0.041507610457626895),\n",
              "   ('Large', -0.028291079758293362),\n",
              "   ('Magellanic', 0.028842410820930364),\n",
              "   ('Cloud', 0.016012092565726766),\n",
              "   ('galaxy', 0.023424520790124397),\n",
              "   ('.', 0.3264216934605865),\n",
              "   ('[SEP]', 0.0)]},\n",
              " 'telescope': {'label': 'I-Telescope',\n",
              "  'attribution_scores': [('[CLS]', 0.0),\n",
              "   ('The', 0.3466875666019692),\n",
              "   ('VLT', 0.5235574342299807),\n",
              "   ('telescope', 0.5259310402276948),\n",
              "   ('in', 0.009745322345132883),\n",
              "   ('Chile', 0.14929752626766613),\n",
              "   ('captured', -0.18746546799907268),\n",
              "   ('an', 0.04298878798902332),\n",
              "   ('image', 0.23411439678142842),\n",
              "   ('of', -0.031680954808959154),\n",
              "   ('the', -0.10977969309504572),\n",
              "   ('Tar', -0.08212304612828399),\n",
              "   ('##ant', 0.014693668303349675),\n",
              "   ('##ula', 0.046892804439448536),\n",
              "   ('Nebula', 0.10035804236284959),\n",
              "   ('in', -0.03464513669569453),\n",
              "   ('the', -0.00011904484144416945),\n",
              "   ('Large', 0.05503145968448991),\n",
              "   ('Magellanic', 0.08705418977005594),\n",
              "   ('Cloud', 0.027670995914614954),\n",
              "   ('galaxy', 0.06567943072929548),\n",
              "   ('.', -0.40710388727035524),\n",
              "   ('[SEP]', 0.0)]},\n",
              " 'Chile': {'label': 'B-Location',\n",
              "  'attribution_scores': [('[CLS]', 0.0),\n",
              "   ('The', 0.1307473141944236),\n",
              "   ('VLT', -0.0858297775726472),\n",
              "   ('telescope', 0.15506168820118835),\n",
              "   ('in', 0.8046375454057615),\n",
              "   ('Chile', 0.48438900592567735),\n",
              "   ('captured', -0.06972395605262664),\n",
              "   ('an', -0.043707648725853726),\n",
              "   ('image', 0.035403520005373924),\n",
              "   ('of', 0.1764556132308805),\n",
              "   ('the', 0.07930382894992911),\n",
              "   ('Tar', 0.026564201867334356),\n",
              "   ('##ant', 0.03639605628328556),\n",
              "   ('##ula', -0.04371734023750429),\n",
              "   ('Nebula', 0.08441867740044738),\n",
              "   ('in', -0.05538696307201432),\n",
              "   ('the', 0.005487426971963144),\n",
              "   ('Large', -0.0539682634990063),\n",
              "   ('Magellanic', 0.03828494539814332),\n",
              "   ('Cloud', 0.02345398376772975),\n",
              "   ('galaxy', -0.038252914856257245),\n",
              "   ('.', -0.05840833253154235),\n",
              "   ('[SEP]', 0.0)]},\n",
              " 'Tar': {'label': 'B-CelestialObject',\n",
              "  'attribution_scores': [('[CLS]', 0.0),\n",
              "   ('The', 0.011321499203267736),\n",
              "   ('VLT', 0.22170252355517853),\n",
              "   ('telescope', 0.2637679128992654),\n",
              "   ('in', -0.014152812784993548),\n",
              "   ('Chile', 0.0629585072012811),\n",
              "   ('captured', 0.16178536786774284),\n",
              "   ('an', -0.007598279563699196),\n",
              "   ('image', 0.12930199519958038),\n",
              "   ('of', 0.015570671971896703),\n",
              "   ('the', 0.20990717728375835),\n",
              "   ('Tar', 0.4117789605943583),\n",
              "   ('##ant', 0.23487619143626923),\n",
              "   ('##ula', 0.6311200820862354),\n",
              "   ('Nebula', 0.1453945207753456),\n",
              "   ('in', 0.06123243103387974),\n",
              "   ('the', -0.08767276145117987),\n",
              "   ('Large', 0.09262721018456804),\n",
              "   ('Magellanic', 0.07890636305319568),\n",
              "   ('Cloud', 0.07485309926037459),\n",
              "   ('galaxy', 0.32540612053083184),\n",
              "   ('.', -0.08838881766320333),\n",
              "   ('[SEP]', 0.0)]},\n",
              " '##ant': {'label': 'I-CelestialObject',\n",
              "  'attribution_scores': [('[CLS]', 0.0),\n",
              "   ('The', -0.024428403933474795),\n",
              "   ('VLT', -0.05377599940617418),\n",
              "   ('telescope', 0.23466359761597236),\n",
              "   ('in', 0.07772471959555767),\n",
              "   ('Chile', -0.03885621313127883),\n",
              "   ('captured', 0.0765989313318615),\n",
              "   ('an', -0.0106300981824266),\n",
              "   ('image', 0.13049102825706035),\n",
              "   ('of', 0.10701566014511932),\n",
              "   ('the', 0.17888697163847378),\n",
              "   ('Tar', 0.3377147496972984),\n",
              "   ('##ant', 0.45881229627687814),\n",
              "   ('##ula', 0.006960890959484724),\n",
              "   ('Nebula', -0.2094149635232624),\n",
              "   ('in', 0.07217163565952661),\n",
              "   ('the', -0.2867079323612966),\n",
              "   ('Large', 0.04672039653062818),\n",
              "   ('Magellanic', 0.03459846333894244),\n",
              "   ('Cloud', 0.07919345080305802),\n",
              "   ('galaxy', 0.22732825654635969),\n",
              "   ('.', -0.5918018434684041),\n",
              "   ('[SEP]', 0.0)]},\n",
              " '##ula': {'label': 'I-CelestialObject',\n",
              "  'attribution_scores': [('[CLS]', 0.0),\n",
              "   ('The', 0.02867425698663232),\n",
              "   ('VLT', 0.10002775115405285),\n",
              "   ('telescope', 0.16118532195596286),\n",
              "   ('in', 0.07684168973650267),\n",
              "   ('Chile', -0.04964220053501652),\n",
              "   ('captured', 0.06744489933223034),\n",
              "   ('an', -0.020475772091615836),\n",
              "   ('image', 0.13963503042847544),\n",
              "   ('of', 0.062046318172839204),\n",
              "   ('the', 0.08395452658614305),\n",
              "   ('Tar', 0.35268848702646866),\n",
              "   ('##ant', -0.010418596352205616),\n",
              "   ('##ula', 0.7075948147362656),\n",
              "   ('Nebula', -0.23299104137119675),\n",
              "   ('in', -0.026273022671374904),\n",
              "   ('the', -0.21921912056526205),\n",
              "   ('Large', 0.040003105636136245),\n",
              "   ('Magellanic', 0.029740656303637654),\n",
              "   ('Cloud', -0.008056728506716574),\n",
              "   ('galaxy', 0.2757717817181973),\n",
              "   ('.', -0.3356164682096054),\n",
              "   ('[SEP]', 0.0)]},\n",
              " 'Nebula': {'label': 'I-CelestialObject',\n",
              "  'attribution_scores': [('[CLS]', 0.0),\n",
              "   ('The', 0.057220986210631056),\n",
              "   ('VLT', 0.11265375234538903),\n",
              "   ('telescope', 0.12597818422781876),\n",
              "   ('in', 0.06826159408330312),\n",
              "   ('Chile', -0.006315938800821797),\n",
              "   ('captured', 0.16505846315089898),\n",
              "   ('an', -0.021767621549721408),\n",
              "   ('image', 0.0759362434406037),\n",
              "   ('of', -0.12586639106012923),\n",
              "   ('the', -0.1399200291671653),\n",
              "   ('Tar', 0.24816625296835634),\n",
              "   ('##ant', -0.08746302446876747),\n",
              "   ('##ula', 0.6279658558645641),\n",
              "   ('Nebula', -0.04156165636978633),\n",
              "   ('in', 0.2060297009546611),\n",
              "   ('the', 0.04653236273631494),\n",
              "   ('Large', 0.13717088602163757),\n",
              "   ('Magellanic', 0.129929283901943),\n",
              "   ('Cloud', 0.10568500699462062),\n",
              "   ('galaxy', 0.37257468555443196),\n",
              "   ('.', -0.44605325526991063),\n",
              "   ('[SEP]', 0.0)]},\n",
              " 'Large': {'label': 'B-CelestialObject',\n",
              "  'attribution_scores': [('[CLS]', 0.0),\n",
              "   ('The', 0.032414093948822414),\n",
              "   ('VLT', -0.11857501635201771),\n",
              "   ('telescope', 0.014326150079899356),\n",
              "   ('in', 0.042453008956828395),\n",
              "   ('Chile', -0.05909925522665053),\n",
              "   ('captured', 0.12014084138626578),\n",
              "   ('an', 0.018798551619104386),\n",
              "   ('image', 0.016072134037424756),\n",
              "   ('of', 0.05806264446698172),\n",
              "   ('the', 0.08770770519443177),\n",
              "   ('Tar', 0.24361303230594486),\n",
              "   ('##ant', 0.22260907011300365),\n",
              "   ('##ula', 0.2710065063612178),\n",
              "   ('Nebula', 0.38401096187043604),\n",
              "   ('in', -0.05115935806790853),\n",
              "   ('the', -0.11531469652730263),\n",
              "   ('Large', 0.4693778103880907),\n",
              "   ('Magellanic', 0.5091200815298955),\n",
              "   ('Cloud', 0.2342222238928639),\n",
              "   ('galaxy', 0.2700702488178491),\n",
              "   ('.', 0.015396512912258254),\n",
              "   ('[SEP]', 0.0)]},\n",
              " 'Magellanic': {'label': 'I-CelestialObject',\n",
              "  'attribution_scores': [('[CLS]', 0.0),\n",
              "   ('The', 0.033769755497081715),\n",
              "   ('VLT', 0.012658155885834093),\n",
              "   ('telescope', 0.04381197467295199),\n",
              "   ('in', 0.018451911447153482),\n",
              "   ('Chile', -0.08789143875823309),\n",
              "   ('captured', 0.05987910190561302),\n",
              "   ('an', 0.012963904984326886),\n",
              "   ('image', 0.09173105858317424),\n",
              "   ('of', 0.0915174455407657),\n",
              "   ('the', 0.09918978983071891),\n",
              "   ('Tar', 0.04888563189433844),\n",
              "   ('##ant', -0.02518616293744696),\n",
              "   ('##ula', 0.0725947752238695),\n",
              "   ('Nebula', 0.26008231417690836),\n",
              "   ('in', -0.19052335989289607),\n",
              "   ('the', -0.21276231450918986),\n",
              "   ('Large', 0.08047300191734204),\n",
              "   ('Magellanic', 0.776381538645107),\n",
              "   ('Cloud', 0.05112411173202989),\n",
              "   ('galaxy', 0.23959733299625777),\n",
              "   ('.', -0.36271700628941633),\n",
              "   ('[SEP]', 0.0)]},\n",
              " 'Cloud': {'label': 'I-CelestialObject',\n",
              "  'attribution_scores': [('[CLS]', 0.0),\n",
              "   ('The', 0.09632247201648331),\n",
              "   ('VLT', -0.037513598102284884),\n",
              "   ('telescope', -0.06270150317877796),\n",
              "   ('in', 0.06952965216196484),\n",
              "   ('Chile', -0.16702254118058946),\n",
              "   ('captured', 0.20882994445462186),\n",
              "   ('an', 0.046599071533285234),\n",
              "   ('image', 0.16122629981415404),\n",
              "   ('of', 0.20684532525956273),\n",
              "   ('the', 0.1979784528819426),\n",
              "   ('Tar', 0.03201014116965634),\n",
              "   ('##ant', -0.011557020144659993),\n",
              "   ('##ula', -0.05490578526626244),\n",
              "   ('Nebula', 0.24829286877694784),\n",
              "   ('in', -0.3704334502318907),\n",
              "   ('the', -0.42664097903955384),\n",
              "   ('Large', 0.13483736062712315),\n",
              "   ('Magellanic', 0.2607270252044306),\n",
              "   ('Cloud', 0.01142865420724633),\n",
              "   ('galaxy', 0.5515638132294108),\n",
              "   ('.', -0.15270203733818902),\n",
              "   ('[SEP]', 0.0)]}}"
            ]
          },
          "metadata": {},
          "execution_count": 26
        }
      ]
    },
    {
      "cell_type": "markdown",
      "metadata": {
        "id": "45R2KgckenN7"
      },
      "source": [
        "Visualizing explanations"
      ]
    },
    {
      "cell_type": "code",
      "source": [
        "html = explainer.visualize()"
      ],
      "metadata": {
        "colab": {
          "base_uri": "https://localhost:8080/"
        },
        "outputId": "c413d35d-3b37-468f-d779-bc572fd72534",
        "id": "hlL9Mp_qenN7"
      },
      "execution_count": null,
      "outputs": [
        {
          "output_type": "display_data",
          "data": {
            "text/plain": [
              "<IPython.core.display.HTML object>"
            ],
            "text/html": [
              "<table width: 100%><div style=\"border-top: 1px solid; margin-top: 5px;             padding-top: 5px; display: inline-block\"><b>Legend: </b><span style=\"display: inline-block; width: 10px; height: 10px;                 border: 1px solid; background-color:                 hsl(0, 75%, 60%)\"></span> Negative  <span style=\"display: inline-block; width: 10px; height: 10px;                 border: 1px solid; background-color:                 hsl(0, 75%, 100%)\"></span> Neutral  <span style=\"display: inline-block; width: 10px; height: 10px;                 border: 1px solid; background-color:                 hsl(120, 75%, 50%)\"></span> Positive  </div><tr><th>True Label</th><th>Predicted Label</th><th>Attribution Label</th><th>Attribution Score</th><th>Word Importance</th><tr><td><text style=\"padding-right:2em\"><b>I-Telescope</b></text></td><td><text style=\"padding-right:2em\"><b>I-Telescope (0.56)</b></text></td><td><text style=\"padding-right:2em\"><b>The</b></text></td><td><text style=\"padding-right:2em\"><b>1.48</b></text></td><td><mark style=\"background-color: hsl(0, 75%, 100%); opacity:1.0;                     line-height:1.75\"><font color=\"black\"> [CLS]                    </font></mark><mark style=\"background-color: hsl(120, 75%, 81%); opacity:1.0;                     line-height:1.75\"><font color=\"black\"> The                    </font></mark><mark style=\"background-color: hsl(120, 75%, 80%); opacity:1.0;                     line-height:1.75\"><font color=\"black\"> VLT                    </font></mark><mark style=\"background-color: hsl(120, 75%, 79%); opacity:1.0;                     line-height:1.75\"><font color=\"black\"> telescope                    </font></mark><mark style=\"background-color: hsl(120, 75%, 100%); opacity:1.0;                     line-height:1.75\"><font color=\"black\"> in                    </font></mark><mark style=\"background-color: hsl(120, 75%, 93%); opacity:1.0;                     line-height:1.75\"><font color=\"black\"> Chile                    </font></mark><mark style=\"background-color: hsl(0, 75%, 89%); opacity:1.0;                     line-height:1.75\"><font color=\"black\"> captured                    </font></mark><mark style=\"background-color: hsl(120, 75%, 96%); opacity:1.0;                     line-height:1.75\"><font color=\"black\"> an                    </font></mark><mark style=\"background-color: hsl(120, 75%, 88%); opacity:1.0;                     line-height:1.75\"><font color=\"black\"> image                    </font></mark><mark style=\"background-color: hsl(120, 75%, 98%); opacity:1.0;                     line-height:1.75\"><font color=\"black\"> of                    </font></mark><mark style=\"background-color: hsl(0, 75%, 97%); opacity:1.0;                     line-height:1.75\"><font color=\"black\"> the                    </font></mark><mark style=\"background-color: hsl(0, 75%, 99%); opacity:1.0;                     line-height:1.75\"><font color=\"black\"> Tar                    </font></mark><mark style=\"background-color: hsl(120, 75%, 98%); opacity:1.0;                     line-height:1.75\"><font color=\"black\"> ##ant                    </font></mark><mark style=\"background-color: hsl(120, 75%, 97%); opacity:1.0;                     line-height:1.75\"><font color=\"black\"> ##ula                    </font></mark><mark style=\"background-color: hsl(120, 75%, 96%); opacity:1.0;                     line-height:1.75\"><font color=\"black\"> Nebula                    </font></mark><mark style=\"background-color: hsl(120, 75%, 99%); opacity:1.0;                     line-height:1.75\"><font color=\"black\"> in                    </font></mark><mark style=\"background-color: hsl(120, 75%, 99%); opacity:1.0;                     line-height:1.75\"><font color=\"black\"> the                    </font></mark><mark style=\"background-color: hsl(120, 75%, 96%); opacity:1.0;                     line-height:1.75\"><font color=\"black\"> Large                    </font></mark><mark style=\"background-color: hsl(120, 75%, 93%); opacity:1.0;                     line-height:1.75\"><font color=\"black\"> Magellanic                    </font></mark><mark style=\"background-color: hsl(120, 75%, 98%); opacity:1.0;                     line-height:1.75\"><font color=\"black\"> Cloud                    </font></mark><mark style=\"background-color: hsl(120, 75%, 97%); opacity:1.0;                     line-height:1.75\"><font color=\"black\"> galaxy                    </font></mark><mark style=\"background-color: hsl(0, 75%, 80%); opacity:1.0;                     line-height:1.75\"><font color=\"black\"> .                    </font></mark><mark style=\"background-color: hsl(0, 75%, 100%); opacity:1.0;                     line-height:1.75\"><font color=\"black\"> [SEP]                    </font></mark></td><tr><tr><td><text style=\"padding-right:2em\"><b>B-Telescope</b></text></td><td><text style=\"padding-right:2em\"><b>B-Telescope (0.74)</b></text></td><td><text style=\"padding-right:2em\"><b>VLT</b></text></td><td><text style=\"padding-right:2em\"><b>1.79</b></text></td><td><mark style=\"background-color: hsl(0, 75%, 100%); opacity:1.0;                     line-height:1.75\"><font color=\"black\"> [CLS]                    </font></mark><mark style=\"background-color: hsl(120, 75%, 54%); opacity:1.0;                     line-height:1.75\"><font color=\"black\"> The                    </font></mark><mark style=\"background-color: hsl(120, 75%, 100%); opacity:1.0;                     line-height:1.75\"><font color=\"black\"> VLT                    </font></mark><mark style=\"background-color: hsl(120, 75%, 98%); opacity:1.0;                     line-height:1.75\"><font color=\"black\"> telescope                    </font></mark><mark style=\"background-color: hsl(0, 75%, 98%); opacity:1.0;                     line-height:1.75\"><font color=\"black\"> in                    </font></mark><mark style=\"background-color: hsl(120, 75%, 99%); opacity:1.0;                     line-height:1.75\"><font color=\"black\"> Chile                    </font></mark><mark style=\"background-color: hsl(120, 75%, 96%); opacity:1.0;                     line-height:1.75\"><font color=\"black\"> captured                    </font></mark><mark style=\"background-color: hsl(120, 75%, 96%); opacity:1.0;                     line-height:1.75\"><font color=\"black\"> an                    </font></mark><mark style=\"background-color: hsl(120, 75%, 100%); opacity:1.0;                     line-height:1.75\"><font color=\"black\"> image                    </font></mark><mark style=\"background-color: hsl(120, 75%, 97%); opacity:1.0;                     line-height:1.75\"><font color=\"black\"> of                    </font></mark><mark style=\"background-color: hsl(120, 75%, 99%); opacity:1.0;                     line-height:1.75\"><font color=\"black\"> the                    </font></mark><mark style=\"background-color: hsl(120, 75%, 99%); opacity:1.0;                     line-height:1.75\"><font color=\"black\"> Tar                    </font></mark><mark style=\"background-color: hsl(120, 75%, 100%); opacity:1.0;                     line-height:1.75\"><font color=\"black\"> ##ant                    </font></mark><mark style=\"background-color: hsl(120, 75%, 99%); opacity:1.0;                     line-height:1.75\"><font color=\"black\"> ##ula                    </font></mark><mark style=\"background-color: hsl(120, 75%, 98%); opacity:1.0;                     line-height:1.75\"><font color=\"black\"> Nebula                    </font></mark><mark style=\"background-color: hsl(120, 75%, 99%); opacity:1.0;                     line-height:1.75\"><font color=\"black\"> in                    </font></mark><mark style=\"background-color: hsl(120, 75%, 98%); opacity:1.0;                     line-height:1.75\"><font color=\"black\"> the                    </font></mark><mark style=\"background-color: hsl(0, 75%, 99%); opacity:1.0;                     line-height:1.75\"><font color=\"black\"> Large                    </font></mark><mark style=\"background-color: hsl(120, 75%, 99%); opacity:1.0;                     line-height:1.75\"><font color=\"black\"> Magellanic                    </font></mark><mark style=\"background-color: hsl(120, 75%, 100%); opacity:1.0;                     line-height:1.75\"><font color=\"black\"> Cloud                    </font></mark><mark style=\"background-color: hsl(120, 75%, 99%); opacity:1.0;                     line-height:1.75\"><font color=\"black\"> galaxy                    </font></mark><mark style=\"background-color: hsl(120, 75%, 84%); opacity:1.0;                     line-height:1.75\"><font color=\"black\"> .                    </font></mark><mark style=\"background-color: hsl(0, 75%, 100%); opacity:1.0;                     line-height:1.75\"><font color=\"black\"> [SEP]                    </font></mark></td><tr><tr><td><text style=\"padding-right:2em\"><b>I-Telescope</b></text></td><td><text style=\"padding-right:2em\"><b>I-Telescope (0.96)</b></text></td><td><text style=\"padding-right:2em\"><b>telescope</b></text></td><td><text style=\"padding-right:2em\"><b>1.38</b></text></td><td><mark style=\"background-color: hsl(0, 75%, 100%); opacity:1.0;                     line-height:1.75\"><font color=\"black\"> [CLS]                    </font></mark><mark style=\"background-color: hsl(120, 75%, 83%); opacity:1.0;                     line-height:1.75\"><font color=\"black\"> The                    </font></mark><mark style=\"background-color: hsl(120, 75%, 74%); opacity:1.0;                     line-height:1.75\"><font color=\"black\"> VLT                    </font></mark><mark style=\"background-color: hsl(120, 75%, 74%); opacity:1.0;                     line-height:1.75\"><font color=\"black\"> telescope                    </font></mark><mark style=\"background-color: hsl(120, 75%, 100%); opacity:1.0;                     line-height:1.75\"><font color=\"black\"> in                    </font></mark><mark style=\"background-color: hsl(120, 75%, 93%); opacity:1.0;                     line-height:1.75\"><font color=\"black\"> Chile                    </font></mark><mark style=\"background-color: hsl(0, 75%, 93%); opacity:1.0;                     line-height:1.75\"><font color=\"black\"> captured                    </font></mark><mark style=\"background-color: hsl(120, 75%, 98%); opacity:1.0;                     line-height:1.75\"><font color=\"black\"> an                    </font></mark><mark style=\"background-color: hsl(120, 75%, 89%); opacity:1.0;                     line-height:1.75\"><font color=\"black\"> image                    </font></mark><mark style=\"background-color: hsl(0, 75%, 99%); opacity:1.0;                     line-height:1.75\"><font color=\"black\"> of                    </font></mark><mark style=\"background-color: hsl(0, 75%, 96%); opacity:1.0;                     line-height:1.75\"><font color=\"black\"> the                    </font></mark><mark style=\"background-color: hsl(0, 75%, 97%); opacity:1.0;                     line-height:1.75\"><font color=\"black\"> Tar                    </font></mark><mark style=\"background-color: hsl(120, 75%, 100%); opacity:1.0;                     line-height:1.75\"><font color=\"black\"> ##ant                    </font></mark><mark style=\"background-color: hsl(120, 75%, 98%); opacity:1.0;                     line-height:1.75\"><font color=\"black\"> ##ula                    </font></mark><mark style=\"background-color: hsl(120, 75%, 95%); opacity:1.0;                     line-height:1.75\"><font color=\"black\"> Nebula                    </font></mark><mark style=\"background-color: hsl(0, 75%, 99%); opacity:1.0;                     line-height:1.75\"><font color=\"black\"> in                    </font></mark><mark style=\"background-color: hsl(0, 75%, 100%); opacity:1.0;                     line-height:1.75\"><font color=\"black\"> the                    </font></mark><mark style=\"background-color: hsl(120, 75%, 98%); opacity:1.0;                     line-height:1.75\"><font color=\"black\"> Large                    </font></mark><mark style=\"background-color: hsl(120, 75%, 96%); opacity:1.0;                     line-height:1.75\"><font color=\"black\"> Magellanic                    </font></mark><mark style=\"background-color: hsl(120, 75%, 99%); opacity:1.0;                     line-height:1.75\"><font color=\"black\"> Cloud                    </font></mark><mark style=\"background-color: hsl(120, 75%, 97%); opacity:1.0;                     line-height:1.75\"><font color=\"black\"> galaxy                    </font></mark><mark style=\"background-color: hsl(0, 75%, 84%); opacity:1.0;                     line-height:1.75\"><font color=\"black\"> .                    </font></mark><mark style=\"background-color: hsl(0, 75%, 100%); opacity:1.0;                     line-height:1.75\"><font color=\"black\"> [SEP]                    </font></mark></td><tr><tr><td><text style=\"padding-right:2em\"><b>B-Location</b></text></td><td><text style=\"padding-right:2em\"><b>B-Location (0.54)</b></text></td><td><text style=\"padding-right:2em\"><b>Chile</b></text></td><td><text style=\"padding-right:2em\"><b>1.63</b></text></td><td><mark style=\"background-color: hsl(0, 75%, 100%); opacity:1.0;                     line-height:1.75\"><font color=\"black\"> [CLS]                    </font></mark><mark style=\"background-color: hsl(120, 75%, 94%); opacity:1.0;                     line-height:1.75\"><font color=\"black\"> The                    </font></mark><mark style=\"background-color: hsl(0, 75%, 97%); opacity:1.0;                     line-height:1.75\"><font color=\"black\"> VLT                    </font></mark><mark style=\"background-color: hsl(120, 75%, 93%); opacity:1.0;                     line-height:1.75\"><font color=\"black\"> telescope                    </font></mark><mark style=\"background-color: hsl(120, 75%, 60%); opacity:1.0;                     line-height:1.75\"><font color=\"black\"> in                    </font></mark><mark style=\"background-color: hsl(120, 75%, 76%); opacity:1.0;                     line-height:1.75\"><font color=\"black\"> Chile                    </font></mark><mark style=\"background-color: hsl(0, 75%, 98%); opacity:1.0;                     line-height:1.75\"><font color=\"black\"> captured                    </font></mark><mark style=\"background-color: hsl(0, 75%, 99%); opacity:1.0;                     line-height:1.75\"><font color=\"black\"> an                    </font></mark><mark style=\"background-color: hsl(120, 75%, 99%); opacity:1.0;                     line-height:1.75\"><font color=\"black\"> image                    </font></mark><mark style=\"background-color: hsl(120, 75%, 92%); opacity:1.0;                     line-height:1.75\"><font color=\"black\"> of                    </font></mark><mark style=\"background-color: hsl(120, 75%, 97%); opacity:1.0;                     line-height:1.75\"><font color=\"black\"> the                    </font></mark><mark style=\"background-color: hsl(120, 75%, 99%); opacity:1.0;                     line-height:1.75\"><font color=\"black\"> Tar                    </font></mark><mark style=\"background-color: hsl(120, 75%, 99%); opacity:1.0;                     line-height:1.75\"><font color=\"black\"> ##ant                    </font></mark><mark style=\"background-color: hsl(0, 75%, 99%); opacity:1.0;                     line-height:1.75\"><font color=\"black\"> ##ula                    </font></mark><mark style=\"background-color: hsl(120, 75%, 96%); opacity:1.0;                     line-height:1.75\"><font color=\"black\"> Nebula                    </font></mark><mark style=\"background-color: hsl(0, 75%, 98%); opacity:1.0;                     line-height:1.75\"><font color=\"black\"> in                    </font></mark><mark style=\"background-color: hsl(120, 75%, 100%); opacity:1.0;                     line-height:1.75\"><font color=\"black\"> the                    </font></mark><mark style=\"background-color: hsl(0, 75%, 98%); opacity:1.0;                     line-height:1.75\"><font color=\"black\"> Large                    </font></mark><mark style=\"background-color: hsl(120, 75%, 99%); opacity:1.0;                     line-height:1.75\"><font color=\"black\"> Magellanic                    </font></mark><mark style=\"background-color: hsl(120, 75%, 99%); opacity:1.0;                     line-height:1.75\"><font color=\"black\"> Cloud                    </font></mark><mark style=\"background-color: hsl(0, 75%, 99%); opacity:1.0;                     line-height:1.75\"><font color=\"black\"> galaxy                    </font></mark><mark style=\"background-color: hsl(0, 75%, 98%); opacity:1.0;                     line-height:1.75\"><font color=\"black\"> .                    </font></mark><mark style=\"background-color: hsl(0, 75%, 100%); opacity:1.0;                     line-height:1.75\"><font color=\"black\"> [SEP]                    </font></mark></td><tr><tr><td><text style=\"padding-right:2em\"><b>B-CelestialObject</b></text></td><td><text style=\"padding-right:2em\"><b>B-CelestialObject (0.62)</b></text></td><td><text style=\"padding-right:2em\"><b>Tar</b></text></td><td><text style=\"padding-right:2em\"><b>2.93</b></text></td><td><mark style=\"background-color: hsl(0, 75%, 100%); opacity:1.0;                     line-height:1.75\"><font color=\"black\"> [CLS]                    </font></mark><mark style=\"background-color: hsl(120, 75%, 100%); opacity:1.0;                     line-height:1.75\"><font color=\"black\"> The                    </font></mark><mark style=\"background-color: hsl(120, 75%, 89%); opacity:1.0;                     line-height:1.75\"><font color=\"black\"> VLT                    </font></mark><mark style=\"background-color: hsl(120, 75%, 87%); opacity:1.0;                     line-height:1.75\"><font color=\"black\"> telescope                    </font></mark><mark style=\"background-color: hsl(0, 75%, 100%); opacity:1.0;                     line-height:1.75\"><font color=\"black\"> in                    </font></mark><mark style=\"background-color: hsl(120, 75%, 97%); opacity:1.0;                     line-height:1.75\"><font color=\"black\"> Chile                    </font></mark><mark style=\"background-color: hsl(120, 75%, 92%); opacity:1.0;                     line-height:1.75\"><font color=\"black\"> captured                    </font></mark><mark style=\"background-color: hsl(0, 75%, 100%); opacity:1.0;                     line-height:1.75\"><font color=\"black\"> an                    </font></mark><mark style=\"background-color: hsl(120, 75%, 94%); opacity:1.0;                     line-height:1.75\"><font color=\"black\"> image                    </font></mark><mark style=\"background-color: hsl(120, 75%, 100%); opacity:1.0;                     line-height:1.75\"><font color=\"black\"> of                    </font></mark><mark style=\"background-color: hsl(120, 75%, 90%); opacity:1.0;                     line-height:1.75\"><font color=\"black\"> the                    </font></mark><mark style=\"background-color: hsl(120, 75%, 80%); opacity:1.0;                     line-height:1.75\"><font color=\"black\"> Tar                    </font></mark><mark style=\"background-color: hsl(120, 75%, 89%); opacity:1.0;                     line-height:1.75\"><font color=\"black\"> ##ant                    </font></mark><mark style=\"background-color: hsl(120, 75%, 69%); opacity:1.0;                     line-height:1.75\"><font color=\"black\"> ##ula                    </font></mark><mark style=\"background-color: hsl(120, 75%, 93%); opacity:1.0;                     line-height:1.75\"><font color=\"black\"> Nebula                    </font></mark><mark style=\"background-color: hsl(120, 75%, 97%); opacity:1.0;                     line-height:1.75\"><font color=\"black\"> in                    </font></mark><mark style=\"background-color: hsl(0, 75%, 97%); opacity:1.0;                     line-height:1.75\"><font color=\"black\"> the                    </font></mark><mark style=\"background-color: hsl(120, 75%, 96%); opacity:1.0;                     line-height:1.75\"><font color=\"black\"> Large                    </font></mark><mark style=\"background-color: hsl(120, 75%, 97%); opacity:1.0;                     line-height:1.75\"><font color=\"black\"> Magellanic                    </font></mark><mark style=\"background-color: hsl(120, 75%, 97%); opacity:1.0;                     line-height:1.75\"><font color=\"black\"> Cloud                    </font></mark><mark style=\"background-color: hsl(120, 75%, 84%); opacity:1.0;                     line-height:1.75\"><font color=\"black\"> galaxy                    </font></mark><mark style=\"background-color: hsl(0, 75%, 97%); opacity:1.0;                     line-height:1.75\"><font color=\"black\"> .                    </font></mark><mark style=\"background-color: hsl(0, 75%, 100%); opacity:1.0;                     line-height:1.75\"><font color=\"black\"> [SEP]                    </font></mark></td><tr><tr><td><text style=\"padding-right:2em\"><b>I-CelestialObject</b></text></td><td><text style=\"padding-right:2em\"><b>I-CelestialObject (0.59)</b></text></td><td><text style=\"padding-right:2em\"><b>##ant</b></text></td><td><text style=\"padding-right:2em\"><b>0.85</b></text></td><td><mark style=\"background-color: hsl(0, 75%, 100%); opacity:1.0;                     line-height:1.75\"><font color=\"black\"> [CLS]                    </font></mark><mark style=\"background-color: hsl(0, 75%, 100%); opacity:1.0;                     line-height:1.75\"><font color=\"black\"> The                    </font></mark><mark style=\"background-color: hsl(0, 75%, 98%); opacity:1.0;                     line-height:1.75\"><font color=\"black\"> VLT                    </font></mark><mark style=\"background-color: hsl(120, 75%, 89%); opacity:1.0;                     line-height:1.75\"><font color=\"black\"> telescope                    </font></mark><mark style=\"background-color: hsl(120, 75%, 97%); opacity:1.0;                     line-height:1.75\"><font color=\"black\"> in                    </font></mark><mark style=\"background-color: hsl(0, 75%, 99%); opacity:1.0;                     line-height:1.75\"><font color=\"black\"> Chile                    </font></mark><mark style=\"background-color: hsl(120, 75%, 97%); opacity:1.0;                     line-height:1.75\"><font color=\"black\"> captured                    </font></mark><mark style=\"background-color: hsl(0, 75%, 100%); opacity:1.0;                     line-height:1.75\"><font color=\"black\"> an                    </font></mark><mark style=\"background-color: hsl(120, 75%, 94%); opacity:1.0;                     line-height:1.75\"><font color=\"black\"> image                    </font></mark><mark style=\"background-color: hsl(120, 75%, 95%); opacity:1.0;                     line-height:1.75\"><font color=\"black\"> of                    </font></mark><mark style=\"background-color: hsl(120, 75%, 92%); opacity:1.0;                     line-height:1.75\"><font color=\"black\"> the                    </font></mark><mark style=\"background-color: hsl(120, 75%, 84%); opacity:1.0;                     line-height:1.75\"><font color=\"black\"> Tar                    </font></mark><mark style=\"background-color: hsl(120, 75%, 78%); opacity:1.0;                     line-height:1.75\"><font color=\"black\"> ##ant                    </font></mark><mark style=\"background-color: hsl(120, 75%, 100%); opacity:1.0;                     line-height:1.75\"><font color=\"black\"> ##ula                    </font></mark><mark style=\"background-color: hsl(0, 75%, 92%); opacity:1.0;                     line-height:1.75\"><font color=\"black\"> Nebula                    </font></mark><mark style=\"background-color: hsl(120, 75%, 97%); opacity:1.0;                     line-height:1.75\"><font color=\"black\"> in                    </font></mark><mark style=\"background-color: hsl(0, 75%, 89%); opacity:1.0;                     line-height:1.75\"><font color=\"black\"> the                    </font></mark><mark style=\"background-color: hsl(120, 75%, 98%); opacity:1.0;                     line-height:1.75\"><font color=\"black\"> Large                    </font></mark><mark style=\"background-color: hsl(120, 75%, 99%); opacity:1.0;                     line-height:1.75\"><font color=\"black\"> Magellanic                    </font></mark><mark style=\"background-color: hsl(120, 75%, 97%); opacity:1.0;                     line-height:1.75\"><font color=\"black\"> Cloud                    </font></mark><mark style=\"background-color: hsl(120, 75%, 89%); opacity:1.0;                     line-height:1.75\"><font color=\"black\"> galaxy                    </font></mark><mark style=\"background-color: hsl(0, 75%, 77%); opacity:1.0;                     line-height:1.75\"><font color=\"black\"> .                    </font></mark><mark style=\"background-color: hsl(0, 75%, 100%); opacity:1.0;                     line-height:1.75\"><font color=\"black\"> [SEP]                    </font></mark></td><tr><tr><td><text style=\"padding-right:2em\"><b>I-CelestialObject</b></text></td><td><text style=\"padding-right:2em\"><b>I-CelestialObject (0.78)</b></text></td><td><text style=\"padding-right:2em\"><b>##ula</b></text></td><td><text style=\"padding-right:2em\"><b>1.22</b></text></td><td><mark style=\"background-color: hsl(0, 75%, 100%); opacity:1.0;                     line-height:1.75\"><font color=\"black\"> [CLS]                    </font></mark><mark style=\"background-color: hsl(120, 75%, 99%); opacity:1.0;                     line-height:1.75\"><font color=\"black\"> The                    </font></mark><mark style=\"background-color: hsl(120, 75%, 95%); opacity:1.0;                     line-height:1.75\"><font color=\"black\"> VLT                    </font></mark><mark style=\"background-color: hsl(120, 75%, 92%); opacity:1.0;                     line-height:1.75\"><font color=\"black\"> telescope                    </font></mark><mark style=\"background-color: hsl(120, 75%, 97%); opacity:1.0;                     line-height:1.75\"><font color=\"black\"> in                    </font></mark><mark style=\"background-color: hsl(0, 75%, 99%); opacity:1.0;                     line-height:1.75\"><font color=\"black\"> Chile                    </font></mark><mark style=\"background-color: hsl(120, 75%, 97%); opacity:1.0;                     line-height:1.75\"><font color=\"black\"> captured                    </font></mark><mark style=\"background-color: hsl(0, 75%, 100%); opacity:1.0;                     line-height:1.75\"><font color=\"black\"> an                    </font></mark><mark style=\"background-color: hsl(120, 75%, 94%); opacity:1.0;                     line-height:1.75\"><font color=\"black\"> image                    </font></mark><mark style=\"background-color: hsl(120, 75%, 97%); opacity:1.0;                     line-height:1.75\"><font color=\"black\"> of                    </font></mark><mark style=\"background-color: hsl(120, 75%, 96%); opacity:1.0;                     line-height:1.75\"><font color=\"black\"> the                    </font></mark><mark style=\"background-color: hsl(120, 75%, 83%); opacity:1.0;                     line-height:1.75\"><font color=\"black\"> Tar                    </font></mark><mark style=\"background-color: hsl(0, 75%, 100%); opacity:1.0;                     line-height:1.75\"><font color=\"black\"> ##ant                    </font></mark><mark style=\"background-color: hsl(120, 75%, 65%); opacity:1.0;                     line-height:1.75\"><font color=\"black\"> ##ula                    </font></mark><mark style=\"background-color: hsl(0, 75%, 91%); opacity:1.0;                     line-height:1.75\"><font color=\"black\"> Nebula                    </font></mark><mark style=\"background-color: hsl(0, 75%, 99%); opacity:1.0;                     line-height:1.75\"><font color=\"black\"> in                    </font></mark><mark style=\"background-color: hsl(0, 75%, 92%); opacity:1.0;                     line-height:1.75\"><font color=\"black\"> the                    </font></mark><mark style=\"background-color: hsl(120, 75%, 98%); opacity:1.0;                     line-height:1.75\"><font color=\"black\"> Large                    </font></mark><mark style=\"background-color: hsl(120, 75%, 99%); opacity:1.0;                     line-height:1.75\"><font color=\"black\"> Magellanic                    </font></mark><mark style=\"background-color: hsl(0, 75%, 100%); opacity:1.0;                     line-height:1.75\"><font color=\"black\"> Cloud                    </font></mark><mark style=\"background-color: hsl(120, 75%, 87%); opacity:1.0;                     line-height:1.75\"><font color=\"black\"> galaxy                    </font></mark><mark style=\"background-color: hsl(0, 75%, 87%); opacity:1.0;                     line-height:1.75\"><font color=\"black\"> .                    </font></mark><mark style=\"background-color: hsl(0, 75%, 100%); opacity:1.0;                     line-height:1.75\"><font color=\"black\"> [SEP]                    </font></mark></td><tr><tr><td><text style=\"padding-right:2em\"><b>I-CelestialObject</b></text></td><td><text style=\"padding-right:2em\"><b>I-CelestialObject (0.88)</b></text></td><td><text style=\"padding-right:2em\"><b>Nebula</b></text></td><td><text style=\"padding-right:2em\"><b>1.61</b></text></td><td><mark style=\"background-color: hsl(0, 75%, 100%); opacity:1.0;                     line-height:1.75\"><font color=\"black\"> [CLS]                    </font></mark><mark style=\"background-color: hsl(120, 75%, 98%); opacity:1.0;                     line-height:1.75\"><font color=\"black\"> The                    </font></mark><mark style=\"background-color: hsl(120, 75%, 95%); opacity:1.0;                     line-height:1.75\"><font color=\"black\"> VLT                    </font></mark><mark style=\"background-color: hsl(120, 75%, 94%); opacity:1.0;                     line-height:1.75\"><font color=\"black\"> telescope                    </font></mark><mark style=\"background-color: hsl(120, 75%, 97%); opacity:1.0;                     line-height:1.75\"><font color=\"black\"> in                    </font></mark><mark style=\"background-color: hsl(0, 75%, 100%); opacity:1.0;                     line-height:1.75\"><font color=\"black\"> Chile                    </font></mark><mark style=\"background-color: hsl(120, 75%, 92%); opacity:1.0;                     line-height:1.75\"><font color=\"black\"> captured                    </font></mark><mark style=\"background-color: hsl(0, 75%, 100%); opacity:1.0;                     line-height:1.75\"><font color=\"black\"> an                    </font></mark><mark style=\"background-color: hsl(120, 75%, 97%); opacity:1.0;                     line-height:1.75\"><font color=\"black\"> image                    </font></mark><mark style=\"background-color: hsl(0, 75%, 95%); opacity:1.0;                     line-height:1.75\"><font color=\"black\"> of                    </font></mark><mark style=\"background-color: hsl(0, 75%, 95%); opacity:1.0;                     line-height:1.75\"><font color=\"black\"> the                    </font></mark><mark style=\"background-color: hsl(120, 75%, 88%); opacity:1.0;                     line-height:1.75\"><font color=\"black\"> Tar                    </font></mark><mark style=\"background-color: hsl(0, 75%, 97%); opacity:1.0;                     line-height:1.75\"><font color=\"black\"> ##ant                    </font></mark><mark style=\"background-color: hsl(120, 75%, 69%); opacity:1.0;                     line-height:1.75\"><font color=\"black\"> ##ula                    </font></mark><mark style=\"background-color: hsl(0, 75%, 99%); opacity:1.0;                     line-height:1.75\"><font color=\"black\"> Nebula                    </font></mark><mark style=\"background-color: hsl(120, 75%, 90%); opacity:1.0;                     line-height:1.75\"><font color=\"black\"> in                    </font></mark><mark style=\"background-color: hsl(120, 75%, 98%); opacity:1.0;                     line-height:1.75\"><font color=\"black\"> the                    </font></mark><mark style=\"background-color: hsl(120, 75%, 94%); opacity:1.0;                     line-height:1.75\"><font color=\"black\"> Large                    </font></mark><mark style=\"background-color: hsl(120, 75%, 94%); opacity:1.0;                     line-height:1.75\"><font color=\"black\"> Magellanic                    </font></mark><mark style=\"background-color: hsl(120, 75%, 95%); opacity:1.0;                     line-height:1.75\"><font color=\"black\"> Cloud                    </font></mark><mark style=\"background-color: hsl(120, 75%, 82%); opacity:1.0;                     line-height:1.75\"><font color=\"black\"> galaxy                    </font></mark><mark style=\"background-color: hsl(0, 75%, 83%); opacity:1.0;                     line-height:1.75\"><font color=\"black\"> .                    </font></mark><mark style=\"background-color: hsl(0, 75%, 100%); opacity:1.0;                     line-height:1.75\"><font color=\"black\"> [SEP]                    </font></mark></td><tr><tr><td><text style=\"padding-right:2em\"><b>B-CelestialObject</b></text></td><td><text style=\"padding-right:2em\"><b>B-CelestialObject (0.61)</b></text></td><td><text style=\"padding-right:2em\"><b>Large</b></text></td><td><text style=\"padding-right:2em\"><b>2.67</b></text></td><td><mark style=\"background-color: hsl(0, 75%, 100%); opacity:1.0;                     line-height:1.75\"><font color=\"black\"> [CLS]                    </font></mark><mark style=\"background-color: hsl(120, 75%, 99%); opacity:1.0;                     line-height:1.75\"><font color=\"black\"> The                    </font></mark><mark style=\"background-color: hsl(0, 75%, 96%); opacity:1.0;                     line-height:1.75\"><font color=\"black\"> VLT                    </font></mark><mark style=\"background-color: hsl(120, 75%, 100%); opacity:1.0;                     line-height:1.75\"><font color=\"black\"> telescope                    </font></mark><mark style=\"background-color: hsl(120, 75%, 98%); opacity:1.0;                     line-height:1.75\"><font color=\"black\"> in                    </font></mark><mark style=\"background-color: hsl(0, 75%, 98%); opacity:1.0;                     line-height:1.75\"><font color=\"black\"> Chile                    </font></mark><mark style=\"background-color: hsl(120, 75%, 94%); opacity:1.0;                     line-height:1.75\"><font color=\"black\"> captured                    </font></mark><mark style=\"background-color: hsl(120, 75%, 100%); opacity:1.0;                     line-height:1.75\"><font color=\"black\"> an                    </font></mark><mark style=\"background-color: hsl(120, 75%, 100%); opacity:1.0;                     line-height:1.75\"><font color=\"black\"> image                    </font></mark><mark style=\"background-color: hsl(120, 75%, 98%); opacity:1.0;                     line-height:1.75\"><font color=\"black\"> of                    </font></mark><mark style=\"background-color: hsl(120, 75%, 96%); opacity:1.0;                     line-height:1.75\"><font color=\"black\"> the                    </font></mark><mark style=\"background-color: hsl(120, 75%, 88%); opacity:1.0;                     line-height:1.75\"><font color=\"black\"> Tar                    </font></mark><mark style=\"background-color: hsl(120, 75%, 89%); opacity:1.0;                     line-height:1.75\"><font color=\"black\"> ##ant                    </font></mark><mark style=\"background-color: hsl(120, 75%, 87%); opacity:1.0;                     line-height:1.75\"><font color=\"black\"> ##ula                    </font></mark><mark style=\"background-color: hsl(120, 75%, 81%); opacity:1.0;                     line-height:1.75\"><font color=\"black\"> Nebula                    </font></mark><mark style=\"background-color: hsl(0, 75%, 98%); opacity:1.0;                     line-height:1.75\"><font color=\"black\"> in                    </font></mark><mark style=\"background-color: hsl(0, 75%, 96%); opacity:1.0;                     line-height:1.75\"><font color=\"black\"> the                    </font></mark><mark style=\"background-color: hsl(120, 75%, 77%); opacity:1.0;                     line-height:1.75\"><font color=\"black\"> Large                    </font></mark><mark style=\"background-color: hsl(120, 75%, 75%); opacity:1.0;                     line-height:1.75\"><font color=\"black\"> Magellanic                    </font></mark><mark style=\"background-color: hsl(120, 75%, 89%); opacity:1.0;                     line-height:1.75\"><font color=\"black\"> Cloud                    </font></mark><mark style=\"background-color: hsl(120, 75%, 87%); opacity:1.0;                     line-height:1.75\"><font color=\"black\"> galaxy                    </font></mark><mark style=\"background-color: hsl(120, 75%, 100%); opacity:1.0;                     line-height:1.75\"><font color=\"black\"> .                    </font></mark><mark style=\"background-color: hsl(0, 75%, 100%); opacity:1.0;                     line-height:1.75\"><font color=\"black\"> [SEP]                    </font></mark></td><tr><tr><td><text style=\"padding-right:2em\"><b>I-CelestialObject</b></text></td><td><text style=\"padding-right:2em\"><b>I-CelestialObject (0.72)</b></text></td><td><text style=\"padding-right:2em\"><b>Magellanic</b></text></td><td><text style=\"padding-right:2em\"><b>1.11</b></text></td><td><mark style=\"background-color: hsl(0, 75%, 100%); opacity:1.0;                     line-height:1.75\"><font color=\"black\"> [CLS]                    </font></mark><mark style=\"background-color: hsl(120, 75%, 99%); opacity:1.0;                     line-height:1.75\"><font color=\"black\"> The                    </font></mark><mark style=\"background-color: hsl(120, 75%, 100%); opacity:1.0;                     line-height:1.75\"><font color=\"black\"> VLT                    </font></mark><mark style=\"background-color: hsl(120, 75%, 98%); opacity:1.0;                     line-height:1.75\"><font color=\"black\"> telescope                    </font></mark><mark style=\"background-color: hsl(120, 75%, 100%); opacity:1.0;                     line-height:1.75\"><font color=\"black\"> in                    </font></mark><mark style=\"background-color: hsl(0, 75%, 97%); opacity:1.0;                     line-height:1.75\"><font color=\"black\"> Chile                    </font></mark><mark style=\"background-color: hsl(120, 75%, 98%); opacity:1.0;                     line-height:1.75\"><font color=\"black\"> captured                    </font></mark><mark style=\"background-color: hsl(120, 75%, 100%); opacity:1.0;                     line-height:1.75\"><font color=\"black\"> an                    </font></mark><mark style=\"background-color: hsl(120, 75%, 96%); opacity:1.0;                     line-height:1.75\"><font color=\"black\"> image                    </font></mark><mark style=\"background-color: hsl(120, 75%, 96%); opacity:1.0;                     line-height:1.75\"><font color=\"black\"> of                    </font></mark><mark style=\"background-color: hsl(120, 75%, 96%); opacity:1.0;                     line-height:1.75\"><font color=\"black\"> the                    </font></mark><mark style=\"background-color: hsl(120, 75%, 98%); opacity:1.0;                     line-height:1.75\"><font color=\"black\"> Tar                    </font></mark><mark style=\"background-color: hsl(0, 75%, 99%); opacity:1.0;                     line-height:1.75\"><font color=\"black\"> ##ant                    </font></mark><mark style=\"background-color: hsl(120, 75%, 97%); opacity:1.0;                     line-height:1.75\"><font color=\"black\"> ##ula                    </font></mark><mark style=\"background-color: hsl(120, 75%, 87%); opacity:1.0;                     line-height:1.75\"><font color=\"black\"> Nebula                    </font></mark><mark style=\"background-color: hsl(0, 75%, 93%); opacity:1.0;                     line-height:1.75\"><font color=\"black\"> in                    </font></mark><mark style=\"background-color: hsl(0, 75%, 92%); opacity:1.0;                     line-height:1.75\"><font color=\"black\"> the                    </font></mark><mark style=\"background-color: hsl(120, 75%, 96%); opacity:1.0;                     line-height:1.75\"><font color=\"black\"> Large                    </font></mark><mark style=\"background-color: hsl(120, 75%, 62%); opacity:1.0;                     line-height:1.75\"><font color=\"black\"> Magellanic                    </font></mark><mark style=\"background-color: hsl(120, 75%, 98%); opacity:1.0;                     line-height:1.75\"><font color=\"black\"> Cloud                    </font></mark><mark style=\"background-color: hsl(120, 75%, 89%); opacity:1.0;                     line-height:1.75\"><font color=\"black\"> galaxy                    </font></mark><mark style=\"background-color: hsl(0, 75%, 86%); opacity:1.0;                     line-height:1.75\"><font color=\"black\"> .                    </font></mark><mark style=\"background-color: hsl(0, 75%, 100%); opacity:1.0;                     line-height:1.75\"><font color=\"black\"> [SEP]                    </font></mark></td><tr><tr><td><text style=\"padding-right:2em\"><b>I-CelestialObject</b></text></td><td><text style=\"padding-right:2em\"><b>I-CelestialObject (0.87)</b></text></td><td><text style=\"padding-right:2em\"><b>Cloud</b></text></td><td><text style=\"padding-right:2em\"><b>0.94</b></text></td><td><mark style=\"background-color: hsl(0, 75%, 100%); opacity:1.0;                     line-height:1.75\"><font color=\"black\"> [CLS]                    </font></mark><mark style=\"background-color: hsl(120, 75%, 96%); opacity:1.0;                     line-height:1.75\"><font color=\"black\"> The                    </font></mark><mark style=\"background-color: hsl(0, 75%, 99%); opacity:1.0;                     line-height:1.75\"><font color=\"black\"> VLT                    </font></mark><mark style=\"background-color: hsl(0, 75%, 98%); opacity:1.0;                     line-height:1.75\"><font color=\"black\"> telescope                    </font></mark><mark style=\"background-color: hsl(120, 75%, 97%); opacity:1.0;                     line-height:1.75\"><font color=\"black\"> in                    </font></mark><mark style=\"background-color: hsl(0, 75%, 94%); opacity:1.0;                     line-height:1.75\"><font color=\"black\"> Chile                    </font></mark><mark style=\"background-color: hsl(120, 75%, 90%); opacity:1.0;                     line-height:1.75\"><font color=\"black\"> captured                    </font></mark><mark style=\"background-color: hsl(120, 75%, 98%); opacity:1.0;                     line-height:1.75\"><font color=\"black\"> an                    </font></mark><mark style=\"background-color: hsl(120, 75%, 92%); opacity:1.0;                     line-height:1.75\"><font color=\"black\"> image                    </font></mark><mark style=\"background-color: hsl(120, 75%, 90%); opacity:1.0;                     line-height:1.75\"><font color=\"black\"> of                    </font></mark><mark style=\"background-color: hsl(120, 75%, 91%); opacity:1.0;                     line-height:1.75\"><font color=\"black\"> the                    </font></mark><mark style=\"background-color: hsl(120, 75%, 99%); opacity:1.0;                     line-height:1.75\"><font color=\"black\"> Tar                    </font></mark><mark style=\"background-color: hsl(0, 75%, 100%); opacity:1.0;                     line-height:1.75\"><font color=\"black\"> ##ant                    </font></mark><mark style=\"background-color: hsl(0, 75%, 98%); opacity:1.0;                     line-height:1.75\"><font color=\"black\"> ##ula                    </font></mark><mark style=\"background-color: hsl(120, 75%, 88%); opacity:1.0;                     line-height:1.75\"><font color=\"black\"> Nebula                    </font></mark><mark style=\"background-color: hsl(0, 75%, 86%); opacity:1.0;                     line-height:1.75\"><font color=\"black\"> in                    </font></mark><mark style=\"background-color: hsl(0, 75%, 83%); opacity:1.0;                     line-height:1.75\"><font color=\"black\"> the                    </font></mark><mark style=\"background-color: hsl(120, 75%, 94%); opacity:1.0;                     line-height:1.75\"><font color=\"black\"> Large                    </font></mark><mark style=\"background-color: hsl(120, 75%, 87%); opacity:1.0;                     line-height:1.75\"><font color=\"black\"> Magellanic                    </font></mark><mark style=\"background-color: hsl(120, 75%, 100%); opacity:1.0;                     line-height:1.75\"><font color=\"black\"> Cloud                    </font></mark><mark style=\"background-color: hsl(120, 75%, 73%); opacity:1.0;                     line-height:1.75\"><font color=\"black\"> galaxy                    </font></mark><mark style=\"background-color: hsl(0, 75%, 94%); opacity:1.0;                     line-height:1.75\"><font color=\"black\"> .                    </font></mark><mark style=\"background-color: hsl(0, 75%, 100%); opacity:1.0;                     line-height:1.75\"><font color=\"black\"> [SEP]                    </font></mark></td><tr></table>"
            ]
          },
          "metadata": {}
        }
      ]
    }
  ],
  "metadata": {
    "interpreter": {
      "hash": "9c8f96ea35162dbd38aade767cddd21b2379c042e1e2d3cef41825d090a191d5"
    },
    "kernelspec": {
      "display_name": "Python 3",
      "name": "python3"
    },
    "language_info": {
      "codemirror_mode": {
        "name": "ipython",
        "version": 3
      },
      "file_extension": ".py",
      "mimetype": "text/x-python",
      "name": "python",
      "nbconvert_exporter": "python",
      "pygments_lexer": "ipython3",
      "version": "3.9.5"
    },
    "orig_nbformat": 4,
    "colab": {
      "provenance": [],
      "collapsed_sections": [
        "57CoOcAUKwXB",
        "g_7CmiS8eksi",
        "JKMHdb6qenNW"
      ],
      "include_colab_link": true
    },
    "widgets": {
      "application/vnd.jupyter.widget-state+json": {
        "6b0fe6d46de34fa3b0ebf2d2f206ef20": {
          "model_module": "@jupyter-widgets/controls",
          "model_name": "HBoxModel",
          "model_module_version": "1.5.0",
          "state": {
            "_dom_classes": [],
            "_model_module": "@jupyter-widgets/controls",
            "_model_module_version": "1.5.0",
            "_model_name": "HBoxModel",
            "_view_count": null,
            "_view_module": "@jupyter-widgets/controls",
            "_view_module_version": "1.5.0",
            "_view_name": "HBoxView",
            "box_style": "",
            "children": [
              "IPY_MODEL_e20abd179f91491aa22f174700479e0d",
              "IPY_MODEL_1031ba81e9ed408b9cea531a1054d494",
              "IPY_MODEL_565132558b7d405c8b8f244bfd5e4fa9"
            ],
            "layout": "IPY_MODEL_ccf06faf9c1d40b5b3f5cdda743ac199"
          }
        },
        "e20abd179f91491aa22f174700479e0d": {
          "model_module": "@jupyter-widgets/controls",
          "model_name": "HTMLModel",
          "model_module_version": "1.5.0",
          "state": {
            "_dom_classes": [],
            "_model_module": "@jupyter-widgets/controls",
            "_model_module_version": "1.5.0",
            "_model_name": "HTMLModel",
            "_view_count": null,
            "_view_module": "@jupyter-widgets/controls",
            "_view_module_version": "1.5.0",
            "_view_name": "HTMLView",
            "description": "",
            "description_tooltip": null,
            "layout": "IPY_MODEL_42ac9fcd07e44f98850e2a1d4a947172",
            "placeholder": "​",
            "style": "IPY_MODEL_039ae68f2bc64f2bac0c51f129795036",
            "value": " 10%"
          }
        },
        "1031ba81e9ed408b9cea531a1054d494": {
          "model_module": "@jupyter-widgets/controls",
          "model_name": "FloatProgressModel",
          "model_module_version": "1.5.0",
          "state": {
            "_dom_classes": [],
            "_model_module": "@jupyter-widgets/controls",
            "_model_module_version": "1.5.0",
            "_model_name": "FloatProgressModel",
            "_view_count": null,
            "_view_module": "@jupyter-widgets/controls",
            "_view_module_version": "1.5.0",
            "_view_name": "ProgressView",
            "bar_style": "danger",
            "description": "",
            "description_tooltip": null,
            "layout": "IPY_MODEL_f50adc85a762415fbde17d29b3583073",
            "max": 498,
            "min": 0,
            "orientation": "horizontal",
            "style": "IPY_MODEL_3ef9ee61d3be4fb5bdc5ed13c04f9cd7",
            "value": 48
          }
        },
        "565132558b7d405c8b8f244bfd5e4fa9": {
          "model_module": "@jupyter-widgets/controls",
          "model_name": "HTMLModel",
          "model_module_version": "1.5.0",
          "state": {
            "_dom_classes": [],
            "_model_module": "@jupyter-widgets/controls",
            "_model_module_version": "1.5.0",
            "_model_name": "HTMLModel",
            "_view_count": null,
            "_view_module": "@jupyter-widgets/controls",
            "_view_module_version": "1.5.0",
            "_view_name": "HTMLView",
            "description": "",
            "description_tooltip": null,
            "layout": "IPY_MODEL_2ce6f33fa40f41b4bb85ecf34725e7f8",
            "placeholder": "​",
            "style": "IPY_MODEL_ef2acc982d3c406c8486dcd302c23529",
            "value": " 48/498 [00:31&lt;05:14,  1.43it/s]"
          }
        },
        "ccf06faf9c1d40b5b3f5cdda743ac199": {
          "model_module": "@jupyter-widgets/base",
          "model_name": "LayoutModel",
          "model_module_version": "1.2.0",
          "state": {
            "_model_module": "@jupyter-widgets/base",
            "_model_module_version": "1.2.0",
            "_model_name": "LayoutModel",
            "_view_count": null,
            "_view_module": "@jupyter-widgets/base",
            "_view_module_version": "1.2.0",
            "_view_name": "LayoutView",
            "align_content": null,
            "align_items": null,
            "align_self": null,
            "border": null,
            "bottom": null,
            "display": null,
            "flex": null,
            "flex_flow": null,
            "grid_area": null,
            "grid_auto_columns": null,
            "grid_auto_flow": null,
            "grid_auto_rows": null,
            "grid_column": null,
            "grid_gap": null,
            "grid_row": null,
            "grid_template_areas": null,
            "grid_template_columns": null,
            "grid_template_rows": null,
            "height": null,
            "justify_content": null,
            "justify_items": null,
            "left": null,
            "margin": null,
            "max_height": null,
            "max_width": null,
            "min_height": null,
            "min_width": null,
            "object_fit": null,
            "object_position": null,
            "order": null,
            "overflow": null,
            "overflow_x": null,
            "overflow_y": null,
            "padding": null,
            "right": null,
            "top": null,
            "visibility": null,
            "width": null
          }
        },
        "42ac9fcd07e44f98850e2a1d4a947172": {
          "model_module": "@jupyter-widgets/base",
          "model_name": "LayoutModel",
          "model_module_version": "1.2.0",
          "state": {
            "_model_module": "@jupyter-widgets/base",
            "_model_module_version": "1.2.0",
            "_model_name": "LayoutModel",
            "_view_count": null,
            "_view_module": "@jupyter-widgets/base",
            "_view_module_version": "1.2.0",
            "_view_name": "LayoutView",
            "align_content": null,
            "align_items": null,
            "align_self": null,
            "border": null,
            "bottom": null,
            "display": null,
            "flex": null,
            "flex_flow": null,
            "grid_area": null,
            "grid_auto_columns": null,
            "grid_auto_flow": null,
            "grid_auto_rows": null,
            "grid_column": null,
            "grid_gap": null,
            "grid_row": null,
            "grid_template_areas": null,
            "grid_template_columns": null,
            "grid_template_rows": null,
            "height": null,
            "justify_content": null,
            "justify_items": null,
            "left": null,
            "margin": null,
            "max_height": null,
            "max_width": null,
            "min_height": null,
            "min_width": null,
            "object_fit": null,
            "object_position": null,
            "order": null,
            "overflow": null,
            "overflow_x": null,
            "overflow_y": null,
            "padding": null,
            "right": null,
            "top": null,
            "visibility": null,
            "width": null
          }
        },
        "039ae68f2bc64f2bac0c51f129795036": {
          "model_module": "@jupyter-widgets/controls",
          "model_name": "DescriptionStyleModel",
          "model_module_version": "1.5.0",
          "state": {
            "_model_module": "@jupyter-widgets/controls",
            "_model_module_version": "1.5.0",
            "_model_name": "DescriptionStyleModel",
            "_view_count": null,
            "_view_module": "@jupyter-widgets/base",
            "_view_module_version": "1.2.0",
            "_view_name": "StyleView",
            "description_width": ""
          }
        },
        "f50adc85a762415fbde17d29b3583073": {
          "model_module": "@jupyter-widgets/base",
          "model_name": "LayoutModel",
          "model_module_version": "1.2.0",
          "state": {
            "_model_module": "@jupyter-widgets/base",
            "_model_module_version": "1.2.0",
            "_model_name": "LayoutModel",
            "_view_count": null,
            "_view_module": "@jupyter-widgets/base",
            "_view_module_version": "1.2.0",
            "_view_name": "LayoutView",
            "align_content": null,
            "align_items": null,
            "align_self": null,
            "border": null,
            "bottom": null,
            "display": null,
            "flex": null,
            "flex_flow": null,
            "grid_area": null,
            "grid_auto_columns": null,
            "grid_auto_flow": null,
            "grid_auto_rows": null,
            "grid_column": null,
            "grid_gap": null,
            "grid_row": null,
            "grid_template_areas": null,
            "grid_template_columns": null,
            "grid_template_rows": null,
            "height": null,
            "justify_content": null,
            "justify_items": null,
            "left": null,
            "margin": null,
            "max_height": null,
            "max_width": null,
            "min_height": null,
            "min_width": null,
            "object_fit": null,
            "object_position": null,
            "order": null,
            "overflow": null,
            "overflow_x": null,
            "overflow_y": null,
            "padding": null,
            "right": null,
            "top": null,
            "visibility": null,
            "width": null
          }
        },
        "3ef9ee61d3be4fb5bdc5ed13c04f9cd7": {
          "model_module": "@jupyter-widgets/controls",
          "model_name": "ProgressStyleModel",
          "model_module_version": "1.5.0",
          "state": {
            "_model_module": "@jupyter-widgets/controls",
            "_model_module_version": "1.5.0",
            "_model_name": "ProgressStyleModel",
            "_view_count": null,
            "_view_module": "@jupyter-widgets/base",
            "_view_module_version": "1.2.0",
            "_view_name": "StyleView",
            "bar_color": null,
            "description_width": ""
          }
        },
        "2ce6f33fa40f41b4bb85ecf34725e7f8": {
          "model_module": "@jupyter-widgets/base",
          "model_name": "LayoutModel",
          "model_module_version": "1.2.0",
          "state": {
            "_model_module": "@jupyter-widgets/base",
            "_model_module_version": "1.2.0",
            "_model_name": "LayoutModel",
            "_view_count": null,
            "_view_module": "@jupyter-widgets/base",
            "_view_module_version": "1.2.0",
            "_view_name": "LayoutView",
            "align_content": null,
            "align_items": null,
            "align_self": null,
            "border": null,
            "bottom": null,
            "display": null,
            "flex": null,
            "flex_flow": null,
            "grid_area": null,
            "grid_auto_columns": null,
            "grid_auto_flow": null,
            "grid_auto_rows": null,
            "grid_column": null,
            "grid_gap": null,
            "grid_row": null,
            "grid_template_areas": null,
            "grid_template_columns": null,
            "grid_template_rows": null,
            "height": null,
            "justify_content": null,
            "justify_items": null,
            "left": null,
            "margin": null,
            "max_height": null,
            "max_width": null,
            "min_height": null,
            "min_width": null,
            "object_fit": null,
            "object_position": null,
            "order": null,
            "overflow": null,
            "overflow_x": null,
            "overflow_y": null,
            "padding": null,
            "right": null,
            "top": null,
            "visibility": null,
            "width": null
          }
        },
        "ef2acc982d3c406c8486dcd302c23529": {
          "model_module": "@jupyter-widgets/controls",
          "model_name": "DescriptionStyleModel",
          "model_module_version": "1.5.0",
          "state": {
            "_model_module": "@jupyter-widgets/controls",
            "_model_module_version": "1.5.0",
            "_model_name": "DescriptionStyleModel",
            "_view_count": null,
            "_view_module": "@jupyter-widgets/base",
            "_view_module_version": "1.2.0",
            "_view_name": "StyleView",
            "description_width": ""
          }
        }
      }
    }
  },
  "nbformat": 4,
  "nbformat_minor": 0
}